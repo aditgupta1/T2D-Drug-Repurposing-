{
 "cells": [
  {
   "cell_type": "markdown",
   "metadata": {},
   "source": [
    "### Includes all rank sum tests of known obesity drugs"
   ]
  },
  {
   "cell_type": "code",
   "execution_count": 1,
   "metadata": {},
   "outputs": [],
   "source": [
    "import numpy as np\n",
    "import pandas as pd\n",
    "import scipy\n",
    "from scipy import stats\n",
    "import matplotlib as mpl \n",
    "import matplotlib.pyplot as plt \n",
    "import seaborn as sns"
   ]
  },
  {
   "cell_type": "code",
   "execution_count": 2,
   "metadata": {},
   "outputs": [],
   "source": [
    "csfont = {'fontname':'Arial'}\n"
   ]
  },
  {
   "cell_type": "code",
   "execution_count": 3,
   "metadata": {},
   "outputs": [],
   "source": [
    "obe_background_synthetic = np.array([])"
   ]
  },
  {
   "cell_type": "code",
   "execution_count": 4,
   "metadata": {},
   "outputs": [],
   "source": [
    "obe_gene_set = np.array([])"
   ]
  },
  {
   "cell_type": "code",
   "execution_count": 5,
   "metadata": {},
   "outputs": [],
   "source": [
    "#scipy.stats.mannwhitneyu(chol_background_synthetic, chol_gene_set)"
   ]
  },
  {
   "cell_type": "code",
   "execution_count": 6,
   "metadata": {},
   "outputs": [],
   "source": [
    "obe_all_percentile= np.array([0.0,.01,.02,.03,.04,.05,.06,.07,.08,.09,.1,.11,.12,.13,.14,.15,.16,.17,.18,.19,.20,.21,.22,.23,.24,.25,.26,.27,.28,.29,.3,.31,.32,.33,.34,.35,.36,.37,.38,.39,.4,.41,.42,.43,.44,.45,.46,.47,.48,.49,.5,.51,.52,.53,.54,.55,.56,.57,.58,.59,.6,.61,.62,.63,.64,.65,.66,.67,.68,.69,.7,.71,.72,.73,.74,.75,.76,.77,.78,.79,.80,.81,.82,.83,.84,.85,.86,.87,.88,.89,.9,.91,.92,.93,.94,.95,.96,.97,.98,.99])"
   ]
  },
  {
   "cell_type": "code",
   "execution_count": 7,
   "metadata": {},
   "outputs": [],
   "source": [
    "obe_gene_set_percentile = ([])"
   ]
  },
  {
   "cell_type": "code",
   "execution_count": 8,
   "metadata": {},
   "outputs": [],
   "source": [
    "data_to_plot = [obe_all_percentile, obe_gene_set_percentile]"
   ]
  },
  {
   "cell_type": "code",
   "execution_count": 9,
   "metadata": {},
   "outputs": [
    {
     "data": {
      "image/png": "[encoded data removed]",
      "text/plain": [
       "<Figure size 648x432 with 1 Axes>"
      ]
     },
     "metadata": {},
     "output_type": "display_data"
    }
   ],
   "source": [
    "obe = plt.figure(1, figsize=(9, 6))\n",
    "ax = obe.add_subplot(111)\n",
    "bp = ax.boxplot(data_to_plot)\n",
    "ax.set_xticklabels(['Background', 'Obesity Gene Set'])\n",
    "ax.set_ylabel('Rank Percentile')\n",
    "ax.set_title('Associations with Known Obesity Drug Targets')\n",
    "obe.savefig('all_burden_obe_genes.png', bbox_inches='tight')"
   ]
  },
  {
   "cell_type": "code",
   "execution_count": 10,
   "metadata": {},
   "outputs": [],
   "source": [
    "bmi_obe_synthetic = np.array([0.00079371,0.0038529, 0.0038692, 0.011781, 0.016211, 0.020746,0.023691,0.025932,0.031883,0.03346,0.034047,0.042854,0.045173,0.050497,0.050799, 0.052086,0.052312,0.057919,0.064807,0.071449,0.076924,0.077906,0.082264,0.089912,0.091958,0.1219,0.12432,0.13278,0.1383,0.14031,0.14055,0.14078,0.1431,0.14611,0.14673,0.14708,0.16128,0.16421,0.16679,0.16906,0.17604,0.1802,0.18065,0.18321,0.18527,0.20456,0.20575,0.20709,0.21287,0.21325,0.21722,0.21781,0.23288,0.23341,0.23601,0.2409,0.24554,0.24683,0.25484,0.25776,0.27397,0.28105,0.29017,0.29022,0.29842,0.29855,0.30654,0.31335,0.37021,0.39238,0.39683,0.40993,0.41709,0.42105, 0.42813,0.43352,0.46393,0.47006,0.49413,0.50238,0.51816,0.54151,0.5448,0.55668,0.56105,0.56837,0.58265,0.58482,0.58714, 0.65654, 0.748320,.87922])"
   ]
  },
  {
   "cell_type": "code",
   "execution_count": 11,
   "metadata": {},
   "outputs": [],
   "source": [
    "bmi_obe_gene_set = np.array([0.038769,0.046915,0.11692,0.20395,0.35033,0.57699])"
   ]
  },
  {
   "cell_type": "code",
   "execution_count": 12,
   "metadata": {},
   "outputs": [
    {
     "data": {
      "text/plain": [
       "MannwhitneyuResult(statistic=248.0, pvalue=0.34181744546730886)"
      ]
     },
     "execution_count": 12,
     "metadata": {},
     "output_type": "execute_result"
    }
   ],
   "source": [
    "scipy.stats.mannwhitneyu(bmi_obe_gene_set, bmi_obe_synthetic, alternative = 'less') #testing for significance for bmi and the 8 gene 'gene set'"
   ]
  },
  {
   "cell_type": "code",
   "execution_count": 13,
   "metadata": {},
   "outputs": [],
   "source": [
    "bmi_obe_all_percentile = np.array([0.0,.01,.02,.03,.04,.05,.06,.07,.08,.09,.1,.11,.12,.13,.14,.15,.16,.17,.18,.19,.20,.21,.22,.23,.24,.25,.26,.27,.28,.29,.3,.31,.32,.33,.34,.35,.36,.37,.38,.39,.4,.41,.42,.43,.44,.45,.46,.47,.48,.49,.5,.51,.52,.53,.54,.55,.56,.57,.58,.59,.6,.61,.62,.63,.64,.65,.66,.67,.68,.69,.7,.71,.72,.73,.74,.75,.76,.77,.78,.79,.80,.81,.82,.83,.84,.85,.86,.87,.88,.89,.9,.91,.92,.93,.94,.95,.96,.97,.98,.99])"
   ]
  },
  {
   "cell_type": "code",
   "execution_count": 14,
   "metadata": {},
   "outputs": [],
   "source": [
    "bmi_obe_gene_set_percentile = np.array([0.8775510204,0.8469387755,0.7142857143,0.5,0.2551020408,0.0612244898])"
   ]
  },
  {
   "cell_type": "code",
   "execution_count": 15,
   "metadata": {},
   "outputs": [],
   "source": [
    "bmi_plot = [bmi_obe_all_percentile, bmi_obe_gene_set_percentile]"
   ]
  },
  {
   "cell_type": "code",
   "execution_count": 16,
   "metadata": {},
   "outputs": [
    {
     "data": {
      "image/png": "[encoded data removed]",
      "text/plain": [
       "<Figure size 648x432 with 1 Axes>"
      ]
     },
     "metadata": {},
     "output_type": "display_data"
    }
   ],
   "source": [
    "bmi_fig = plt.figure(1, figsize=(9, 6))\n",
    "ax_bmi = bmi_fig.add_subplot(111)\n",
    "bp = ax_bmi.boxplot(bmi_plot)\n",
    "ax_bmi.set_xticklabels(['Background', 'Obesity Gene Set'],**csfont)\n",
    "ax_bmi.set_ylabel('Rank Percentile',**csfont)\n",
    "ax_bmi.set_title(\"BMI Association with Known Obesity Drug Targets (p = 0.34182)\",**csfont)\n",
    "bmi_fig.savefig('obe_known_bmi3.png', bbox_inches='tight', dpi = 600)\n"
   ]
  },
  {
   "cell_type": "code",
   "execution_count": 17,
   "metadata": {},
   "outputs": [],
   "source": [
    "fast_insulin_obe_synthetic = np.array([0.001082,0.0016243,0.0032657,0.00684,0.020092,0.020111,0.025561,0.027516,0.03451,0.039758,0.039967,0.040977,0.043761,0.045895,0.046694,0.059579,0.062997,0.064848,0.066645,0.075656,0.079519,0.081533,0.082935,0.085064,0.092022,0.095618,0.1207,0.13698,0.14036,0.14585,0.15562,0.15628,0.15647,0.16976,0.17064,0.17182,0.17717,0.18694,0.18819,0.19511,0.20046,0.20225,0.21469,0.22138,0.22344,0.23146,0.2511,0.25628,0.26565,0.2745,0.28223,0.28629,0.28879,0.31492,0.31855,0.32806,0.33531,0.34331,0.3453,0.34985,0.35149,0.35653,0.36748,0.37015,0.37892,0.38481,0.39798,0.44337,0.44639,0.45117,0.45477,0.45665,0.49636,0.51422,0.52191,0.53849,0.54477,0.54534,0.54534,0.58669,0.59918,0.6225,0.64193,0.64866,0.68637,0.68832,0.69885,0.79252,0.79313,0.83817,0.87012,0.92403])"
   ]
  },
  {
   "cell_type": "code",
   "execution_count": 18,
   "metadata": {},
   "outputs": [],
   "source": [
    "fast_insulin_obe_gene_set = np.array([0.025294,0.098682,0.24857,0.31641,0.414,0.47783])"
   ]
  },
  {
   "cell_type": "code",
   "execution_count": 19,
   "metadata": {},
   "outputs": [
    {
     "data": {
      "text/plain": [
       "MannwhitneyuResult(statistic=271.0, pvalue=0.4734168962856598)"
      ]
     },
     "execution_count": 19,
     "metadata": {},
     "output_type": "execute_result"
    }
   ],
   "source": [
    "scipy.stats.mannwhitneyu(fast_insulin_obe_gene_set, fast_insulin_obe_synthetic, alternative = 'less') #testing for significance for bmi and the 8 gene 'gene set'"
   ]
  },
  {
   "cell_type": "code",
   "execution_count": 20,
   "metadata": {},
   "outputs": [],
   "source": [
    "fast_insulin_obe_all_percentile = np.array([0.0,.01,.02,.03,.04,.05,.06,.07,.08,.09,.1,.11,.12,.13,.14,.15,.16,.17,.18,.19,.20,.21,.22,.23,.24,.25,.26,.27,.28,.29,.3,.31,.32,.33,.34,.35,.36,.37,.38,.39,.4,.41,.42,.43,.44,.45,.46,.47,.48,.49,.5,.51,.52,.53,.54,.55,.56,.57,.58,.59,.6,.61,.62,.63,.64,.65,.66,.67,.68,.69,.7,.71,.72,.73,.74,.75,.76,.77,.78,.79,.80,.81,.82,.83,.84,.85,.86,.87,.88,.89,.9,.91,.92,.93,.94,.95,.96,.97,.98,.99])"
   ]
  },
  {
   "cell_type": "code",
   "execution_count": 21,
   "metadata": {},
   "outputs": [],
   "source": [
    "fast_insulin_obe_gene_set_percentile = np.array([0.9285714286,0.7142857143,0.5,0.4081632653,0.2653061224,0.2040816327])"
   ]
  },
  {
   "cell_type": "code",
   "execution_count": 22,
   "metadata": {},
   "outputs": [],
   "source": [
    "fast_ins_plot = [fast_insulin_obe_all_percentile,fast_insulin_obe_gene_set_percentile]"
   ]
  },
  {
   "cell_type": "code",
   "execution_count": 23,
   "metadata": {},
   "outputs": [
    {
     "data": {
      "image/png": "[encoded data removed]",
      "text/plain": [
       "<Figure size 648x432 with 1 Axes>"
      ]
     },
     "metadata": {},
     "output_type": "display_data"
    }
   ],
   "source": [
    "fast_ins_fig = plt.figure(1, figsize=(9, 6))\n",
    "ax_fast_ins = fast_ins_fig.add_subplot(111)\n",
    "bp = ax_fast_ins.boxplot(fast_ins_plot)\n",
    "ax_fast_ins.set_xticklabels(['Background', 'Obesity Gene Set'])\n",
    "ax_fast_ins.set_ylabel('Rank Percentile')\n",
    "ax_fast_ins.set_title(\"Fasting Insulin Association with Known Obesity Drug Targets (P-value = 0.47342)\")\n",
    "fast_ins_fig.savefig('fast_ins_obe_genes.png', bbox_inches='tight')"
   ]
  },
  {
   "cell_type": "code",
   "execution_count": 24,
   "metadata": {},
   "outputs": [],
   "source": [
    "dbp_obe_synthetic = ([0.000000022889,\t0.00004608,\t0.000066945,\t0.0002258,\t0.0034237,\t0.0061159,\t0.0086051,\t0.012321,\t0.01724,\t0.017506,\t0.017629,\t0.021403,\t0.022644,\t0.026643,\t0.027507,\t0.03064,\t0.032194,\t0.037891,\t0.040311,\t0.042834,\t0.04507,\t0.056788,\t0.062628,\t0.066,\t0.070895,\t0.078396,\t0.079644,\t0.080668,\t0.084587,\t0.094796,\t0.1066,\t0.12505,\t0.12693,\t0.13653,\t0.13683,\t0.1392,\t0.14274,\t0.14772,\t0.14832,\t0.15009,\t0.1518,\t0.15524,\t0.15786,\t0.15886,\t0.16933,\t0.17196,\t0.2014,\t0.21268,\t0.21477,\t0.21887,0.23124,\t0.2318,\t0.24528,\t0.26021,\t0.30421,\t0.31021,\t0.32456,\t0.32985,\t0.3318,\t0.3325,\t0.34769,\t0.377,\t0.40029,\t0.41799,\t0.42065,\t0.43235,\t0.43409,\t0.43653,\t0.44024,\t0.44377,\t0.44631,\t0.4549,\t0.46191,\t0.50597,\t0.50714,\t0.51038,\t0.51911,\t0.53315,\t0.55076,\t0.55447,\t0.59437,\t0.59619,\t0.62384,\t0.64004,\t0.64375,\t0.64566,\t0.69843,\t0.71624,\t0.81511,\t0.81722,\t0.83469])"
   ]
  },
  {
   "cell_type": "code",
   "execution_count": 25,
   "metadata": {},
   "outputs": [],
   "source": [
    "dbp_obe_gene_set = ([0.0014299,0.035065,0.099346,0.18076,0.18326,0.40835])"
   ]
  },
  {
   "cell_type": "code",
   "execution_count": 26,
   "metadata": {},
   "outputs": [
    {
     "data": {
      "text/plain": [
       "MannwhitneyuResult(statistic=206.0, pvalue=0.15965651211367532)"
      ]
     },
     "execution_count": 26,
     "metadata": {},
     "output_type": "execute_result"
    }
   ],
   "source": [
    "scipy.stats.mannwhitneyu(dbp_obe_synthetic, dbp_obe_gene_set)"
   ]
  },
  {
   "cell_type": "code",
   "execution_count": 27,
   "metadata": {},
   "outputs": [],
   "source": [
    "dbp_obe_all_percentile = np.array([0.0,.01,.02,.03,.04,.05,.06,.07,.08,.09,.1,.11,.12,.13,.14,.15,.16,.17,.18,.19,.20,.21,.22,.23,.24,.25,.26,.27,.28,.29,.3,.31,.32,.33,.34,.35,.36,.37,.38,.39,.4,.41,.42,.43,.44,.45,.46,.47,.48,.49,.5,.51,.52,.53,.54,.55,.56,.57,.58,.59,.6,.61,.62,.63,.64,.65,.66,.67,.68,.69,.7,.71,.72,.73,.74,.75,.76,.77,.78,.79,.80,.81,.82,.83,.84,.85,.86,.87,.88,.89,.9,.91,.92,.93,.94,.95,.96,.97,.98,.99])"
   ]
  },
  {
   "cell_type": "code",
   "execution_count": 28,
   "metadata": {},
   "outputs": [],
   "source": [
    "dbp_obe_gene_set_percentile = ([0.9489795918,0.806122449,0.6530612245,0.4795918367,0.4693877551,0.2857142857])"
   ]
  },
  {
   "cell_type": "code",
   "execution_count": 29,
   "metadata": {},
   "outputs": [],
   "source": [
    "dbp_plot = [dbp_obe_all_percentile, dbp_obe_gene_set_percentile]"
   ]
  },
  {
   "cell_type": "code",
   "execution_count": 30,
   "metadata": {},
   "outputs": [
    {
     "data": {
      "image/png": "[encoded data removed]",
      "text/plain": [
       "<Figure size 648x432 with 1 Axes>"
      ]
     },
     "metadata": {},
     "output_type": "display_data"
    }
   ],
   "source": [
    "dbp_fig = plt.figure(1, figsize=(9, 6))\n",
    "ax_dbp = dbp_fig.add_subplot(111)\n",
    "bp = ax_dbp.boxplot(dbp_plot)\n",
    "ax_dbp.set_xticklabels(['Background', 'Obesity Gene Set'],**csfont )\n",
    "ax_dbp.set_ylabel('Rank Percentile', **csfont)\n",
    "ax_dbp.set_title(\"Diastolic Blood Pressure Associations with Known Obesity Drug Targets (p = 0.15965)\", **csfont)\n",
    "dbp_fig.savefig('obe_known_dbp2.png', bbox_inches='tight', dpi = 600)"
   ]
  },
  {
   "cell_type": "code",
   "execution_count": 31,
   "metadata": {},
   "outputs": [],
   "source": [
    "ldl_obe_synthetic =np.array([0.00002271,\t0.0019724,\t0.005225,\t0.0070993,\t0.013821,\t0.017698,\t0.03205,\t0.03318,\t0.034652,\t0.037375,\t0.037776,\t0.04262,\t0.045844,0.050506,0.096049,0.098175,0.10914,0.11107,0.16091,0.23101,0.23298,0.23688,0.25183,\t0.2586,\t0.25892,\t0.26087,\t0.26893,\t0.27817,\t0.28713,\t0.29328,\t0.29358,\t0.29782,\t0.32235,\t0.34152,\t0.35174,\t0.39349,\t0.39484,\t0.40354,\t0.41942,\t0.42151,\t0.43616,\t0.45121,\t0.45228,\t0.47121,\t0.47167,\t0.49364,\t0.5025,\t0.50697,\t0.51358,\t0.54785,\t0.59367,\t0.60314,\t0.62833,\t0.63492,\t0.637,\t0.64312,\t0.66987,\t0.67492,\t0.68715,\t0.6919,\t0.72561,\t0.74419,\t0.75256,0.12762,\t0.1279,\t0.13506,\t0.13528,\t0.14069,\t0.1432,\t0.14763,\t0.14808,0.16969,\t0.1757,\t0.17892,\t0.18104,\t0.18112,\t0.18771,\t0.1918,\t0.19445,\t0.19961,\t0.20277,\t0.20388,\t0.21006])"
   ]
  },
  {
   "cell_type": "code",
   "execution_count": 32,
   "metadata": {},
   "outputs": [],
   "source": [
    "ldl_obe_gene_set = np.array([0.036578,0.067916,0.19187,0.41972,0.51023,0.85788])"
   ]
  },
  {
   "cell_type": "code",
   "execution_count": 33,
   "metadata": {},
   "outputs": [
    {
     "data": {
      "text/plain": [
       "MannwhitneyuResult(statistic=231.0, pvalue=0.3873061545157125)"
      ]
     },
     "execution_count": 33,
     "metadata": {},
     "output_type": "execute_result"
    }
   ],
   "source": [
    "scipy.stats.mannwhitneyu(ldl_obe_synthetic, ldl_obe_gene_set)"
   ]
  },
  {
   "cell_type": "code",
   "execution_count": 34,
   "metadata": {},
   "outputs": [],
   "source": [
    "ldl_obe_all_percentile = np.array([0.0,.01,.02,.03,.04,.05,.06,.07,.08,.09,.1,.11,.12,.13,.14,.15,.16,.17,.18,.19,.20,.21,.22,.23,.24,.25,.26,.27,.28,.29,.3,.31,.32,.33,.34,.35,.36,.37,.38,.39,.4,.41,.42,.43,.44,.45,.46,.47,.48,.49,.5,.51,.52,.53,.54,.55,.56,.57,.58,.59,.6,.61,.62,.63,.64,.65,.66,.67,.68,.69,.7,.71,.72,.73,.74,.75,.76,.77,.78,.79,.80,.81,.82,.83,.84,.85,.86,.87,.88,.89,.9,.91,.92,.93,.94,.95,.96,.97,.98,.99])"
   ]
  },
  {
   "cell_type": "code",
   "execution_count": 35,
   "metadata": {},
   "outputs": [],
   "source": [
    "ldl_obe_gene_set_percentile = ([0.8979591837,0.7959183673,0.5306122449,0.2653061224,0.1632653061,0])"
   ]
  },
  {
   "cell_type": "code",
   "execution_count": 36,
   "metadata": {},
   "outputs": [],
   "source": [
    "ldl_plot = [ldl_obe_all_percentile, ldl_obe_gene_set_percentile]"
   ]
  },
  {
   "cell_type": "code",
   "execution_count": 37,
   "metadata": {},
   "outputs": [
    {
     "data": {
      "image/png": "[encoded data removed]",
      "text/plain": [
       "<Figure size 648x432 with 1 Axes>"
      ]
     },
     "metadata": {},
     "output_type": "display_data"
    }
   ],
   "source": [
    "ldl_fig = plt.figure(1, figsize=(9, 6))\n",
    "ax_ldl = ldl_fig.add_subplot(111)\n",
    "bp = ax_ldl.boxplot(ldl_plot)\n",
    "ax_ldl.set_xticklabels(['Background', 'Obesity Gene Set'])\n",
    "ax_ldl.set_ylabel('Rank Percentile')\n",
    "ax_ldl.set_title(\"LDL Association with Known Obesity Drug Targets (P-value = 0.38731)\")\n",
    "ldl_fig.savefig('ldl_obe_genes.png', bbox_inches='tight')"
   ]
  },
  {
   "cell_type": "code",
   "execution_count": 38,
   "metadata": {},
   "outputs": [],
   "source": [
    "tchol_obe_synthetic =np.array([0.023028,\t0.023683,\t0.026275,\t0.031553,\t0.032482,\t0.035409,\t0.038646,\t0.041231,\t0.046382,\t0.049498,\t0.054506,\t0.055462,\t0.097696,\t0.10244,\t0.10808,\t0.11001,\t0.11381,\t0.1142,\t0.12707,\t0.1356,\t0.14404,\t0.14808,\t0.15112,\t0.15915,\t0.16164,\t0.16975,\t0.17258,\t0.17305,\t0.17337,\t0.17342,\t0.17353,\t0.17852,\t0.18006,\t0.18441,\t0.18741,\t0.19407,\t0.19647,\t0.20878,\t0.21196,\t0.21308,\t0.21341,\t0.22538,\t0.22932,\t0.23079,\t0.2417,\t0.24209,\t0.25252,\t0.25433,\t0.27156,\t0.27684,\t0.27796,\t0.28458,\t0.29853,\t0.30725,\t0.31642,\t0.31672,\t0.32243,\t0.33219,\t0.34027,\t0.34237,\t0.34865,\t0.35036,\t0.35198,\t0.35441,\t0.36353,\t0.38926,\t0.3925,\t0.39485,\t0.41315,\t0.41611,\t0.42713,\t0.43154,\t0.43228,\t0.43302,\t0.43525,\t0.43619,\t0.43739,\t0.44447,\t0.44666,\t0.47071,\t0.47168,\t0.47193,\t0.47544,\t0.47868,\t0.48809,\t0.49194,\t0.50818,\t0.50962,\t0.58622,\t0.60451,\t0.73482,\t0.85624])"
   ]
  },
  {
   "cell_type": "code",
   "execution_count": 39,
   "metadata": {},
   "outputs": [],
   "source": [
    "tchol_obe_gene_set = np.array([0.057732,0.1111,0.14327,0.14747,0.67012,0.68122])"
   ]
  },
  {
   "cell_type": "code",
   "execution_count": 40,
   "metadata": {},
   "outputs": [
    {
     "data": {
      "text/plain": [
       "MannwhitneyuResult(statistic=249.0, pvalue=0.3472743893901787)"
      ]
     },
     "execution_count": 40,
     "metadata": {},
     "output_type": "execute_result"
    }
   ],
   "source": [
    "scipy.stats.mannwhitneyu(tchol_obe_synthetic, tchol_obe_gene_set)"
   ]
  },
  {
   "cell_type": "code",
   "execution_count": 41,
   "metadata": {},
   "outputs": [],
   "source": [
    "tchol_obe_all_percentile = np.array([0.0,.01,.02,.03,.04,.05,.06,.07,.08,.09,.1,.11,.12,.13,.14,.15,.16,.17,.18,.19,.20,.21,.22,.23,.24,.25,.26,.27,.28,.29,.3,.31,.32,.33,.34,.35,.36,.37,.38,.39,.4,.41,.42,.43,.44,.45,.46,.47,.48,.49,.5,.51,.52,.53,.54,.55,.56,.57,.58,.59,.6,.61,.62,.63,.64,.65,.66,.67,.68,.69,.7,.71,.72,.73,.74,.75,.76,.77,.78,.79,.80,.81,.82,.83,.84,.85,.86,.87,.88,.89,.9,.91,.92,.93,.94,.95,.96,.97,.98,.99])"
   ]
  },
  {
   "cell_type": "code",
   "execution_count": 42,
   "metadata": {},
   "outputs": [],
   "source": [
    "tchol_obe_gene_set_percentile = ([0.8163265306,0.7653061224,0.7142857143,0.693877551,0.0306122449,0.02040816327])"
   ]
  },
  {
   "cell_type": "code",
   "execution_count": 43,
   "metadata": {},
   "outputs": [],
   "source": [
    "tchol_plot = [tchol_obe_all_percentile, tchol_obe_gene_set_percentile]"
   ]
  },
  {
   "cell_type": "code",
   "execution_count": 44,
   "metadata": {},
   "outputs": [
    {
     "data": {
      "image/png": "[encoded data removed]",
      "text/plain": [
       "<Figure size 648x432 with 1 Axes>"
      ]
     },
     "metadata": {},
     "output_type": "display_data"
    }
   ],
   "source": [
    "tchol_fig = plt.figure(1, figsize=(9, 6))\n",
    "ax_tchol = tchol_fig.add_subplot(111)\n",
    "bp = ax_tchol.boxplot(tchol_plot)\n",
    "ax_tchol.set_xticklabels(['Background', 'Obesity Gene Set'])\n",
    "ax_tchol.set_ylabel('Rank Percentile')\n",
    "ax_tchol.set_title(\"T Cholesterol Association with Known Obesity Drug Targets (P-value = 0.34727)\")\n",
    "tchol_fig.savefig('tchol_obe_genes.png', bbox_inches='tight')"
   ]
  },
  {
   "cell_type": "code",
   "execution_count": 45,
   "metadata": {},
   "outputs": [],
   "source": [
    "hdl_obe_synthetic =np.array([0.098361,\t0.066153,\t0.066483,\t0.73544,\t0.14936,\t0.19958,\t0.12333,\t0.11651,\t0.29146,\t0.069835,\t0.035409,\t0.25605,\t0.42427,\t0.44147,\t0.036447,\t0.26571,\t0.10014,\t0.091901,\t0.071734,\t0.38826,\t0.23722,\t0.48133,\t0.33148,\t0.65326,\t0.36712,\t0.85703,\t0.12853,\t0.2985,\t0.038334,\t0.46802,\t0.85984,\t0.0084627,\t0.10472,\t0.39528,\t0.014911,\t0.50841,\t0.031439,\t0.52614,\t0.24461,\t0.071374,\t0.20604,\t0.23969,\t0.0060076,\t0.01476,\t0.017621,\t0.32182,\t0.27989,\t0.40879,\t0.18327,\t0.57533,\t0.12175,\t0.4216,\t0.31119,\t0.13936,\t0.16718,\t0.034834,\t0.1032,\t0.44723,\t0.18294,\t0.040425,\t0.23195,\t0.097182,\t0.21658,\t0.30095,\t0.22983,\t0.08572,\t0.075104,\t0.77831,\t0.041199,\t0.28124,\t0.071699,\t0.60126,\t0.14164,\t0.79716,\t0.00035122,\t0.31502,\t0.04301,\t0.49415,\t0.093162,\t0.015632,\t0.31945,\t0.097043,\t0.34465,\t0.013148,\t0.37818,\t0.62219,\t0.041031,\t0.61567,\t0.3438,\t0.6198,\t0.47903,\t0.25406])"
   ]
  },
  {
   "cell_type": "code",
   "execution_count": 46,
   "metadata": {},
   "outputs": [],
   "source": [
    "hdl_obe_gene_set = np.array([0.060029,0.1958,0.25437,0.2884,0.34577,0.5199])"
   ]
  },
  {
   "cell_type": "code",
   "execution_count": 47,
   "metadata": {},
   "outputs": [
    {
     "data": {
      "text/plain": [
       "MannwhitneyuResult(statistic=238.0, pvalue=0.28921044635956455)"
      ]
     },
     "execution_count": 47,
     "metadata": {},
     "output_type": "execute_result"
    }
   ],
   "source": [
    "scipy.stats.mannwhitneyu(hdl_obe_synthetic, hdl_obe_gene_set)"
   ]
  },
  {
   "cell_type": "code",
   "execution_count": 48,
   "metadata": {},
   "outputs": [],
   "source": [
    "hdl_obe_all_percentile = np.array([0.0,.01,.02,.03,.04,.05,.06,.07,.08,.09,.1,.11,.12,.13,.14,.15,.16,.17,.18,.19,.20,.21,.22,.23,.24,.25,.26,.27,.28,.29,.3,.31,.32,.33,.34,.35,.36,.37,.38,.39,.4,.41,.42,.43,.44,.45,.46,.47,.48,.49,.5,.51,.52,.53,.54,.55,.56,.57,.58,.59,.6,.61,.62,.63,.64,.65,.66,.67,.68,.69,.7,.71,.72,.73,.74,.75,.76,.77,.78,.79,.80,.81,.82,.83,.84,.85,.86,.87,.88,.89,.9,.91,.92,.93,.94,.95,.96,.97,.98,.99])"
   ]
  },
  {
   "cell_type": "code",
   "execution_count": 49,
   "metadata": {},
   "outputs": [],
   "source": [
    "hdl_obe_gene_set_percentile = np.array([0.8163265306,0.5408163265,0.4387755102,0.387755102,0.2755102041,0.1224489796])"
   ]
  },
  {
   "cell_type": "code",
   "execution_count": 50,
   "metadata": {},
   "outputs": [],
   "source": [
    "hdl_plot = [hdl_obe_all_percentile, hdl_obe_gene_set_percentile]"
   ]
  },
  {
   "cell_type": "code",
   "execution_count": 51,
   "metadata": {},
   "outputs": [
    {
     "data": {
      "image/png": "[encoded data removed]",
      "text/plain": [
       "<Figure size 648x432 with 1 Axes>"
      ]
     },
     "metadata": {},
     "output_type": "display_data"
    }
   ],
   "source": [
    "hdl_fig = plt.figure(1, figsize=(9, 6))\n",
    "ax_hdl = hdl_fig.add_subplot(111)\n",
    "bp = ax_hdl.boxplot(hdl_plot)\n",
    "ax_hdl.set_xticklabels(['Background', 'Obesity Gene Set'])\n",
    "ax_hdl.set_ylabel('Rank Percentile')\n",
    "ax_hdl.set_title(\"H dl Cholesterol Association with Known Obesity Drug Targets (P-value = 0.28921)\")\n",
    "hdl_fig.savefig('hdl_obe_genes.png', bbox_inches='tight')"
   ]
  },
  {
   "cell_type": "code",
   "execution_count": 52,
   "metadata": {},
   "outputs": [],
   "source": [
    "tg_obe_synthetic =np.array([0.30484,\t0.52646,\t0.15841,\t0.31778,\t0.61474,\t0.29907,\t0.12333,\t0.11651,\t0.44293,\t0.0062816,\t0.13047,\t0.20328,\t0.31427,\t0.38884,\t0.53637,\t0.47601,\t0.10014,\t0.13773,\t0.17914,\t0.2951,\t0.23722,\t0.28185,\t0.1559,\t0.26536,\t0.47147,\t0.44846,\t0.5624,\t0.16193,\t0.23991,\t0.346,\t0.17611,\t0.090376,\t0.23889,\t0.74921,\t0.18096,\t0.24905,\t0.017779,\t0.18609,\t0.061298,\t0.6375,\t0.045011,\t0.49151,\t0.032145,\t0.18881,\t0.016281,\t0.3519,\t0.43979,\t0.12698,\t0.52938,\t0.048974,\t0.35632,\t0.3083,\t0.11258,\t0.10979,\t0.17266,\t0.20303,\t0.13987,\t0.26533,\t0.10774,\t0.1372,\t0.81168,\t0.54937,\t0.13656,\t0.068885,\t0.060889,\t0.41304,\t0.32103,\t0.22172,\t0.39247,\t0.28603,\t0.23236,\t0.71898,\t0.11357,\t0.10046,\t0.073946,\t0.0070993,\t0.42151,\t0.090479,\t0.14808,\t0.11481,\t0.38415,\t0.0028781,\t0.086141,\t0.24907,\t0.21421,\t0.057202,\t0.02279,\t0.30149,\t0.16871,\t0.044359,\t0.72324,\t0.13307])"
   ]
  },
  {
   "cell_type": "code",
   "execution_count": 53,
   "metadata": {},
   "outputs": [],
   "source": [
    "tg_obe_gene_set = ([0.030583,0.078782,0.33889,0.46597,0.54708,0.6184])"
   ]
  },
  {
   "cell_type": "code",
   "execution_count": 54,
   "metadata": {},
   "outputs": [
    {
     "data": {
      "text/plain": [
       "MannwhitneyuResult(statistic=215.0, pvalue=0.1849881693809564)"
      ]
     },
     "execution_count": 54,
     "metadata": {},
     "output_type": "execute_result"
    }
   ],
   "source": [
    "scipy.stats.mannwhitneyu(tg_obe_synthetic, tg_obe_gene_set)"
   ]
  },
  {
   "cell_type": "code",
   "execution_count": 55,
   "metadata": {},
   "outputs": [],
   "source": [
    "tg_obe_all_percentile = np.array([0.0,.01,.02,.03,.04,.05,.06,.07,.08,.09,.1,.11,.12,.13,.14,.15,.16,.17,.18,.19,.20,.21,.22,.23,.24,.25,.26,.27,.28,.29,.3,.31,.32,.33,.34,.35,.36,.37,.38,.39,.4,.41,.42,.43,.44,.45,.46,.47,.48,.49,.5,.51,.52,.53,.54,.55,.56,.57,.58,.59,.6,.61,.62,.63,.64,.65,.66,.67,.68,.69,.7,.71,.72,.73,.74,.75,.76,.77,.78,.79,.80,.81,.82,.83,.84,.85,.86,.87,.88,.89,.9,.91,.92,.93,.94,.95,.96,.97,.98,.99])"
   ]
  },
  {
   "cell_type": "code",
   "execution_count": 56,
   "metadata": {},
   "outputs": [],
   "source": [
    "tg_obe_gene_set_percentile = np.array([0.9285714286,0.8265306122,0.2857142857,0.1632653061,0.09183673469,0.05102040816])"
   ]
  },
  {
   "cell_type": "code",
   "execution_count": 57,
   "metadata": {},
   "outputs": [],
   "source": [
    "tg_plot = [tg_obe_all_percentile, tg_obe_gene_set_percentile]"
   ]
  },
  {
   "cell_type": "code",
   "execution_count": 58,
   "metadata": {},
   "outputs": [
    {
     "data": {
      "image/png": "[encoded data removed]",
      "text/plain": [
       "<Figure size 648x432 with 1 Axes>"
      ]
     },
     "metadata": {},
     "output_type": "display_data"
    }
   ],
   "source": [
    "tg_fig = plt.figure(1, figsize=(9, 6))\n",
    "ax_tg = tg_fig.add_subplot(111)\n",
    "bp = ax_tg.boxplot(tg_plot)\n",
    "ax_tg.set_xticklabels(['Background', 'Obesity Gene Set'])\n",
    "ax_tg.set_ylabel('Rank Percentile')\n",
    "ax_tg.set_title(\"Triglyceride Association with Known Obesity Drug Targets (P-value = 0.18500)\")\n",
    "tg_fig.savefig('tg_obe_genes.png', bbox_inches='tight')"
   ]
  },
  {
   "cell_type": "code",
   "execution_count": 59,
   "metadata": {},
   "outputs": [],
   "source": [
    "sbp_obe_synthetic =np.array([0.048881,\t0.15795,\t0.22332,\t0.10085,\t0.35395,\t0.33158,\t0.57503,\t0.37856,\t0.60715,\t0.0062816,\t0.13047,\t0.63685,\t0.17502,\t0.55199,\t0.035711,\t0.17442,\t0.2061,\t0.67278,\t0.17914,\t0.2951,\t0.045375,\t0.28185,\t0.1559,\t0.26536,\t0.015295,\t0.4998,\t0.063235,\t0.14668,\t0.071767,\t0.16805,\t0.51615,\t0.014683,\t0.23869,\t0.9229,\t0.3931,\t0.48435,\t0.21508,\t0.12496,\t0.18197,\t0.1882,\t0.14756,\t0.056146,\t0.18533,\t0.16307,\t0.051822,\t0.38215,\t0.38433,\t0.38384,\t0.51849,\t0.050372,\t0.17914,\t0.10074,\t0.10121,\t0.074815,\t0.01725,\t0.26596,\t0.082664,\t0.27516,\t0.087359,\t0.00090579,\t0.093278,\t0.54344,\t0.037843,\t0.17183,\t0.0019633,\t0.21317,\t0.0041007,\t0.49037,\t0.0019146,\t0.19775,\t0.38966,\t0.15525,\t0.035243,\t0.37852,\t0.14316,\t0.25654,\t0.29893,\t0.40836,\t0.39502,\t0.61305,\t0.28117,\t0.10515,\t0.043879,\t0.036276,\t0.31775,\t0.13476,\t0.44591,\t0.084892,\t0.1913,\t0.47918,\t0.13747,\t0.13968,])"
   ]
  },
  {
   "cell_type": "code",
   "execution_count": 60,
   "metadata": {},
   "outputs": [],
   "source": [
    "sbp_obe_gene_set = np.array([0.0051092,0.097872,0.18108,0.36294,0.40495,0.60927])"
   ]
  },
  {
   "cell_type": "code",
   "execution_count": 61,
   "metadata": {},
   "outputs": [
    {
     "data": {
      "text/plain": [
       "MannwhitneyuResult(statistic=308.0, pvalue=0.6849556279143486)"
      ]
     },
     "execution_count": 61,
     "metadata": {},
     "output_type": "execute_result"
    }
   ],
   "source": [
    "scipy.stats.mannwhitneyu( sbp_obe_gene_set,sbp_obe_synthetic, alternative = 'less')"
   ]
  },
  {
   "cell_type": "code",
   "execution_count": 62,
   "metadata": {},
   "outputs": [],
   "source": [
    "sbp_obe_all_percentile = np.array([0.0,.01,.02,.03,.04,.05,.06,.07,.08,.09,.1,.11,.12,.13,.14,.15,.16,.17,.18,.19,.20,.21,.22,.23,.24,.25,.26,.27,.28,.29,.3,.31,.32,.33,.34,.35,.36,.37,.38,.39,.4,.41,.42,.43,.44,.45,.46,.47,.48,.49,.5,.51,.52,.53,.54,.55,.56,.57,.58,.59,.6,.61,.62,.63,.64,.65,.66,.67,.68,.69,.7,.71,.72,.73,.74,.75,.76,.77,.78,.79,.80,.81,.82,.83,.84,.85,.86,.87,.88,.89,.9,.91,.92,.93,.94,.95,.96,.97,.98,.99])"
   ]
  },
  {
   "cell_type": "code",
   "execution_count": 63,
   "metadata": {},
   "outputs": [],
   "source": [
    "sbp_obe_gene_set_percentile = np.array([0.9489795918,0.7244897959,0.4897959184,0.2653061224,0.1734693878,0.04081632653])"
   ]
  },
  {
   "cell_type": "code",
   "execution_count": 64,
   "metadata": {},
   "outputs": [],
   "source": [
    "sbp_plot = [sbp_obe_all_percentile, sbp_obe_gene_set_percentile]"
   ]
  },
  {
   "cell_type": "code",
   "execution_count": 65,
   "metadata": {},
   "outputs": [
    {
     "data": {
      "image/png": "[encoded data removed]",
      "text/plain": [
       "<Figure size 648x432 with 1 Axes>"
      ]
     },
     "metadata": {},
     "output_type": "display_data"
    }
   ],
   "source": [
    "sbp_fig = plt.figure(1, figsize=(9, 6))\n",
    "ax_sbp = sbp_fig.add_subplot(111)\n",
    "bp = ax_sbp.boxplot(sbp_plot)\n",
    "ax_sbp.set_xticklabels(['Background', 'Obesity Gene Set'])\n",
    "ax_sbp.set_ylabel('Rank Percentile')\n",
    "ax_sbp.set_title(\"Systolic BP Association with Known Obesity Drug Targets (P-value = 0.68496)\")\n",
    "sbp_fig.savefig('sbp_obe_genes.png', bbox_inches='tight')"
   ]
  },
  {
   "cell_type": "code",
   "execution_count": 66,
   "metadata": {},
   "outputs": [],
   "source": [
    "creat_obe_synthetic =np.array([0.084587,\t0.079644,\t0.26021,\t0.1066,\t0.022644,\t0.16933,\t0.32985,\t0.69843,\t0.83469,\t0.1392,\t0.51911,\t0.2318,\t0.0002258,\t0.32456,\t0.59437,\t0.43235,\t0.50597,\t0.30421,\t0.000066945,\t0.4549,\t0.078396,\t0.14772,\t0.2014,\t0.017506,\t0.42065,\t0.59619,\t0.01724,\t0.46191,\t0.012321,\t0.3318,\t0.51038,\t0.24528,\t0.027507,\t0.81511,\t0.64566,\t0.00004608,\t0.34769,\t0.03064,\t0.056788,\t0.23124,\t0.21887,\t0.15524,\t0.066,\t0.040311,\t0.43653,\t0.17196,\t0.55447,\t0.50714,\t0.3325,\t0.14832,\t0.377,\t0.44024,\t0.44377,\t0.0061159,\t0.44631,\t0.1518,\t0.052694,\t0.53315,\t0.037891,\t0.032194,\t0.64375,\t0.13653,\t0.15786,\t0.55076,\t0.021403,\t0.033125,\t0.62384,\t0.81722,\t0.14274,\t0.21477,\t0.042834,\t0.41799,\t0.000000022889,\t0.15009,\t0.070895,\t0.13683,\t0.080668,\t0.12693,\t0.71624,\t0.64004,\t0.43409,\t0.094796,\t0.40029,\t0.12505,\t0.04507,\t0.062628,\t0.017629,\t0.15886,\t0.026643,\t0.21268,\t0.0086051,\t0.31021])"
   ]
  },
  {
   "cell_type": "code",
   "execution_count": 67,
   "metadata": {},
   "outputs": [],
   "source": [
    "creat_obe_gene_set = np.array([0.072616,0.22893,0.2586,0.31332,0.33622,0.37968])"
   ]
  },
  {
   "cell_type": "code",
   "execution_count": 68,
   "metadata": {},
   "outputs": [
    {
     "data": {
      "text/plain": [
       "MannwhitneyuResult(statistic=240.0, pvalue=0.2994247075958991)"
      ]
     },
     "execution_count": 68,
     "metadata": {},
     "output_type": "execute_result"
    }
   ],
   "source": [
    "scipy.stats.mannwhitneyu(creat_obe_synthetic, creat_obe_gene_set)"
   ]
  },
  {
   "cell_type": "code",
   "execution_count": 69,
   "metadata": {},
   "outputs": [],
   "source": [
    "creat_obe_all_percentile = np.array([0.0,.01,.02,.03,.04,.05,.06,.07,.08,.09,.1,.11,.12,.13,.14,.15,.16,.17,.18,.19,.20,.21,.22,.23,.24,.25,.26,.27,.28,.29,.3,.31,.32,.33,.34,.35,.36,.37,.38,.39,.4,.41,.42,.43,.44,.45,.46,.47,.48,.49,.5,.51,.52,.53,.54,.55,.56,.57,.58,.59,.6,.61,.62,.63,.64,.65,.66,.67,.68,.69,.7,.71,.72,.73,.74,.75,.76,.77,.78,.79,.80,.81,.82,.83,.84,.85,.86,.87,.88,.89,.9,.91,.92,.93,.94,.95,.96,.97,.98,.99])"
   ]
  },
  {
   "cell_type": "code",
   "execution_count": 70,
   "metadata": {},
   "outputs": [],
   "source": [
    "creat_obe_gene_set_percentile = np.array([0.7244897959,0.4591836735,0.4183673469,0.3775510204,0.3265306122,0.2959183673])"
   ]
  },
  {
   "cell_type": "code",
   "execution_count": 71,
   "metadata": {},
   "outputs": [],
   "source": [
    "creat_plot = [creat_obe_all_percentile, creat_obe_gene_set_percentile]"
   ]
  },
  {
   "cell_type": "code",
   "execution_count": 72,
   "metadata": {},
   "outputs": [
    {
     "data": {
      "image/png": "[encoded data removed]",
      "text/plain": [
       "<Figure size 648x432 with 1 Axes>"
      ]
     },
     "metadata": {},
     "output_type": "display_data"
    }
   ],
   "source": [
    "creat_fig = plt.figure(1, figsize=(9, 6))\n",
    "ax_creat= creat_fig.add_subplot(111)\n",
    "bp = ax_creat.boxplot(creat_plot)\n",
    "ax_creat.set_xticklabels(['Background', 'Obesity Gene Set'])\n",
    "ax_creat.set_ylabel('Rank Percentile')\n",
    "ax_creat.set_title(\"Creat Association with Known Obesity Drug Targets (P-value = 0.29942)\")\n",
    "creat_fig.savefig('creat_obe_genes.png', bbox_inches='tight')"
   ]
  },
  {
   "cell_type": "code",
   "execution_count": 73,
   "metadata": {},
   "outputs": [],
   "source": [
    "hr_obe_synthetic = np.array([0.59476,\t0.56512,\t0.0086538,\t0.86128,\t0.21568,\t0.025718,\t0.24663,\t0.015089,\t0.49183,\t0.26939,\t0.48565,\t0.39111,\t0.11891,\t0.21628,\t0.11663,\t0.10078,\t0.36945,\t0.38753,\t0.36354,\t0.4958,\t0.012229,\t0.44837,\t0.35618,\t0.29242,\t0.36482,\t0.71178,\t0.32023,\t0.16788,\t0.15846,\t0.18862,\t0.16572,\t0.25867,\t0.32463,\t0.32947,\t0.39119,\t0.33032,\t0.2295,\t0.38766,\t0.61732,\t0.020444,\t0.21209,\t0.65131,\t0.097339,\t0.22758,\t0.68531,\t0.35091,\t0.70532,\t0.23593,\t0.25229,\t0.50297,\t0.0096052,\t0.01457,\t0.0049673,\t0.63597,\t0.04075,\t0.12664,\t0.17032,\t0.91281,\t0.59688,\t0.2071,\t0.60585,\t0.75725,\t0.48368,\t0.63592,\t0.34985,\t0.53849,\t0.043761,\t0.025561,\t0.51422,\t0.23469,\t0.62664,\t0.47856,\t0.29674,\t0.3098,\t0.22596,\t0.15556,\t0.016035,\t0.10192,\t0.43323,\t0.1491,\t0.34485,\t0.49222,\t0.38403,\t0.27897,\t0.64731,\t0.41591,\t0.13736,\t0.17717,\t0.33531,\t0.44337,\t0.14347,\t0.082935])\n"
   ]
  },
  {
   "cell_type": "code",
   "execution_count": 74,
   "metadata": {},
   "outputs": [],
   "source": [
    "hr_obe_gene_set = np.array([0.030583,0.078782,0.33889,0.46597,0.54708,0.6184])"
   ]
  },
  {
   "cell_type": "code",
   "execution_count": 75,
   "metadata": {},
   "outputs": [
    {
     "data": {
      "text/plain": [
       "MannwhitneyuResult(statistic=255.0, pvalue=0.3806482400010037)"
      ]
     },
     "execution_count": 75,
     "metadata": {},
     "output_type": "execute_result"
    }
   ],
   "source": [
    "scipy.stats.mannwhitneyu(hr_obe_gene_set, hr_obe_synthetic)"
   ]
  },
  {
   "cell_type": "code",
   "execution_count": 76,
   "metadata": {},
   "outputs": [],
   "source": [
    "hr_obe_all_percentile = np.array([0.0,.01,.02,.03,.04,.05,.06,.07,.08,.09,.1,.11,.12,.13,.14,.15,.16,.17,.18,.19,.20,.21,.22,.23,.24,.25,.26,.27,.28,.29,.3,.31,.32,.33,.34,.35,.36,.37,.38,.39,.4,.41,.42,.43,.44,.45,.46,.47,.48,.49,.5,.51,.52,.53,.54,.55,.56,.57,.58,.59,.6,.61,.62,.63,.64,.65,.66,.67,.68,.69,.7,.71,.72,.73,.74,.75,.76,.77,.78,.79,.80,.81,.82,.83,.84,.85,.86,.87,.88,.89,.9,.91,.92,.93,.94,.95,.96,.97,.98,.99])"
   ]
  },
  {
   "cell_type": "code",
   "execution_count": 77,
   "metadata": {},
   "outputs": [],
   "source": [
    "hr_obe_gene_set_percentile = np.array([0.887755102,0.8571428571,0.4489795918,0.2755102041,0.1734693878,0.112244898])"
   ]
  },
  {
   "cell_type": "code",
   "execution_count": 78,
   "metadata": {},
   "outputs": [],
   "source": [
    "hr_plot = [hr_obe_all_percentile, hr_obe_gene_set_percentile]"
   ]
  },
  {
   "cell_type": "code",
   "execution_count": 79,
   "metadata": {},
   "outputs": [
    {
     "data": {
      "image/png": "[encoded data removed]",
      "text/plain": [
       "<Figure size 648x432 with 1 Axes>"
      ]
     },
     "metadata": {},
     "output_type": "display_data"
    }
   ],
   "source": [
    "hr_fig = plt.figure(1, figsize=(9, 6))\n",
    "ax_hr= hr_fig.add_subplot(111)\n",
    "bp = ax_hr.boxplot(hr_plot)\n",
    "ax_hr.set_xticklabels(['Background', 'Obesity Gene Set'])\n",
    "ax_hr.set_ylabel('Rank Percentile')\n",
    "ax_hr.set_title(\"hr Association with Known Obesity Drug Targets (P-value = 0.38065)\")\n",
    "hr_fig.savefig('hr_obe_genes.png', bbox_inches='tight')"
   ]
  },
  {
   "cell_type": "code",
   "execution_count": null,
   "metadata": {},
   "outputs": [],
   "source": []
  },
  {
   "cell_type": "code",
   "execution_count": null,
   "metadata": {},
   "outputs": [],
   "source": []
  },
  {
   "cell_type": "code",
   "execution_count": 80,
   "metadata": {},
   "outputs": [],
   "source": [
    "all_synthetic = np.array([0.0,.01,.02,.03,.04,.05,.06,.07,.08,.09,.1,.11,.12,.13,.14,.15,.16,.17,.18,.19,.20,.21,.22,.23,.24,.25,.26,.27,.28,.29,.3,.31,.32,.33,.34,.35,.36,.37,.38,.39,.4,.41,.42,.43,.44,.45,.46,.47,.48,.49,.5,.51,.52,.53,.54,.55,.56,.57,.58,.59,.6,.61,.62,.63,.64,.65,.66,.67,.68,.69,.7,.71,.72,.73,.74,.75,.76,.77,.78,.79,.80,.81,.82,.83,.84,.85,.86,.87,.88,.89,.9,.91,.92,.93,.94,.95,.96,.97,.98,.99])"
   ]
  },
  {
   "cell_type": "code",
   "execution_count": 81,
   "metadata": {},
   "outputs": [],
   "source": [
    "all_plot = [all_synthetic, bmi_obe_gene_set_percentile,fast_insulin_obe_gene_set_percentile,dbp_obe_gene_set_percentile,ldl_obe_gene_set_percentile,tchol_obe_gene_set_percentile,hdl_obe_gene_set_percentile,tg_obe_gene_set_percentile,sbp_obe_gene_set_percentile,creat_obe_gene_set_percentile,hr_obe_gene_set_percentile]"
   ]
  },
  {
   "cell_type": "code",
   "execution_count": 84,
   "metadata": {},
   "outputs": [
    {
     "data": {
      "image/png": "[encoded data removed]",
      "text/plain": [
       "<Figure size 1080x720 with 1 Axes>"
      ]
     },
     "metadata": {},
     "output_type": "display_data"
    }
   ],
   "source": [
    "all_fig = plt.figure(1, figsize=(15, 10))\n",
    "ax_all = all_fig.add_subplot(111)\n",
    "bp = ax_all.boxplot(all_plot)\n",
    "ax_all.set_xticklabels(['Background', 'BMI', 'Fasting Insulin', 'DBP', 'LDL', 'T Chol', 'HDL','tg','SBP', 'Creat', 'HR Ins'])\n",
    "ax_all.set_ylabel('Rank Percentile')\n",
    "ax_all.set_title(\"Associations with Known Obesity Drug Targets\")\n",
    "all_fig.savefig('all_obesity_genes.png', bbox_inches='tight')\n"
   ]
  },
  {
   "cell_type": "code",
   "execution_count": null,
   "metadata": {},
   "outputs": [],
   "source": []
  },
  {
   "cell_type": "code",
   "execution_count": null,
   "metadata": {},
   "outputs": [],
   "source": []
  },
  {
   "cell_type": "code",
   "execution_count": null,
   "metadata": {},
   "outputs": [],
   "source": []
  },
  {
   "cell_type": "code",
   "execution_count": null,
   "metadata": {},
   "outputs": [],
   "source": []
  },
  {
   "cell_type": "code",
   "execution_count": null,
   "metadata": {},
   "outputs": [],
   "source": []
  },
  {
   "cell_type": "code",
   "execution_count": null,
   "metadata": {},
   "outputs": [],
   "source": []
  },
  {
   "cell_type": "code",
   "execution_count": null,
   "metadata": {},
   "outputs": [],
   "source": []
  },
  {
   "cell_type": "code",
   "execution_count": null,
   "metadata": {},
   "outputs": [],
   "source": []
  },
  {
   "cell_type": "code",
   "execution_count": null,
   "metadata": {},
   "outputs": [],
   "source": []
  },
  {
   "cell_type": "code",
   "execution_count": null,
   "metadata": {},
   "outputs": [],
   "source": []
  },
  {
   "cell_type": "code",
   "execution_count": null,
   "metadata": {},
   "outputs": [],
   "source": []
  },
  {
   "cell_type": "code",
   "execution_count": null,
   "metadata": {},
   "outputs": [],
   "source": []
  },
  {
   "cell_type": "code",
   "execution_count": null,
   "metadata": {},
   "outputs": [],
   "source": []
  },
  {
   "cell_type": "code",
   "execution_count": null,
   "metadata": {},
   "outputs": [],
   "source": []
  },
  {
   "cell_type": "code",
   "execution_count": null,
   "metadata": {},
   "outputs": [],
   "source": []
  },
  {
   "cell_type": "code",
   "execution_count": null,
   "metadata": {},
   "outputs": [],
   "source": []
  },
  {
   "cell_type": "code",
   "execution_count": null,
   "metadata": {},
   "outputs": [],
   "source": []
  },
  {
   "cell_type": "code",
   "execution_count": null,
   "metadata": {},
   "outputs": [],
   "source": []
  },
  {
   "cell_type": "code",
   "execution_count": null,
   "metadata": {},
   "outputs": [],
   "source": []
  },
  {
   "cell_type": "code",
   "execution_count": null,
   "metadata": {},
   "outputs": [],
   "source": []
  },
  {
   "cell_type": "code",
   "execution_count": null,
   "metadata": {},
   "outputs": [],
   "source": []
  }
 ],
 "metadata": {
  "kernelspec": {
   "display_name": "Python 3",
   "language": "python",
   "name": "python3"
  },
  "language_info": {
   "codemirror_mode": {
    "name": "ipython",
    "version": 3
   },
   "file_extension": ".py",
   "mimetype": "text/x-python",
   "name": "python",
   "nbconvert_exporter": "python",
   "pygments_lexer": "ipython3",
   "version": "3.6.5"
  }
 },
 "nbformat": 4,
 "nbformat_minor": 2
}
