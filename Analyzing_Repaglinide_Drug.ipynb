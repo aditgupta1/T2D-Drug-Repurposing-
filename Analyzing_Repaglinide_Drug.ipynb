{
 "cells": [
  {
   "cell_type": "code",
   "execution_count": 7,
   "metadata": {},
   "outputs": [],
   "source": [
    "import pandas as pd\n",
    "import numpy as np"
   ]
  },
  {
   "cell_type": "code",
   "execution_count": 8,
   "metadata": {},
   "outputs": [],
   "source": [
    "path_to_file = \"/Users/aditgupta/Google Drive/Research/T2D/Summer_2018/meddra_freq.tsv\""
   ]
  },
  {
   "cell_type": "code",
   "execution_count": 9,
   "metadata": {},
   "outputs": [],
   "source": [
    "df = pd.read_csv(path_to_file,delimiter=\"\\t\", header=None)\n",
    "df.rename(columns={0:'ID'}, inplace=True)"
   ]
  },
  {
   "cell_type": "code",
   "execution_count": 10,
   "metadata": {},
   "outputs": [
    {
     "data": {
      "text/html": [
       "<div>\n",
       "<style scoped>\n",
       "    .dataframe tbody tr th:only-of-type {\n",
       "        vertical-align: middle;\n",
       "    }\n",
       "\n",
       "    .dataframe tbody tr th {\n",
       "        vertical-align: top;\n",
       "    }\n",
       "\n",
       "    .dataframe thead th {\n",
       "        text-align: right;\n",
       "    }\n",
       "</style>\n",
       "<table border=\"1\" class=\"dataframe\">\n",
       "  <thead>\n",
       "    <tr style=\"text-align: right;\">\n",
       "      <th></th>\n",
       "      <th>ID</th>\n",
       "      <th>1</th>\n",
       "      <th>2</th>\n",
       "      <th>3</th>\n",
       "      <th>4</th>\n",
       "      <th>5</th>\n",
       "      <th>6</th>\n",
       "      <th>7</th>\n",
       "      <th>8</th>\n",
       "      <th>9</th>\n",
       "    </tr>\n",
       "  </thead>\n",
       "  <tbody>\n",
       "    <tr>\n",
       "      <th>104900</th>\n",
       "      <td>CID100004547</td>\n",
       "      <td>CID000065981</td>\n",
       "      <td>C0002962</td>\n",
       "      <td>NaN</td>\n",
       "      <td>1.8%</td>\n",
       "      <td>0.018</td>\n",
       "      <td>0.018</td>\n",
       "      <td>LLT</td>\n",
       "      <td>C0002962</td>\n",
       "      <td>Angina pectoris</td>\n",
       "    </tr>\n",
       "    <tr>\n",
       "      <th>104901</th>\n",
       "      <td>CID100004547</td>\n",
       "      <td>CID000065981</td>\n",
       "      <td>C0002962</td>\n",
       "      <td>NaN</td>\n",
       "      <td>1.8%</td>\n",
       "      <td>0.018</td>\n",
       "      <td>0.018</td>\n",
       "      <td>PT</td>\n",
       "      <td>C0002962</td>\n",
       "      <td>Angina pectoris</td>\n",
       "    </tr>\n",
       "    <tr>\n",
       "      <th>104902</th>\n",
       "      <td>CID100004547</td>\n",
       "      <td>CID000065981</td>\n",
       "      <td>C0003862</td>\n",
       "      <td>NaN</td>\n",
       "      <td>3%</td>\n",
       "      <td>0.030</td>\n",
       "      <td>0.030</td>\n",
       "      <td>LLT</td>\n",
       "      <td>C0003862</td>\n",
       "      <td>Arthralgia</td>\n",
       "    </tr>\n",
       "    <tr>\n",
       "      <th>104903</th>\n",
       "      <td>CID100004547</td>\n",
       "      <td>CID000065981</td>\n",
       "      <td>C0003862</td>\n",
       "      <td>NaN</td>\n",
       "      <td>3%</td>\n",
       "      <td>0.030</td>\n",
       "      <td>0.030</td>\n",
       "      <td>PT</td>\n",
       "      <td>C0003862</td>\n",
       "      <td>Arthralgia</td>\n",
       "    </tr>\n",
       "    <tr>\n",
       "      <th>104904</th>\n",
       "      <td>CID100004547</td>\n",
       "      <td>CID000065981</td>\n",
       "      <td>C0003862</td>\n",
       "      <td>NaN</td>\n",
       "      <td>3%</td>\n",
       "      <td>0.030</td>\n",
       "      <td>0.030</td>\n",
       "      <td>PT</td>\n",
       "      <td>C0948594</td>\n",
       "      <td>Musculoskeletal discomfort</td>\n",
       "    </tr>\n",
       "  </tbody>\n",
       "</table>\n",
       "</div>"
      ],
      "text/plain": [
       "                  ID             1         2    3     4      5      6    7  \\\n",
       "104900  CID100004547  CID000065981  C0002962  NaN  1.8%  0.018  0.018  LLT   \n",
       "104901  CID100004547  CID000065981  C0002962  NaN  1.8%  0.018  0.018   PT   \n",
       "104902  CID100004547  CID000065981  C0003862  NaN    3%  0.030  0.030  LLT   \n",
       "104903  CID100004547  CID000065981  C0003862  NaN    3%  0.030  0.030   PT   \n",
       "104904  CID100004547  CID000065981  C0003862  NaN    3%  0.030  0.030   PT   \n",
       "\n",
       "               8                           9  \n",
       "104900  C0002962             Angina pectoris  \n",
       "104901  C0002962             Angina pectoris  \n",
       "104902  C0003862                  Arthralgia  \n",
       "104903  C0003862                  Arthralgia  \n",
       "104904  C0948594  Musculoskeletal discomfort  "
      ]
     },
     "execution_count": 10,
     "metadata": {},
     "output_type": "execute_result"
    }
   ],
   "source": [
    "df2 = df.loc[df[\"ID\"].isin([\"CID100004547\"])]\n",
    "df2.head()"
   ]
  },
  {
   "cell_type": "code",
   "execution_count": 11,
   "metadata": {},
   "outputs": [
    {
     "data": {
      "text/plain": [
       "array(['Angina pectoris', 'Arthralgia', 'Musculoskeletal discomfort',\n",
       "       'Back pain', 'Bronchitis', 'Chest pain', 'Constipation',\n",
       "       'Diarrhoea', 'Dyspepsia', 'Headache', 'Hypersensitivity',\n",
       "       'Hypoglycaemia', 'Nausea', 'Paraesthesia', 'Rhinitis', 'Sinusitis',\n",
       "       'Tooth disorder', 'Urinary tract infection', 'Vomiting'],\n",
       "      dtype=object)"
      ]
     },
     "execution_count": 11,
     "metadata": {},
     "output_type": "execute_result"
    }
   ],
   "source": [
    "df2[9].unique() #these are the side effects of the drug repaglinide \n",
    "#after analyzing repaglinide on drugbank, it can be seen to have PPARG as a potential target, which is in shortlist genes of both samples"
   ]
  },
  {
   "cell_type": "code",
   "execution_count": 17,
   "metadata": {},
   "outputs": [
    {
     "data": {
      "text/html": [
       "<div>\n",
       "<style scoped>\n",
       "    .dataframe tbody tr th:only-of-type {\n",
       "        vertical-align: middle;\n",
       "    }\n",
       "\n",
       "    .dataframe tbody tr th {\n",
       "        vertical-align: top;\n",
       "    }\n",
       "\n",
       "    .dataframe thead th {\n",
       "        text-align: right;\n",
       "    }\n",
       "</style>\n",
       "<table border=\"1\" class=\"dataframe\">\n",
       "  <thead>\n",
       "    <tr style=\"text-align: right;\">\n",
       "      <th></th>\n",
       "      <th>ID</th>\n",
       "      <th>1</th>\n",
       "      <th>2</th>\n",
       "      <th>3</th>\n",
       "      <th>4</th>\n",
       "      <th>5</th>\n",
       "      <th>6</th>\n",
       "      <th>7</th>\n",
       "      <th>8</th>\n",
       "      <th>9</th>\n",
       "    </tr>\n",
       "  </thead>\n",
       "  <tbody>\n",
       "    <tr>\n",
       "      <th>0</th>\n",
       "      <td>CID100000085</td>\n",
       "      <td>CID000010917</td>\n",
       "      <td>C0000737</td>\n",
       "      <td>NaN</td>\n",
       "      <td>21%</td>\n",
       "      <td>0.21</td>\n",
       "      <td>0.21</td>\n",
       "      <td>LLT</td>\n",
       "      <td>C0000737</td>\n",
       "      <td>Abdominal pain</td>\n",
       "    </tr>\n",
       "    <tr>\n",
       "      <th>1</th>\n",
       "      <td>CID100000085</td>\n",
       "      <td>CID000010917</td>\n",
       "      <td>C0000737</td>\n",
       "      <td>NaN</td>\n",
       "      <td>21%</td>\n",
       "      <td>0.21</td>\n",
       "      <td>0.21</td>\n",
       "      <td>PT</td>\n",
       "      <td>C0000737</td>\n",
       "      <td>Abdominal pain</td>\n",
       "    </tr>\n",
       "    <tr>\n",
       "      <th>2</th>\n",
       "      <td>CID100000085</td>\n",
       "      <td>CID000010917</td>\n",
       "      <td>C0000737</td>\n",
       "      <td>NaN</td>\n",
       "      <td>21%</td>\n",
       "      <td>0.21</td>\n",
       "      <td>0.21</td>\n",
       "      <td>PT</td>\n",
       "      <td>C0687713</td>\n",
       "      <td>Gastrointestinal pain</td>\n",
       "    </tr>\n",
       "    <tr>\n",
       "      <th>3</th>\n",
       "      <td>CID100000085</td>\n",
       "      <td>CID000010917</td>\n",
       "      <td>C0000737</td>\n",
       "      <td>NaN</td>\n",
       "      <td>5%</td>\n",
       "      <td>0.05</td>\n",
       "      <td>0.05</td>\n",
       "      <td>LLT</td>\n",
       "      <td>C0000737</td>\n",
       "      <td>Abdominal pain</td>\n",
       "    </tr>\n",
       "    <tr>\n",
       "      <th>4</th>\n",
       "      <td>CID100000085</td>\n",
       "      <td>CID000010917</td>\n",
       "      <td>C0000737</td>\n",
       "      <td>NaN</td>\n",
       "      <td>5%</td>\n",
       "      <td>0.05</td>\n",
       "      <td>0.05</td>\n",
       "      <td>PT</td>\n",
       "      <td>C0000737</td>\n",
       "      <td>Abdominal pain</td>\n",
       "    </tr>\n",
       "  </tbody>\n",
       "</table>\n",
       "</div>"
      ],
      "text/plain": [
       "             ID             1         2    3    4     5     6    7         8  \\\n",
       "0  CID100000085  CID000010917  C0000737  NaN  21%  0.21  0.21  LLT  C0000737   \n",
       "1  CID100000085  CID000010917  C0000737  NaN  21%  0.21  0.21   PT  C0000737   \n",
       "2  CID100000085  CID000010917  C0000737  NaN  21%  0.21  0.21   PT  C0687713   \n",
       "3  CID100000085  CID000010917  C0000737  NaN   5%  0.05  0.05  LLT  C0000737   \n",
       "4  CID100000085  CID000010917  C0000737  NaN   5%  0.05  0.05   PT  C0000737   \n",
       "\n",
       "                       9  \n",
       "0         Abdominal pain  \n",
       "1         Abdominal pain  \n",
       "2  Gastrointestinal pain  \n",
       "3         Abdominal pain  \n",
       "4         Abdominal pain  "
      ]
     },
     "execution_count": 17,
     "metadata": {},
     "output_type": "execute_result"
    }
   ],
   "source": [
    "df.head()"
   ]
  },
  {
   "cell_type": "code",
   "execution_count": 20,
   "metadata": {},
   "outputs": [
    {
     "data": {
      "text/html": [
       "<div>\n",
       "<style scoped>\n",
       "    .dataframe tbody tr th:only-of-type {\n",
       "        vertical-align: middle;\n",
       "    }\n",
       "\n",
       "    .dataframe tbody tr th {\n",
       "        vertical-align: top;\n",
       "    }\n",
       "\n",
       "    .dataframe thead th {\n",
       "        text-align: right;\n",
       "    }\n",
       "</style>\n",
       "<table border=\"1\" class=\"dataframe\">\n",
       "  <thead>\n",
       "    <tr style=\"text-align: right;\">\n",
       "      <th></th>\n",
       "      <th>ID</th>\n",
       "      <th>1</th>\n",
       "      <th>2</th>\n",
       "      <th>3</th>\n",
       "      <th>4</th>\n",
       "      <th>5</th>\n",
       "      <th>6</th>\n",
       "      <th>7</th>\n",
       "      <th>8</th>\n",
       "      <th>9</th>\n",
       "    </tr>\n",
       "  </thead>\n",
       "  <tbody>\n",
       "  </tbody>\n",
       "</table>\n",
       "</div>"
      ],
      "text/plain": [
       "Empty DataFrame\n",
       "Columns: [ID, 1, 2, 3, 4, 5, 6, 7, 8, 9]\n",
       "Index: []"
      ]
     },
     "execution_count": 20,
     "metadata": {},
     "output_type": "execute_result"
    }
   ],
   "source": [
    "df.loc[df['ID'].isin([\"CID100005470\"])]"
   ]
  },
  {
   "cell_type": "code",
   "execution_count": null,
   "metadata": {},
   "outputs": [],
   "source": []
  },
  {
   "cell_type": "code",
   "execution_count": null,
   "metadata": {},
   "outputs": [],
   "source": []
  }
 ],
 "metadata": {
  "kernelspec": {
   "display_name": "Python 3",
   "language": "python",
   "name": "python3"
  },
  "language_info": {
   "codemirror_mode": {
    "name": "ipython",
    "version": 3
   },
   "file_extension": ".py",
   "mimetype": "text/x-python",
   "name": "python",
   "nbconvert_exporter": "python",
   "pygments_lexer": "ipython3",
   "version": "3.6.5"
  }
 },
 "nbformat": 4,
 "nbformat_minor": 2
}
