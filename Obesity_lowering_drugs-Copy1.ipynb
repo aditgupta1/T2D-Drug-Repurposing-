{
 "cells": [
  {
   "cell_type": "code",
   "execution_count": 1,
   "metadata": {},
   "outputs": [],
   "source": [
    "import pandas as pd\n",
    "import numpy as np"
   ]
  },
  {
   "cell_type": "code",
   "execution_count": 2,
   "metadata": {},
   "outputs": [],
   "source": [
    "path_to_file = \"/Users/aditgupta/Google Drive/Research/T2D/Summer_2018/drug_names.tsv\" #this is the path to the file for all the drug names and corresponding ID's\n",
    "df5 = pd.read_csv(path_to_file,delimiter=\"\\t\", header=None) #reads file, converts to csv, and explains to fucntio that the delimeter are tabs\n",
    "df5.rename(columns={0:'ID'}, inplace=True) #renames index zero to 'ID'\n",
    "df5.rename(columns={1:'drug_name'}, inplace=True) #renames index one to drug name\n",
    "#OVERALL: df5 contains the drug name based on the 'CID' ID "
   ]
  },
  {
   "cell_type": "code",
   "execution_count": 3,
   "metadata": {},
   "outputs": [],
   "source": [
    "import xml.etree.ElementTree as ET\n",
    "import lxml.html\n",
    "#importing libraries that parse the xml file with detailed drug information "
   ]
  },
  {
   "cell_type": "code",
   "execution_count": 4,
   "metadata": {},
   "outputs": [],
   "source": [
    "path_to_file = '/Users/aditgupta/Google Drive/Research/T2D/Summer_2018/drugbank_full_database.xml' #file location of the drugbank database"
   ]
  },
  {
   "cell_type": "code",
   "execution_count": 5,
   "metadata": {},
   "outputs": [],
   "source": [
    "tree = ET.parse(path_to_file) # function that parses the xml file from drugbank"
   ]
  },
  {
   "cell_type": "code",
   "execution_count": 6,
   "metadata": {},
   "outputs": [],
   "source": [
    "def find_categories_matching_string(drug_element, category_name):\n",
    "    all_categories = drug_element.findall(\".//*{http://www.drugbank.ca}category\")\n",
    "    categories_wanted = list(filter(lambda category: category.text == category_name, all_categories))\n",
    "    return categories_wanted"
   ]
  },
  {
   "cell_type": "code",
   "execution_count": 7,
   "metadata": {},
   "outputs": [],
   "source": [
    "all_drugs = tree.findall(\"{http://www.drugbank.ca}drug\")"
   ]
  },
  {
   "cell_type": "code",
   "execution_count": 8,
   "metadata": {},
   "outputs": [],
   "source": [
    "def get_id_and_name_from_target(target):\n",
    "    id = target.find(\"{http://www.drugbank.ca}id\").text\n",
    "    name = target.find(\"{http://www.drugbank.ca}name\").text\n",
    "    effect = target.find(\"*{http://www.drugbank.ca}category\") #Blood Glucose Lowering\n",
    "    gene = target.find(\"*{http://www.drugbank.ca}gene-name\")\n",
    "    #glucose_categories = find_categories_matching_string(target, \"Blood Glucose Lowering Agents\")\n",
    "    #diabetes_categories = find_categories_matching_string(target, \"Drugs Used in Diabetes\")\n",
    "    if gene is None:\n",
    "        gene_found = None\n",
    "        \n",
    "    else:\n",
    "        gene_found= gene.text\n",
    "    return id, name, gene_found\n",
    "#function that returns the target id, target name, and gene name of a particular sample"
   ]
  },
  {
   "cell_type": "code",
   "execution_count": null,
   "metadata": {},
   "outputs": [],
   "source": []
  },
  {
   "cell_type": "code",
   "execution_count": 9,
   "metadata": {},
   "outputs": [],
   "source": [
    "new_results = []\n",
    "total_found = 0\n",
    "for drug in all_drugs:\n",
    "    drug_name = drug.find(\"{http://www.drugbank.ca}name\").text\n",
    "    drug_id = drug.find(\"{http://www.drugbank.ca}drugbank-id[@primary]\").text\n",
    "    element_containing_all_targets = drug.find(\"{http://www.drugbank.ca}targets\")\n",
    "    list_of_targets = element_containing_all_targets.findall(\"{http://www.drugbank.ca}target\")\n",
    "    obesity_categories = find_categories_matching_string(drug, \"Anti-Obesity Agents\")\n",
    "    obesity_categories2 = find_categories_matching_string(drug, \"Antiobesity Preparations, Excl. Diet Products\")\n",
    "    obesity_categories3 = find_categories_matching_string(drug, \"Appetite Depressants\")\n",
    "    if  obesity_categories == []:\n",
    "        obesity_categories = None\n",
    "    if  obesity_categories2 == []:\n",
    "        obesity_categories2 = None\n",
    "    if  obesity_categories3 == []:\n",
    "        obesity_categories3 = None\n",
    "    for target in list_of_targets:\n",
    "        target_id, target_name, target_gene = get_id_and_name_from_target(target)\n",
    "        new_results.append([drug_name, drug_id, target_id, target_name, target_gene, obesity_categories,obesity_categories2,obesity_categories3])\n",
    "    total_found += 1\n",
    "#creates an array and list that contains the drug name, drug id, target id, target name, and target gene as extracted from drug bank"
   ]
  },
  {
   "cell_type": "code",
   "execution_count": 10,
   "metadata": {},
   "outputs": [],
   "source": [
    "drug = all_drugs[0]\n",
    "element_containing_all_targets = drug.find(\"{http://www.drugbank.ca}targets\")\n",
    "list_of_targets = element_containing_all_targets.findall(\"{http://www.drugbank.ca}target\")\n",
    "target = list_of_targets[0]"
   ]
  },
  {
   "cell_type": "code",
   "execution_count": 11,
   "metadata": {},
   "outputs": [],
   "source": [
    "second_results = []\n",
    "total_found = 0\n",
    "for drug in all_drugs:\n",
    "    drug_name = drug.find(\"{http://www.drugbank.ca}name\").text\n",
    "    drug_id = drug.find(\"{http://www.drugbank.ca}drugbank-id[@primary]\").text\n",
    "    element_containing_all_targets = drug.find(\"{http://www.drugbank.ca}targets\")\n",
    "    list_of_targets = element_containing_all_targets.findall(\"{http://www.drugbank.ca}target\")\n",
    "    for target in list_of_targets:\n",
    "        target_id, target_name, target_gene = get_id_and_name_from_target(target)\n",
    "        second_results.append([drug_name, drug_id, target_id, target_name, target_gene])\n",
    "    total_found += 1\n",
    "#creates an array and list that contains the drug name, drug id, target id, target name, and target gene as extracted from drug bank"
   ]
  },
  {
   "cell_type": "code",
   "execution_count": 12,
   "metadata": {},
   "outputs": [],
   "source": [
    "df = pd.DataFrame(new_results) #df contains the results from the parsing of the xml file from drugbank\n",
    "df.columns = [\"drug_name\", \"drug_id\", \"target_id\", \"target_name\", \"target_gene\",\"anti_obesity\",'anti_obesity_exc','appetite'] #renaming the columns of the dataframe"
   ]
  },
  {
   "cell_type": "code",
   "execution_count": null,
   "metadata": {},
   "outputs": [],
   "source": []
  },
  {
   "cell_type": "code",
   "execution_count": 13,
   "metadata": {},
   "outputs": [
    {
     "data": {
      "text/html": [
       "<div>\n",
       "<style scoped>\n",
       "    .dataframe tbody tr th:only-of-type {\n",
       "        vertical-align: middle;\n",
       "    }\n",
       "\n",
       "    .dataframe tbody tr th {\n",
       "        vertical-align: top;\n",
       "    }\n",
       "\n",
       "    .dataframe thead th {\n",
       "        text-align: right;\n",
       "    }\n",
       "</style>\n",
       "<table border=\"1\" class=\"dataframe\">\n",
       "  <thead>\n",
       "    <tr style=\"text-align: right;\">\n",
       "      <th></th>\n",
       "      <th>drug_name</th>\n",
       "      <th>drug_id</th>\n",
       "      <th>target_id</th>\n",
       "      <th>target_name</th>\n",
       "      <th>target_gene</th>\n",
       "      <th>anti_obesity</th>\n",
       "      <th>anti_obesity_exc</th>\n",
       "      <th>appetite</th>\n",
       "    </tr>\n",
       "  </thead>\n",
       "  <tbody>\n",
       "    <tr>\n",
       "      <th>1333</th>\n",
       "      <td>Phentermine</td>\n",
       "      <td>DB00191</td>\n",
       "      <td>BE0000486</td>\n",
       "      <td>Sodium-dependent noradrenaline transporter</td>\n",
       "      <td>SLC6A2</td>\n",
       "      <td>[[]]</td>\n",
       "      <td>[[]]</td>\n",
       "      <td>[[]]</td>\n",
       "    </tr>\n",
       "    <tr>\n",
       "      <th>1334</th>\n",
       "      <td>Phentermine</td>\n",
       "      <td>DB00191</td>\n",
       "      <td>BE0000749</td>\n",
       "      <td>Sodium-dependent serotonin transporter</td>\n",
       "      <td>SLC6A4</td>\n",
       "      <td>[[]]</td>\n",
       "      <td>[[]]</td>\n",
       "      <td>[[]]</td>\n",
       "    </tr>\n",
       "    <tr>\n",
       "      <th>1335</th>\n",
       "      <td>Phentermine</td>\n",
       "      <td>DB00191</td>\n",
       "      <td>BE0000647</td>\n",
       "      <td>Sodium-dependent dopamine transporter</td>\n",
       "      <td>SLC6A3</td>\n",
       "      <td>[[]]</td>\n",
       "      <td>[[]]</td>\n",
       "      <td>[[]]</td>\n",
       "    </tr>\n",
       "    <tr>\n",
       "      <th>1336</th>\n",
       "      <td>Phentermine</td>\n",
       "      <td>DB00191</td>\n",
       "      <td>BE0002198</td>\n",
       "      <td>Amine oxidase [flavin-containing] A</td>\n",
       "      <td>MAOA</td>\n",
       "      <td>[[]]</td>\n",
       "      <td>[[]]</td>\n",
       "      <td>[[]]</td>\n",
       "    </tr>\n",
       "    <tr>\n",
       "      <th>1337</th>\n",
       "      <td>Phentermine</td>\n",
       "      <td>DB00191</td>\n",
       "      <td>BE0002196</td>\n",
       "      <td>Amine oxidase [flavin-containing] B</td>\n",
       "      <td>MAOB</td>\n",
       "      <td>[[]]</td>\n",
       "      <td>[[]]</td>\n",
       "      <td>[[]]</td>\n",
       "    </tr>\n",
       "  </tbody>\n",
       "</table>\n",
       "</div>"
      ],
      "text/plain": [
       "        drug_name  drug_id  target_id  \\\n",
       "1333  Phentermine  DB00191  BE0000486   \n",
       "1334  Phentermine  DB00191  BE0000749   \n",
       "1335  Phentermine  DB00191  BE0000647   \n",
       "1336  Phentermine  DB00191  BE0002198   \n",
       "1337  Phentermine  DB00191  BE0002196   \n",
       "\n",
       "                                     target_name target_gene anti_obesity  \\\n",
       "1333  Sodium-dependent noradrenaline transporter      SLC6A2         [[]]   \n",
       "1334      Sodium-dependent serotonin transporter      SLC6A4         [[]]   \n",
       "1335       Sodium-dependent dopamine transporter      SLC6A3         [[]]   \n",
       "1336         Amine oxidase [flavin-containing] A        MAOA         [[]]   \n",
       "1337         Amine oxidase [flavin-containing] B        MAOB         [[]]   \n",
       "\n",
       "     anti_obesity_exc appetite  \n",
       "1333             [[]]     [[]]  \n",
       "1334             [[]]     [[]]  \n",
       "1335             [[]]     [[]]  \n",
       "1336             [[]]     [[]]  \n",
       "1337             [[]]     [[]]  "
      ]
     },
     "execution_count": 13,
     "metadata": {},
     "output_type": "execute_result"
    }
   ],
   "source": [
    "df_category1 = df.dropna(subset = ['anti_obesity'])\n",
    "df_category1.head()"
   ]
  },
  {
   "cell_type": "code",
   "execution_count": 14,
   "metadata": {},
   "outputs": [],
   "source": [
    "df_category2 = df.dropna(subset = ['anti_obesity_exc'])\n",
    "df_category3 = df.dropna(subset = ['appetite'])\n"
   ]
  },
  {
   "cell_type": "code",
   "execution_count": null,
   "metadata": {},
   "outputs": [],
   "source": []
  },
  {
   "cell_type": "code",
   "execution_count": 15,
   "metadata": {},
   "outputs": [
    {
     "data": {
      "text/html": [
       "<div>\n",
       "<style scoped>\n",
       "    .dataframe tbody tr th:only-of-type {\n",
       "        vertical-align: middle;\n",
       "    }\n",
       "\n",
       "    .dataframe tbody tr th {\n",
       "        vertical-align: top;\n",
       "    }\n",
       "\n",
       "    .dataframe thead th {\n",
       "        text-align: right;\n",
       "    }\n",
       "</style>\n",
       "<table border=\"1\" class=\"dataframe\">\n",
       "  <thead>\n",
       "    <tr style=\"text-align: right;\">\n",
       "      <th></th>\n",
       "      <th>drug_name</th>\n",
       "      <th>number_of_targets</th>\n",
       "    </tr>\n",
       "  </thead>\n",
       "  <tbody>\n",
       "    <tr>\n",
       "      <th>0</th>\n",
       "      <td>Fostamatinib</td>\n",
       "      <td>300</td>\n",
       "    </tr>\n",
       "    <tr>\n",
       "      <th>1</th>\n",
       "      <td>Artenimol</td>\n",
       "      <td>192</td>\n",
       "    </tr>\n",
       "    <tr>\n",
       "      <th>2</th>\n",
       "      <td>Copper</td>\n",
       "      <td>147</td>\n",
       "    </tr>\n",
       "    <tr>\n",
       "      <th>3</th>\n",
       "      <td>NADH</td>\n",
       "      <td>144</td>\n",
       "    </tr>\n",
       "    <tr>\n",
       "      <th>4</th>\n",
       "      <td>Zinc</td>\n",
       "      <td>124</td>\n",
       "    </tr>\n",
       "  </tbody>\n",
       "</table>\n",
       "</div>"
      ],
      "text/plain": [
       "      drug_name  number_of_targets\n",
       "0  Fostamatinib                300\n",
       "1     Artenimol                192\n",
       "2        Copper                147\n",
       "3          NADH                144\n",
       "4          Zinc                124"
      ]
     },
     "execution_count": 15,
     "metadata": {},
     "output_type": "execute_result"
    }
   ],
   "source": [
    "df3 = df['drug_name'].value_counts() \n",
    "df4 = df3.to_frame(name=None)\n",
    "df5 = df4.reset_index()\n",
    "df6 = df5.rename(columns={'drug_name':'number_of_targets'}, inplace=False)\n",
    "df7 = df6.rename(columns={'index':'drug_name'}, inplace=False)\n",
    "df7.head()"
   ]
  },
  {
   "cell_type": "code",
   "execution_count": 16,
   "metadata": {},
   "outputs": [
    {
     "data": {
      "text/html": [
       "<div>\n",
       "<style scoped>\n",
       "    .dataframe tbody tr th:only-of-type {\n",
       "        vertical-align: middle;\n",
       "    }\n",
       "\n",
       "    .dataframe tbody tr th {\n",
       "        vertical-align: top;\n",
       "    }\n",
       "\n",
       "    .dataframe thead th {\n",
       "        text-align: right;\n",
       "    }\n",
       "</style>\n",
       "<table border=\"1\" class=\"dataframe\">\n",
       "  <thead>\n",
       "    <tr style=\"text-align: right;\">\n",
       "      <th></th>\n",
       "      <th>target_id</th>\n",
       "      <th>target_freq</th>\n",
       "    </tr>\n",
       "  </thead>\n",
       "  <tbody>\n",
       "    <tr>\n",
       "      <th>0</th>\n",
       "      <td>BE0001072</td>\n",
       "      <td>137</td>\n",
       "    </tr>\n",
       "    <tr>\n",
       "      <th>1</th>\n",
       "      <td>BE0000048</td>\n",
       "      <td>112</td>\n",
       "    </tr>\n",
       "    <tr>\n",
       "      <th>2</th>\n",
       "      <td>BE0000123</td>\n",
       "      <td>111</td>\n",
       "    </tr>\n",
       "    <tr>\n",
       "      <th>3</th>\n",
       "      <td>BE0000756</td>\n",
       "      <td>108</td>\n",
       "    </tr>\n",
       "    <tr>\n",
       "      <th>4</th>\n",
       "      <td>BE0000451</td>\n",
       "      <td>105</td>\n",
       "    </tr>\n",
       "    <tr>\n",
       "      <th>5</th>\n",
       "      <td>BE0000442</td>\n",
       "      <td>104</td>\n",
       "    </tr>\n",
       "    <tr>\n",
       "      <th>6</th>\n",
       "      <td>BE0004796</td>\n",
       "      <td>101</td>\n",
       "    </tr>\n",
       "    <tr>\n",
       "      <th>7</th>\n",
       "      <td>BE0000322</td>\n",
       "      <td>100</td>\n",
       "    </tr>\n",
       "    <tr>\n",
       "      <th>8</th>\n",
       "      <td>BE0001739</td>\n",
       "      <td>99</td>\n",
       "    </tr>\n",
       "    <tr>\n",
       "      <th>9</th>\n",
       "      <td>BE0000092</td>\n",
       "      <td>97</td>\n",
       "    </tr>\n",
       "  </tbody>\n",
       "</table>\n",
       "</div>"
      ],
      "text/plain": [
       "   target_id  target_freq\n",
       "0  BE0001072          137\n",
       "1  BE0000048          112\n",
       "2  BE0000123          111\n",
       "3  BE0000756          108\n",
       "4  BE0000451          105\n",
       "5  BE0000442          104\n",
       "6  BE0004796          101\n",
       "7  BE0000322          100\n",
       "8  BE0001739           99\n",
       "9  BE0000092           97"
      ]
     },
     "execution_count": 16,
     "metadata": {},
     "output_type": "execute_result"
    }
   ],
   "source": [
    "target_freq = df['target_id'].value_counts() #number of drugs that target a given target ID in a series\n",
    "df8 = target_freq.to_frame(name=None)\n",
    "df9 = df8.reset_index()\n",
    "df10 = df9.rename(columns={'target_id':'target_freq'}, inplace=False)\n",
    "df11 = df10.rename(columns={'index':'target_id'}, inplace=False)\n",
    "df11.head(10)"
   ]
  },
  {
   "cell_type": "code",
   "execution_count": 17,
   "metadata": {},
   "outputs": [
    {
     "data": {
      "text/html": [
       "<div>\n",
       "<style scoped>\n",
       "    .dataframe tbody tr th:only-of-type {\n",
       "        vertical-align: middle;\n",
       "    }\n",
       "\n",
       "    .dataframe tbody tr th {\n",
       "        vertical-align: top;\n",
       "    }\n",
       "\n",
       "    .dataframe thead th {\n",
       "        text-align: right;\n",
       "    }\n",
       "</style>\n",
       "<table border=\"1\" class=\"dataframe\">\n",
       "  <thead>\n",
       "    <tr style=\"text-align: right;\">\n",
       "      <th></th>\n",
       "      <th>drug_name</th>\n",
       "      <th>number_of_targets</th>\n",
       "    </tr>\n",
       "  </thead>\n",
       "  <tbody>\n",
       "    <tr>\n",
       "      <th>1508</th>\n",
       "      <td>2,3-Bis-Benzo[1,3]Dioxol-5-Ylmethyl-Succinic Acid</td>\n",
       "      <td>2</td>\n",
       "    </tr>\n",
       "    <tr>\n",
       "      <th>1509</th>\n",
       "      <td>Xanthine</td>\n",
       "      <td>2</td>\n",
       "    </tr>\n",
       "    <tr>\n",
       "      <th>1510</th>\n",
       "      <td>13-deoxydoxorubicin</td>\n",
       "      <td>2</td>\n",
       "    </tr>\n",
       "    <tr>\n",
       "      <th>1511</th>\n",
       "      <td>5-Nitroindazole</td>\n",
       "      <td>2</td>\n",
       "    </tr>\n",
       "    <tr>\n",
       "      <th>1512</th>\n",
       "      <td>NAPHTHYLOXYACETIC ACID</td>\n",
       "      <td>2</td>\n",
       "    </tr>\n",
       "  </tbody>\n",
       "</table>\n",
       "</div>"
      ],
      "text/plain": [
       "                                              drug_name  number_of_targets\n",
       "1508  2,3-Bis-Benzo[1,3]Dioxol-5-Ylmethyl-Succinic Acid                  2\n",
       "1509                                           Xanthine                  2\n",
       "1510                                13-deoxydoxorubicin                  2\n",
       "1511                                    5-Nitroindazole                  2\n",
       "1512                             NAPHTHYLOXYACETIC ACID                  2"
      ]
     },
     "execution_count": 17,
     "metadata": {},
     "output_type": "execute_result"
    }
   ],
   "source": [
    "df12 = df7[(df7['number_of_targets'])<3]  \n",
    "df12.head()"
   ]
  },
  {
   "cell_type": "code",
   "execution_count": 18,
   "metadata": {},
   "outputs": [
    {
     "data": {
      "text/html": [
       "<div>\n",
       "<style scoped>\n",
       "    .dataframe tbody tr th:only-of-type {\n",
       "        vertical-align: middle;\n",
       "    }\n",
       "\n",
       "    .dataframe tbody tr th {\n",
       "        vertical-align: top;\n",
       "    }\n",
       "\n",
       "    .dataframe thead th {\n",
       "        text-align: right;\n",
       "    }\n",
       "</style>\n",
       "<table border=\"1\" class=\"dataframe\">\n",
       "  <thead>\n",
       "    <tr style=\"text-align: right;\">\n",
       "      <th></th>\n",
       "      <th>target_id</th>\n",
       "      <th>target_freq</th>\n",
       "    </tr>\n",
       "  </thead>\n",
       "  <tbody>\n",
       "    <tr>\n",
       "      <th>0</th>\n",
       "      <td>BE0001072</td>\n",
       "      <td>137</td>\n",
       "    </tr>\n",
       "    <tr>\n",
       "      <th>1</th>\n",
       "      <td>BE0000048</td>\n",
       "      <td>112</td>\n",
       "    </tr>\n",
       "    <tr>\n",
       "      <th>2</th>\n",
       "      <td>BE0000123</td>\n",
       "      <td>111</td>\n",
       "    </tr>\n",
       "    <tr>\n",
       "      <th>3</th>\n",
       "      <td>BE0000756</td>\n",
       "      <td>108</td>\n",
       "    </tr>\n",
       "    <tr>\n",
       "      <th>4</th>\n",
       "      <td>BE0000451</td>\n",
       "      <td>105</td>\n",
       "    </tr>\n",
       "  </tbody>\n",
       "</table>\n",
       "</div>"
      ],
      "text/plain": [
       "   target_id  target_freq\n",
       "0  BE0001072          137\n",
       "1  BE0000048          112\n",
       "2  BE0000123          111\n",
       "3  BE0000756          108\n",
       "4  BE0000451          105"
      ]
     },
     "execution_count": 18,
     "metadata": {},
     "output_type": "execute_result"
    }
   ],
   "source": [
    "df13 = df11[(df11['target_freq'])>1]\n",
    "df13.head()"
   ]
  },
  {
   "cell_type": "code",
   "execution_count": 19,
   "metadata": {},
   "outputs": [
    {
     "data": {
      "text/plain": [
       "array(['SLC6A2', 'SLC6A3'], dtype=object)"
      ]
     },
     "execution_count": 19,
     "metadata": {},
     "output_type": "execute_result"
    }
   ],
   "source": [
    "df14 = pd.merge(df_category1, df12, on='drug_name', how='inner')\n",
    "df15 = df14.dropna(subset= ['target_gene'])\n",
    "df16 = pd.merge(df15, df13, on='target_id', how='outer')  \n",
    "df17 = df16.dropna(subset = ['target_gene'])\n",
    "df17['target_gene'].unique()"
   ]
  },
  {
   "cell_type": "code",
   "execution_count": null,
   "metadata": {},
   "outputs": [],
   "source": []
  },
  {
   "cell_type": "code",
   "execution_count": 20,
   "metadata": {},
   "outputs": [
    {
     "data": {
      "text/plain": [
       "array(['SLC6A2', 'SLC6A3', 'SLC6A4', 'HTR2C', 'CNR1', 'GPR55'],\n",
       "      dtype=object)"
      ]
     },
     "execution_count": 20,
     "metadata": {},
     "output_type": "execute_result"
    }
   ],
   "source": [
    "df18 = pd.merge(df_category2, df12, on='drug_name', how='inner')\n",
    "df19 = df18.dropna(subset= ['target_gene'])\n",
    "df20 = pd.merge(df19, df13, on='target_id', how='outer')  \n",
    "df21 = df20.dropna(subset = ['target_gene'])\n",
    "df21['target_gene'].unique()"
   ]
  },
  {
   "cell_type": "code",
   "execution_count": 21,
   "metadata": {},
   "outputs": [
    {
     "data": {
      "text/plain": [
       "array(['SLC6A2', 'SLC6A3'], dtype=object)"
      ]
     },
     "execution_count": 21,
     "metadata": {},
     "output_type": "execute_result"
    }
   ],
   "source": [
    "df22 = pd.merge(df_category3, df12, on='drug_name', how='inner')\n",
    "df23 = df22.dropna(subset= ['target_gene'])\n",
    "df24 = pd.merge(df23, df13, on='target_id', how='outer')  \n",
    "df25 = df24.dropna(subset = ['target_gene'])\n",
    "df25['target_gene'].unique()"
   ]
  },
  {
   "cell_type": "code",
   "execution_count": null,
   "metadata": {},
   "outputs": [],
   "source": []
  },
  {
   "cell_type": "code",
   "execution_count": null,
   "metadata": {},
   "outputs": [],
   "source": []
  },
  {
   "cell_type": "code",
   "execution_count": null,
   "metadata": {},
   "outputs": [],
   "source": []
  }
 ],
 "metadata": {
  "kernelspec": {
   "display_name": "Python 3",
   "language": "python",
   "name": "python3"
  },
  "language_info": {
   "codemirror_mode": {
    "name": "ipython",
    "version": 3
   },
   "file_extension": ".py",
   "mimetype": "text/x-python",
   "name": "python",
   "nbconvert_exporter": "python",
   "pygments_lexer": "ipython3",
   "version": "3.6.5"
  }
 },
 "nbformat": 4,
 "nbformat_minor": 2
}
