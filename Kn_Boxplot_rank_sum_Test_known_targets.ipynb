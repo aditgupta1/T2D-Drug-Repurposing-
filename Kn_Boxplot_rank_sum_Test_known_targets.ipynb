{
 "cells": [
  {
   "cell_type": "markdown",
   "metadata": {},
   "source": [
    "### Includes all rank sum tests of known T2D/glucose-lowering drugs\n"
   ]
  },
  {
   "cell_type": "code",
   "execution_count": 1,
   "metadata": {},
   "outputs": [],
   "source": [
    "import numpy as np\n",
    "import pandas as pd\n",
    "import scipy\n",
    "from scipy import stats\n",
    "import matplotlib as mpl \n",
    "import matplotlib.pyplot as plt "
   ]
  },
  {
   "cell_type": "code",
   "execution_count": 2,
   "metadata": {},
   "outputs": [],
   "source": [
    "import seaborn as sns"
   ]
  },
  {
   "cell_type": "code",
   "execution_count": 3,
   "metadata": {},
   "outputs": [],
   "source": [
    "csfont = {'fontname':'Arial'}\n"
   ]
  },
  {
   "cell_type": "code",
   "execution_count": 4,
   "metadata": {},
   "outputs": [],
   "source": [
    "background_synthetic = np.array([0.00031434, 0.0018049, 0.0041749, 0.0046251, 0.01597, 0.016719, 0.01794, 0.021838 ,0.026508, 0.026519, 0.026799, 0.031373, 0.032638, 0.033092, 0.044314, 0.048069, 0.053873, 0.053985, 0.055367, 0.057251, 0.084475, 0.085776, 0.089792, 0.095594, 0.096837, 0.10703, 0.11297,0.11756, 0.1279, 0.13899, 0.13958, 0.14589, 0.14772 ,0.15218, 0.15261, 0.15486, 0.1582, 0.16383, 0.1661, 0.16664, 0.16775, 0.17266,0.18706, 0.1906, 0.19291, 0.20157, 0.20864, 0.21504, 0.21557, 0.21974, 0.22699, 0.23258, 0.23732, 0.25212, 0.25254, 0.25287, 0.26034, 0.26324, 0.26967, 0.27469, 0.27594, 0.27634, 0.28476, 0.30003,0.30392, 0.32194,0.32331, 0.3319, 0.33347, 0.35616,0.35767, 0.39643, 0.43017, 0.43205, 0.45183, 0.46565, 0.46668, 0.46908, 0.4822, 0.4844, 0.4907, 0.49348, 0.50096, 0.50126, 0.53116, 0.56256, 0.60133, 0.68358, 0.68535, 0.68657, 0.75307,0.76732])"
   ]
  },
  {
   "cell_type": "code",
   "execution_count": 5,
   "metadata": {},
   "outputs": [
    {
     "data": {
      "text/plain": [
       "array([3.1434e-04, 1.8049e-03, 4.1749e-03, 4.6251e-03, 1.5970e-02,\n",
       "       1.6719e-02, 1.7940e-02, 2.1838e-02, 2.6508e-02, 2.6519e-02,\n",
       "       2.6799e-02, 3.1373e-02, 3.2638e-02, 3.3092e-02, 4.4314e-02,\n",
       "       4.8069e-02, 5.3873e-02, 5.3985e-02, 5.5367e-02, 5.7251e-02,\n",
       "       8.4475e-02, 8.5776e-02, 8.9792e-02, 9.5594e-02, 9.6837e-02,\n",
       "       1.0703e-01, 1.1297e-01, 1.1756e-01, 1.2790e-01, 1.3899e-01,\n",
       "       1.3958e-01, 1.4589e-01, 1.4772e-01, 1.5218e-01, 1.5261e-01,\n",
       "       1.5486e-01, 1.5820e-01, 1.6383e-01, 1.6610e-01, 1.6664e-01,\n",
       "       1.6775e-01, 1.7266e-01, 1.8706e-01, 1.9060e-01, 1.9291e-01,\n",
       "       2.0157e-01, 2.0864e-01, 2.1504e-01, 2.1557e-01, 2.1974e-01,\n",
       "       2.2699e-01, 2.3258e-01, 2.3732e-01, 2.5212e-01, 2.5254e-01,\n",
       "       2.5287e-01, 2.6034e-01, 2.6324e-01, 2.6967e-01, 2.7469e-01,\n",
       "       2.7594e-01, 2.7634e-01, 2.8476e-01, 3.0003e-01, 3.0392e-01,\n",
       "       3.2194e-01, 3.2331e-01, 3.3190e-01, 3.3347e-01, 3.5616e-01,\n",
       "       3.5767e-01, 3.9643e-01, 4.3017e-01, 4.3205e-01, 4.5183e-01,\n",
       "       4.6565e-01, 4.6668e-01, 4.6908e-01, 4.8220e-01, 4.8440e-01,\n",
       "       4.9070e-01, 4.9348e-01, 5.0096e-01, 5.0126e-01, 5.3116e-01,\n",
       "       5.6256e-01, 6.0133e-01, 6.8358e-01, 6.8535e-01, 6.8657e-01,\n",
       "       7.5307e-01, 7.6732e-01])"
      ]
     },
     "execution_count": 5,
     "metadata": {},
     "output_type": "execute_result"
    }
   ],
   "source": [
    "background_synthetic"
   ]
  },
  {
   "cell_type": "code",
   "execution_count": 6,
   "metadata": {},
   "outputs": [],
   "source": [
    "gene_set = np.array([0.014912, 0.018078, 0.02185, 0.027469, 0.031061, 0.032761, 0.19528, 0.19855])"
   ]
  },
  {
   "cell_type": "code",
   "execution_count": 7,
   "metadata": {},
   "outputs": [
    {
     "data": {
      "text/plain": [
       "array([0.014912, 0.018078, 0.02185 , 0.027469, 0.031061, 0.032761,\n",
       "       0.19528 , 0.19855 ])"
      ]
     },
     "execution_count": 7,
     "metadata": {},
     "output_type": "execute_result"
    }
   ],
   "source": [
    "gene_set"
   ]
  },
  {
   "cell_type": "code",
   "execution_count": 8,
   "metadata": {},
   "outputs": [
    {
     "data": {
      "text/plain": [
       "MannwhitneyuResult(statistic=144.0, pvalue=0.002257979636787959)"
      ]
     },
     "execution_count": 8,
     "metadata": {},
     "output_type": "execute_result"
    }
   ],
   "source": [
    "scipy.stats.mannwhitneyu(gene_set, background_synthetic)"
   ]
  },
  {
   "cell_type": "code",
   "execution_count": 9,
   "metadata": {},
   "outputs": [],
   "source": [
    "synthetic_group= np.array([0.0,.01,.02,.03,.04,.05,.06,.07,.08,.09,.1,.11,.12,.13,.14,.15,.16,.17,.18,.19,.20,.21,.22,.23,.24,.25,.26,.27,.28,.29,.3,.31,.32,.33,.34,.35,.36,.37,.38,.39,.4,.41,.42,.43,.44,.45,.46,.47,.48,.49,.5,.51,.52,.53,.54,.55,.56,.57,.58,.59,.6,.61,.62,.63,.64,.65,.66,.67,.68,.69,.7,.71,.72,.73,.74,.75,.76,.77,.78,.79,.80,.81,.82,.83,.84,.85,.86,.87,.88,.89,.9,.91,.92,.93,.94,.95,.96,.97,.98,.99])"
   ]
  },
  {
   "cell_type": "code",
   "execution_count": 13,
   "metadata": {},
   "outputs": [
    {
     "data": {
      "text/plain": [
       "array([0.  , 0.01, 0.02, 0.03, 0.04, 0.05, 0.06, 0.07, 0.08, 0.09, 0.1 ,\n",
       "       0.11, 0.12, 0.13, 0.14, 0.15, 0.16, 0.17, 0.18, 0.19, 0.2 , 0.21,\n",
       "       0.22, 0.23, 0.24, 0.25, 0.26, 0.27, 0.28, 0.29, 0.3 , 0.31, 0.32,\n",
       "       0.33, 0.34, 0.35, 0.36, 0.37, 0.38, 0.39, 0.4 , 0.41, 0.42, 0.43,\n",
       "       0.44, 0.45, 0.46, 0.47, 0.48, 0.49, 0.5 , 0.51, 0.52, 0.53, 0.54,\n",
       "       0.55, 0.56, 0.57, 0.58, 0.59, 0.6 , 0.61, 0.62, 0.63, 0.64, 0.65,\n",
       "       0.66, 0.67, 0.68, 0.69, 0.7 , 0.71, 0.72, 0.73, 0.74, 0.75, 0.76,\n",
       "       0.77, 0.78, 0.79, 0.8 , 0.81, 0.82, 0.83, 0.84, 0.85, 0.86, 0.87,\n",
       "       0.88, 0.89, 0.9 , 0.91, 0.92, 0.93, 0.94, 0.95, 0.96, 0.97, 0.98,\n",
       "       0.99])"
      ]
     },
     "execution_count": 13,
     "metadata": {},
     "output_type": "execute_result"
    }
   ],
   "source": [
    "synthetic_group"
   ]
  },
  {
   "cell_type": "code",
   "execution_count": 14,
   "metadata": {},
   "outputs": [],
   "source": [
    "gene_set = (0.95, 0.91, 0.85, 0.84, 0.81, 0.48, 0.47)"
   ]
  },
  {
   "cell_type": "code",
   "execution_count": 15,
   "metadata": {},
   "outputs": [
    {
     "data": {
      "text/plain": [
       "(0.95, 0.91, 0.85, 0.84, 0.81, 0.48, 0.47)"
      ]
     },
     "execution_count": 15,
     "metadata": {},
     "output_type": "execute_result"
    }
   ],
   "source": [
    "gene_set"
   ]
  },
  {
   "cell_type": "code",
   "execution_count": 16,
   "metadata": {},
   "outputs": [],
   "source": [
    "data_to_plot = [synthetic_group, gene_set]"
   ]
  },
  {
   "cell_type": "code",
   "execution_count": 17,
   "metadata": {},
   "outputs": [
    {
     "data": {
      "image/png": "[encoded data removed]",
      "text/plain": [
       "<Figure size 648x432 with 1 Axes>"
      ]
     },
     "metadata": {},
     "output_type": "display_data"
    }
   ],
   "source": [
    "fig = plt.figure(1, figsize=(9, 6))\n",
    "ax = fig.add_subplot(111)\n",
    "bp = ax.boxplot(data_to_plot)\n",
    "ax.set_xticklabels(['Background', 'Gene Set'],**csfont)\n",
    "ax.set_ylabel('Rank Percentile',**csfont)\n",
    "ax.set_title('Gene-level Associations with Known T2D Drug Targets (p = 0.00226)', **csfont)\n",
    "fig.savefig('all_burden_known.png', bbox_inches='tight', dpi = 600)\n"
   ]
  },
  {
   "cell_type": "code",
   "execution_count": null,
   "metadata": {},
   "outputs": [],
   "source": []
  },
  {
   "cell_type": "code",
   "execution_count": 18,
   "metadata": {},
   "outputs": [],
   "source": [
    "bmi_synthetic = np.array([0.00079371,0.0038529, 0.0038692, 0.011781, 0.016211, 0.020746,0.023691,0.025932,0.031883,0.03346,0.034047,0.042854,0.045173,0.050497,0.050799, 0.052086,0.052312,0.057919,0.064807,0.071449,0.076924,0.077906,0.082264,0.089912,0.091958,0.1219,0.12432,0.13278,0.1383,0.14031,0.14055,0.14078,0.1431,0.14611,0.14673,0.14708,0.16128,0.16421,0.16679,0.16906,0.17604,0.1802,0.18065,0.18321,0.18527,0.20456,0.20575,0.20709,0.21287,0.21325,0.21722,0.21781,0.23288,0.23341,0.23601,0.2409,0.24554,0.24683,0.25484,0.25776,0.27397,0.28105,0.29017,0.29022,0.29842,0.29855,0.30654,0.31335,0.37021,0.39238,0.39683,0.40993,0.41709,0.42105, 0.42813,0.43352,0.46393,0.47006,0.49413,0.50238,0.51816,0.54151,0.5448,0.55668,0.56105,0.56837,0.58265,0.58482,0.58714, 0.65654, 0.748320,.87922])"
   ]
  },
  {
   "cell_type": "code",
   "execution_count": 19,
   "metadata": {},
   "outputs": [],
   "source": [
    "bmi_gene_set = np.array([0.0021861,0.0027699,0.052189,0.14168,0.15448,0.21992,0.32328,0.3402])"
   ]
  },
  {
   "cell_type": "code",
   "execution_count": 20,
   "metadata": {},
   "outputs": [
    {
     "data": {
      "text/plain": [
       "MannwhitneyuResult(statistic=274.0, pvalue=0.11742414154597619)"
      ]
     },
     "execution_count": 20,
     "metadata": {},
     "output_type": "execute_result"
    }
   ],
   "source": [
    "scipy.stats.mannwhitneyu(bmi_synthetic, bmi_gene_set) #testing for significance for bmi and the 8 gene 'gene set'"
   ]
  },
  {
   "cell_type": "code",
   "execution_count": 21,
   "metadata": {},
   "outputs": [],
   "source": [
    "bmi_all_percentile = np.array([0.0,.01,.02,.03,.04,.05,.06,.07,.08,.09,.1,.11,.12,.13,.14,.15,.16,.17,.18,.19,.20,.21,.22,.23,.24,.25,.26,.27,.28,.29,.3,.31,.32,.33,.34,.35,.36,.37,.38,.39,.4,.41,.42,.43,.44,.45,.46,.47,.48,.49,.5,.51,.52,.53,.54,.55,.56,.57,.58,.59,.6,.61,.62,.63,.64,.65,.66,.67,.68,.69,.7,.71,.72,.73,.74,.75,.76,.77,.78,.79,.80,.81,.82,.83,.84,.85,.86,.87,.88,.89,.9,.91,.92,.93,.94,.95,.96,.97,.98,.99])"
   ]
  },
  {
   "cell_type": "code",
   "execution_count": 22,
   "metadata": {},
   "outputs": [],
   "source": [
    "bmi_gene_set_percentile = np.array([0.98,0.97, 0.81, 0.64, 0.59, 0.42, 0.25, 0.24])\n"
   ]
  },
  {
   "cell_type": "code",
   "execution_count": 23,
   "metadata": {},
   "outputs": [],
   "source": [
    "bmi_plot = [bmi_all_percentile, bmi_gene_set_percentile]"
   ]
  },
  {
   "cell_type": "code",
   "execution_count": 24,
   "metadata": {},
   "outputs": [
    {
     "data": {
      "image/png": "[encoded data removed]",
      "text/plain": [
       "<Figure size 648x432 with 1 Axes>"
      ]
     },
     "metadata": {},
     "output_type": "display_data"
    }
   ],
   "source": [
    "bmi_fig = plt.figure(1, figsize=(9, 6))\n",
    "ax_bmi = bmi_fig.add_subplot(111)\n",
    "bp = ax_bmi.boxplot(bmi_plot)\n",
    "ax_bmi.set_xticklabels(['Background', 'Gene Set'])\n",
    "ax_bmi.set_ylabel('Rank Percentile')\n",
    "ax_bmi.set_title(\"BMI Association with Known Drug Targets (P-value = 0.117424)\")\n",
    "bmi_fig.savefig('bmi_known.png', bbox_inches='tight')\n"
   ]
  },
  {
   "cell_type": "code",
   "execution_count": 25,
   "metadata": {},
   "outputs": [],
   "source": [
    "fast_insulin_synthetic = np.array([0.001082,0.0016243,0.0032657,0.00684,0.020092,0.020111,0.025561,0.027516,0.03451,0.039758,0.039967,0.040977,0.043761,0.045895,0.046694,0.059579,0.062997,0.064848,0.066645,0.075656,0.079519,0.081533,0.082935,0.085064,0.092022,0.095618,0.1207,0.13698,0.14036,0.14585,0.15562,0.15628,0.15647,0.16976,0.17064,0.17182,0.17717,0.18694,0.18819,0.19511,0.20046,0.20225,0.21469,0.22138,0.22344,0.23146,0.2511,0.25628,0.26565,0.2745,0.28223,0.28629,0.28879,0.31492,0.31855,0.32806,0.33531,0.34331,0.3453,0.34985,0.35149,0.35653,0.36748,0.37015,0.37892,0.38481,0.39798,0.44337,0.44639,0.45117,0.45477,0.45665,0.49636,0.51422,0.52191,0.53849,0.54477,0.54534,0.54534,0.58669,0.59918,0.6225,0.64193,0.64866,0.68637,0.68832,0.69885,0.79252,0.79313,0.83817,0.87012,0.92403])"
   ]
  },
  {
   "cell_type": "code",
   "execution_count": 26,
   "metadata": {},
   "outputs": [],
   "source": [
    "fast_insulin_gene_set = np.array([0.0069108,0.015357,0.036878,0.058421,0.15873,0.25563,0.29449,0.51742])"
   ]
  },
  {
   "cell_type": "code",
   "execution_count": 27,
   "metadata": {},
   "outputs": [
    {
     "data": {
      "text/plain": [
       "MannwhitneyuResult(statistic=239.0, pvalue=0.05127037819672047)"
      ]
     },
     "execution_count": 27,
     "metadata": {},
     "output_type": "execute_result"
    }
   ],
   "source": [
    "scipy.stats.mannwhitneyu(fast_insulin_synthetic, fast_insulin_gene_set) #testing for significance for bmi and the 8 gene 'gene set'"
   ]
  },
  {
   "cell_type": "code",
   "execution_count": 28,
   "metadata": {},
   "outputs": [],
   "source": [
    "fast_insulin_all_percentile = np.array([0.0,.01,.02,.03,.04,.05,.06,.07,.08,.09,.1,.11,.12,.13,.14,.15,.16,.17,.18,.19,.20,.21,.22,.23,.24,.25,.26,.27,.28,.29,.3,.31,.32,.33,.34,.35,.36,.37,.38,.39,.4,.41,.42,.43,.44,.45,.46,.47,.48,.49,.5,.51,.52,.53,.54,.55,.56,.57,.58,.59,.6,.61,.62,.63,.64,.65,.66,.67,.68,.69,.7,.71,.72,.73,.74,.75,.76,.77,.78,.79,.80,.81,.82,.83,.84,.85,.86,.87,.88,.89,.9,.91,.92,.93,.94,.95,.96,.97,.98,.99])"
   ]
  },
  {
   "cell_type": "code",
   "execution_count": 29,
   "metadata": {},
   "outputs": [],
   "source": [
    "fast_insulin_gene_set_percentile = np.array([0.95,0.94, 0.88, 0.81, 0.62, 0.47, 0.4, 0.18])"
   ]
  },
  {
   "cell_type": "code",
   "execution_count": 30,
   "metadata": {},
   "outputs": [],
   "source": [
    "fast_ins_plot = [fast_insulin_all_percentile,fast_insulin_gene_set_percentile]"
   ]
  },
  {
   "cell_type": "code",
   "execution_count": 31,
   "metadata": {},
   "outputs": [
    {
     "data": {
      "image/png": "[encoded data removed]",
      "text/plain": [
       "<Figure size 648x432 with 1 Axes>"
      ]
     },
     "metadata": {},
     "output_type": "display_data"
    }
   ],
   "source": [
    "fast_ins_fig = plt.figure(1, figsize=(9, 6))\n",
    "ax_fast_ins = fast_ins_fig.add_subplot(111)\n",
    "bp = ax_fast_ins.boxplot(fast_ins_plot)\n",
    "ax_fast_ins.set_xticklabels(['Background', 'Gene Set'],**csfont)\n",
    "ax_fast_ins.set_ylabel('Rank Percentile',**csfont)\n",
    "ax_fast_ins.set_title(\"Fasting Insulin Association with Known T2D Drug Targets (p = 0.05127)\",**csfont)\n",
    "fast_ins_fig.savefig('known_fast_ins.png', bbox_inches='tight', dpi = 600)\n"
   ]
  },
  {
   "cell_type": "code",
   "execution_count": 32,
   "metadata": {},
   "outputs": [],
   "source": [
    "dbp_synthetic = ([0.000000022889,\t0.00004608,\t0.000066945,\t0.0002258,\t0.0034237,\t0.0061159,\t0.0086051,\t0.012321,\t0.01724,\t0.017506,\t0.017629,\t0.021403,\t0.022644,\t0.026643,\t0.027507,\t0.03064,\t0.032194,\t0.037891,\t0.040311,\t0.042834,\t0.04507,\t0.056788,\t0.062628,\t0.066,\t0.070895,\t0.078396,\t0.079644,\t0.080668,\t0.084587,\t0.094796,\t0.1066,\t0.12505,\t0.12693,\t0.13653,\t0.13683,\t0.1392,\t0.14274,\t0.14772,\t0.14832,\t0.15009,\t0.1518,\t0.15524,\t0.15786,\t0.15886,\t0.16933,\t0.17196,\t0.2014,\t0.21268,\t0.21477,\t0.21887,0.23124,\t0.2318,\t0.24528,\t0.26021,\t0.30421,\t0.31021,\t0.32456,\t0.32985,\t0.3318,\t0.3325,\t0.34769,\t0.377,\t0.40029,\t0.41799,\t0.42065,\t0.43235,\t0.43409,\t0.43653,\t0.44024,\t0.44377,\t0.44631,\t0.4549,\t0.46191,\t0.50597,\t0.50714,\t0.51038,\t0.51911,\t0.53315,\t0.55076,\t0.55447,\t0.59437,\t0.59619,\t0.62384,\t0.64004,\t0.64375,\t0.64566,\t0.69843,\t0.71624,\t0.81511,\t0.81722,\t0.83469])"
   ]
  },
  {
   "cell_type": "code",
   "execution_count": 33,
   "metadata": {},
   "outputs": [],
   "source": [
    "dbp_gene_set = ([0.032102,0.042615,0.051577,0.12496,0.13026,0.16515,0.17318,0.69232])"
   ]
  },
  {
   "cell_type": "code",
   "execution_count": 34,
   "metadata": {},
   "outputs": [
    {
     "data": {
      "text/plain": [
       "MannwhitneyuResult(statistic=296.0, pvalue=0.19307512649944025)"
      ]
     },
     "execution_count": 34,
     "metadata": {},
     "output_type": "execute_result"
    }
   ],
   "source": [
    "scipy.stats.mannwhitneyu(dbp_synthetic, dbp_gene_set)"
   ]
  },
  {
   "cell_type": "code",
   "execution_count": 35,
   "metadata": {},
   "outputs": [],
   "source": [
    "dbp_all_percentile = np.array([0.0,.01,.02,.03,.04,.05,.06,.07,.08,.09,.1,.11,.12,.13,.14,.15,.16,.17,.18,.19,.20,.21,.22,.23,.24,.25,.26,.27,.28,.29,.3,.31,.32,.33,.34,.35,.36,.37,.38,.39,.4,.41,.42,.43,.44,.45,.46,.47,.48,.49,.5,.51,.52,.53,.54,.55,.56,.57,.58,.59,.6,.61,.62,.63,.64,.65,.66,.67,.68,.69,.7,.71,.72,.73,.74,.75,.76,.77,.78,.79,.80,.81,.82,.83,.84,.85,.86,.87,.88,.89,.9,.91,.92,.93,.94,.95,.96,.97,.98,.99])"
   ]
  },
  {
   "cell_type": "code",
   "execution_count": 36,
   "metadata": {},
   "outputs": [],
   "source": [
    "dbp_gene_set_percentile = ([0.83,0.79,0.76,0.64,.61,0.49, 0.46,0.05])"
   ]
  },
  {
   "cell_type": "code",
   "execution_count": 37,
   "metadata": {},
   "outputs": [],
   "source": [
    "dbp_plot = [dbp_all_percentile, dbp_gene_set_percentile]"
   ]
  },
  {
   "cell_type": "code",
   "execution_count": null,
   "metadata": {},
   "outputs": [],
   "source": []
  },
  {
   "cell_type": "code",
   "execution_count": 92,
   "metadata": {},
   "outputs": [
    {
     "data": {
      "image/png": "[encoded data removed]",
      "text/plain": [
       "<Figure size 648x432 with 1 Axes>"
      ]
     },
     "metadata": {},
     "output_type": "display_data"
    }
   ],
   "source": [
    "dbp_fig = plt.figure(1, figsize=(9, 6))\n",
    "ax_dbp = dbp_fig.add_subplot(111)\n",
    "bp = ax_dbp.boxplot(dbp_plot)\n",
    "ax_dbp.set_xticklabels(['Background', 'Gene Set'])\n",
    "ax_dbp.set_ylabel('Rank Percentile')\n",
    "ax_dbp.set_title(\"Diastolic Blood Pressure Associations with Known Drug Targets\")\n",
    "dbp_fig.savefig('dbp_known.png', bbox_inches='tight')\n"
   ]
  },
  {
   "cell_type": "code",
   "execution_count": 39,
   "metadata": {},
   "outputs": [
    {
     "data": {
      "text/plain": [
       "{'whiskers': [<matplotlib.lines.Line2D at 0x105bbe0f0>,\n",
       "  <matplotlib.lines.Line2D at 0x105bbe588>,\n",
       "  <matplotlib.lines.Line2D at 0x105bc7eb8>,\n",
       "  <matplotlib.lines.Line2D at 0x105bcf320>],\n",
       " 'caps': [<matplotlib.lines.Line2D at 0x105bbe9b0>,\n",
       "  <matplotlib.lines.Line2D at 0x105bbedd8>,\n",
       "  <matplotlib.lines.Line2D at 0x105bcf748>,\n",
       "  <matplotlib.lines.Line2D at 0x105bcfb70>],\n",
       " 'boxes': [<matplotlib.lines.Line2D at 0x105bb4f60>,\n",
       "  <matplotlib.lines.Line2D at 0x105bc7a58>],\n",
       " 'medians': [<matplotlib.lines.Line2D at 0x105bc7240>,\n",
       "  <matplotlib.lines.Line2D at 0x105bcff98>],\n",
       " 'fliers': [<matplotlib.lines.Line2D at 0x105bc7668>,\n",
       "  <matplotlib.lines.Line2D at 0x105bd7400>],\n",
       " 'means': []}"
      ]
     },
     "execution_count": 39,
     "metadata": {},
     "output_type": "execute_result"
    }
   ],
   "source": [
    "bp"
   ]
  },
  {
   "cell_type": "code",
   "execution_count": 40,
   "metadata": {},
   "outputs": [],
   "source": [
    "ldl_synthetic =np.array([0.00002271,\t0.0019724,\t0.005225,\t0.0070993,\t0.013821,\t0.017698,\t0.03205,\t0.03318,\t0.034652,\t0.037375,\t0.037776,\t0.04262,\t0.045844,0.050506,0.096049,0.098175,0.10914,0.11107,0.16091,0.23101,0.23298,0.23688,0.25183,\t0.2586,\t0.25892,\t0.26087,\t0.26893,\t0.27817,\t0.28713,\t0.29328,\t0.29358,\t0.29782,\t0.32235,\t0.34152,\t0.35174,\t0.39349,\t0.39484,\t0.40354,\t0.41942,\t0.42151,\t0.43616,\t0.45121,\t0.45228,\t0.47121,\t0.47167,\t0.49364,\t0.5025,\t0.50697,\t0.51358,\t0.54785,\t0.59367,\t0.60314,\t0.62833,\t0.63492,\t0.637,\t0.64312,\t0.66987,\t0.67492,\t0.68715,\t0.6919,\t0.72561,\t0.74419,\t0.75256,0.12762,\t0.1279,\t0.13506,\t0.13528,\t0.14069,\t0.1432,\t0.14763,\t0.14808,0.16969,\t0.1757,\t0.17892,\t0.18104,\t0.18112,\t0.18771,\t0.1918,\t0.19445,\t0.19961,\t0.20277,\t0.20388,\t0.21006])"
   ]
  },
  {
   "cell_type": "code",
   "execution_count": 41,
   "metadata": {},
   "outputs": [],
   "source": [
    "ldl_gene_set = np.array([0.050216,0.052409,0.090614,0.11883,0.15523,0.1648,0.21486,0.23717])"
   ]
  },
  {
   "cell_type": "code",
   "execution_count": 42,
   "metadata": {},
   "outputs": [
    {
     "data": {
      "text/plain": [
       "MannwhitneyuResult(statistic=193.0, pvalue=0.02611913594877418)"
      ]
     },
     "execution_count": 42,
     "metadata": {},
     "output_type": "execute_result"
    }
   ],
   "source": [
    "scipy.stats.mannwhitneyu(ldl_gene_set, ldl_synthetic, alternative = 'less')"
   ]
  },
  {
   "cell_type": "code",
   "execution_count": 43,
   "metadata": {},
   "outputs": [],
   "source": [
    "ldl_all_percentile = np.array([0.0,.01,.02,.03,.04,.05,.06,.07,.08,.09,.1,.11,.12,.13,.14,.15,.16,.17,.18,.19,.20,.21,.22,.23,.24,.25,.26,.27,.28,.29,.3,.31,.32,.33,.34,.35,.36,.37,.38,.39,.4,.41,.42,.43,.44,.45,.46,.47,.48,.49,.5,.51,.52,.53,.54,.55,.56,.57,.58,.59,.6,.61,.62,.63,.64,.65,.66,.67,.68,.69,.7,.71,.72,.73,.74,.75,.76,.77,.78,.79,.80,.81,.82,.83,.84,.85,.86,.87,.88,.89,.9,.91,.92,.93,.94,.95,.96,.97,.98,.99])"
   ]
  },
  {
   "cell_type": "code",
   "execution_count": 44,
   "metadata": {},
   "outputs": [],
   "source": [
    "ldl_gene_set_percentile = ([0.86,0.84,0.74,0.69,0.6,0.58,0.45,0.41])"
   ]
  },
  {
   "cell_type": "code",
   "execution_count": 45,
   "metadata": {},
   "outputs": [],
   "source": [
    "ldl_plot = [ldl_all_percentile, ldl_gene_set_percentile]"
   ]
  },
  {
   "cell_type": "code",
   "execution_count": 46,
   "metadata": {},
   "outputs": [
    {
     "data": {
      "image/png": "[encoded data removed]",
      "text/plain": [
       "<Figure size 648x432 with 1 Axes>"
      ]
     },
     "metadata": {},
     "output_type": "display_data"
    }
   ],
   "source": [
    "ldl_fig = plt.figure(1, figsize=(9, 6))\n",
    "ax_ldl = ldl_fig.add_subplot(111)\n",
    "bp = ax_ldl.boxplot(ldl_plot)\n",
    "ax_ldl.set_xticklabels(['Background', 'Gene Set'])\n",
    "ax_ldl.set_ylabel('Rank Percentile')\n",
    "ax_ldl.set_title(\"LDL Association with Known T2D Drug Targets (p = 0.02612)\")\n",
    "ldl_fig.savefig('known_ldl.png', bbox_inches='tight', dpi =  600)"
   ]
  },
  {
   "cell_type": "code",
   "execution_count": 47,
   "metadata": {},
   "outputs": [],
   "source": [
    "tchol_synthetic =np.array([0.023028,\t0.023683,\t0.026275,\t0.031553,\t0.032482,\t0.035409,\t0.038646,\t0.041231,\t0.046382,\t0.049498,\t0.054506,\t0.055462,\t0.097696,\t0.10244,\t0.10808,\t0.11001,\t0.11381,\t0.1142,\t0.12707,\t0.1356,\t0.14404,\t0.14808,\t0.15112,\t0.15915,\t0.16164,\t0.16975,\t0.17258,\t0.17305,\t0.17337,\t0.17342,\t0.17353,\t0.17852,\t0.18006,\t0.18441,\t0.18741,\t0.19407,\t0.19647,\t0.20878,\t0.21196,\t0.21308,\t0.21341,\t0.22538,\t0.22932,\t0.23079,\t0.2417,\t0.24209,\t0.25252,\t0.25433,\t0.27156,\t0.27684,\t0.27796,\t0.28458,\t0.29853,\t0.30725,\t0.31642,\t0.31672,\t0.32243,\t0.33219,\t0.34027,\t0.34237,\t0.34865,\t0.35036,\t0.35198,\t0.35441,\t0.36353,\t0.38926,\t0.3925,\t0.39485,\t0.41315,\t0.41611,\t0.42713,\t0.43154,\t0.43228,\t0.43302,\t0.43525,\t0.43619,\t0.43739,\t0.44447,\t0.44666,\t0.47071,\t0.47168,\t0.47193,\t0.47544,\t0.47868,\t0.48809,\t0.49194,\t0.50818,\t0.50962,\t0.58622,\t0.60451,\t0.73482,\t0.85624])"
   ]
  },
  {
   "cell_type": "code",
   "execution_count": 48,
   "metadata": {},
   "outputs": [],
   "source": [
    "tchol_gene_set = np.array([0.020044,0.026275,0.031553,0.19647,0.34865,0.35198,0.35441,0.39485])"
   ]
  },
  {
   "cell_type": "code",
   "execution_count": 49,
   "metadata": {},
   "outputs": [
    {
     "data": {
      "text/plain": [
       "MannwhitneyuResult(statistic=296.5, pvalue=0.1834997692366539)"
      ]
     },
     "execution_count": 49,
     "metadata": {},
     "output_type": "execute_result"
    }
   ],
   "source": [
    "scipy.stats.mannwhitneyu(tchol_synthetic, tchol_gene_set)"
   ]
  },
  {
   "cell_type": "code",
   "execution_count": 50,
   "metadata": {},
   "outputs": [],
   "source": [
    "tchol_all_percentile = np.array([0.0,.01,.02,.03,.04,.05,.06,.07,.08,.09,.1,.11,.12,.13,.14,.15,.16,.17,.18,.19,.20,.21,.22,.23,.24,.25,.26,.27,.28,.29,.3,.31,.32,.33,.34,.35,.36,.37,.38,.39,.4,.41,.42,.43,.44,.45,.46,.47,.48,.49,.5,.51,.52,.53,.54,.55,.56,.57,.58,.59,.6,.61,.62,.63,.64,.65,.66,.67,.68,.69,.7,.71,.72,.73,.74,.75,.76,.77,.78,.79,.80,.81,.82,.83,.84,.85,.86,.87,.88,.89,.9,.91,.92,.93,.94,.95,.96,.97,.98,.99])"
   ]
  },
  {
   "cell_type": "code",
   "execution_count": 51,
   "metadata": {},
   "outputs": [],
   "source": [
    "tchol_gene_set_percentile = ([0.92,0.89,0.88,0.55,0.31,0.29,0.28,0.24])"
   ]
  },
  {
   "cell_type": "code",
   "execution_count": 52,
   "metadata": {},
   "outputs": [],
   "source": [
    "tchol_plot = [tchol_all_percentile, tchol_gene_set_percentile]"
   ]
  },
  {
   "cell_type": "code",
   "execution_count": 53,
   "metadata": {},
   "outputs": [
    {
     "data": {
      "image/png": "[encoded data removed]",
      "text/plain": [
       "<Figure size 648x432 with 1 Axes>"
      ]
     },
     "metadata": {},
     "output_type": "display_data"
    }
   ],
   "source": [
    "tchol_fig = plt.figure(1, figsize=(9, 6))\n",
    "ax_tchol = tchol_fig.add_subplot(111)\n",
    "bp = ax_tchol.boxplot(tchol_plot)\n",
    "ax_tchol.set_xticklabels(['Background', 'Gene Set'])\n",
    "ax_tchol.set_ylabel('Rank Percentile')\n",
    "ax_tchol.set_title(\"T Cholesterol Association with Known Drug Targets (P-value = )\")\n",
    "tchol_fig.savefig('tchol_known.png', bbox_inches='tight')"
   ]
  },
  {
   "cell_type": "code",
   "execution_count": 54,
   "metadata": {},
   "outputs": [],
   "source": [
    "hdl_synthetic =np.array([0.098361,\t0.066153,\t0.066483,\t0.73544,\t0.14936,\t0.19958,\t0.12333,\t0.11651,\t0.29146,\t0.069835,\t0.035409,\t0.25605,\t0.42427,\t0.44147,\t0.036447,\t0.26571,\t0.10014,\t0.091901,\t0.071734,\t0.38826,\t0.23722,\t0.48133,\t0.33148,\t0.65326,\t0.36712,\t0.85703,\t0.12853,\t0.2985,\t0.038334,\t0.46802,\t0.85984,\t0.0084627,\t0.10472,\t0.39528,\t0.014911,\t0.50841,\t0.031439,\t0.52614,\t0.24461,\t0.071374,\t0.20604,\t0.23969,\t0.0060076,\t0.01476,\t0.017621,\t0.32182,\t0.27989,\t0.40879,\t0.18327,\t0.57533,\t0.12175,\t0.4216,\t0.31119,\t0.13936,\t0.16718,\t0.034834,\t0.1032,\t0.44723,\t0.18294,\t0.040425,\t0.23195,\t0.097182,\t0.21658,\t0.30095,\t0.22983,\t0.08572,\t0.075104,\t0.77831,\t0.041199,\t0.28124,\t0.071699,\t0.60126,\t0.14164,\t0.79716,\t0.00035122,\t0.31502,\t0.04301,\t0.49415,\t0.093162,\t0.015632,\t0.31945,\t0.097043,\t0.34465,\t0.013148,\t0.37818,\t0.62219,\t0.041031,\t0.61567,\t0.3438,\t0.6198,\t0.47903,\t0.25406])"
   ]
  },
  {
   "cell_type": "code",
   "execution_count": 55,
   "metadata": {},
   "outputs": [],
   "source": [
    "hdl_gene_set = np.array([0.053428,0.094842,0.13553,0.043974,0.39389,0.18119,0.46417, 0.31054])"
   ]
  },
  {
   "cell_type": "code",
   "execution_count": 56,
   "metadata": {},
   "outputs": [
    {
     "data": {
      "text/plain": [
       "MannwhitneyuResult(statistic=342.0, pvalue=0.37297291450559433)"
      ]
     },
     "execution_count": 56,
     "metadata": {},
     "output_type": "execute_result"
    }
   ],
   "source": [
    "scipy.stats.mannwhitneyu(hdl_synthetic, hdl_gene_set)"
   ]
  },
  {
   "cell_type": "code",
   "execution_count": 57,
   "metadata": {},
   "outputs": [],
   "source": [
    "hdl_all_percentile = np.array([0.0,.01,.02,.03,.04,.05,.06,.07,.08,.09,.1,.11,.12,.13,.14,.15,.16,.17,.18,.19,.20,.21,.22,.23,.24,.25,.26,.27,.28,.29,.3,.31,.32,.33,.34,.35,.36,.37,.38,.39,.4,.41,.42,.43,.44,.45,.46,.47,.48,.49,.5,.51,.52,.53,.54,.55,.56,.57,.58,.59,.6,.61,.62,.63,.64,.65,.66,.67,.68,.69,.7,.71,.72,.73,.74,.75,.76,.77,.78,.79,.80,.81,.82,.83,.84,.85,.86,.87,.88,.89,.9,.91,.92,.93,.94,.95,.96,.97,.98,.99])"
   ]
  },
  {
   "cell_type": "code",
   "execution_count": 58,
   "metadata": {},
   "outputs": [],
   "source": [
    "hdl_gene_set_percentile = np.array([0.82, 0.81,.7,0.59,.54,0.35,.24,.17])"
   ]
  },
  {
   "cell_type": "code",
   "execution_count": 59,
   "metadata": {},
   "outputs": [],
   "source": [
    "hdl_plot = [hdl_all_percentile, hdl_gene_set_percentile]"
   ]
  },
  {
   "cell_type": "code",
   "execution_count": 60,
   "metadata": {},
   "outputs": [
    {
     "data": {
      "image/png": "[encoded data removed]",
      "text/plain": [
       "<Figure size 648x432 with 1 Axes>"
      ]
     },
     "metadata": {},
     "output_type": "display_data"
    }
   ],
   "source": [
    "hdl_fig = plt.figure(1, figsize=(9, 6))\n",
    "ax_hdl = hdl_fig.add_subplot(111)\n",
    "bp = ax_hdl.boxplot(hdl_plot)\n",
    "ax_hdl.set_xticklabels(['Background', 'Gene Set'])\n",
    "ax_hdl.set_ylabel('Rank Percentile')\n",
    "ax_hdl.set_title(\"H dl Cholesterol Association with Known Drug Targets (P-value = 0.37297)\")\n",
    "hdl_fig.savefig('hdl_known.png', bbox_inches='tight')"
   ]
  },
  {
   "cell_type": "code",
   "execution_count": 61,
   "metadata": {},
   "outputs": [],
   "source": [
    "tg_synthetic =np.array([0.30484,\t0.52646,\t0.15841,\t0.31778,\t0.61474,\t0.29907,\t0.12333,\t0.11651,\t0.44293,\t0.0062816,\t0.13047,\t0.20328,\t0.31427,\t0.38884,\t0.53637,\t0.47601,\t0.10014,\t0.13773,\t0.17914,\t0.2951,\t0.23722,\t0.28185,\t0.1559,\t0.26536,\t0.47147,\t0.44846,\t0.5624,\t0.16193,\t0.23991,\t0.346,\t0.17611,\t0.090376,\t0.23889,\t0.74921,\t0.18096,\t0.24905,\t0.017779,\t0.18609,\t0.061298,\t0.6375,\t0.045011,\t0.49151,\t0.032145,\t0.18881,\t0.016281,\t0.3519,\t0.43979,\t0.12698,\t0.52938,\t0.048974,\t0.35632,\t0.3083,\t0.11258,\t0.10979,\t0.17266,\t0.20303,\t0.13987,\t0.26533,\t0.10774,\t0.1372,\t0.81168,\t0.54937,\t0.13656,\t0.068885,\t0.060889,\t0.41304,\t0.32103,\t0.22172,\t0.39247,\t0.28603,\t0.23236,\t0.71898,\t0.11357,\t0.10046,\t0.073946,\t0.0070993,\t0.42151,\t0.090479,\t0.14808,\t0.11481,\t0.38415,\t0.0028781,\t0.086141,\t0.24907,\t0.21421,\t0.057202,\t0.02279,\t0.30149,\t0.16871,\t0.044359,\t0.72324,\t0.13307])"
   ]
  },
  {
   "cell_type": "code",
   "execution_count": 62,
   "metadata": {},
   "outputs": [],
   "source": [
    "tg_gene_set = ([0.11462,0.012422,0.043974,0.064962,0.16862,0.18776,0.34524,0.39389])"
   ]
  },
  {
   "cell_type": "code",
   "execution_count": 63,
   "metadata": {},
   "outputs": [
    {
     "data": {
      "text/plain": [
       "MannwhitneyuResult(statistic=269.0, pvalue=0.10537794519944671)"
      ]
     },
     "execution_count": 63,
     "metadata": {},
     "output_type": "execute_result"
    }
   ],
   "source": [
    "scipy.stats.mannwhitneyu(tg_synthetic, tg_gene_set)"
   ]
  },
  {
   "cell_type": "code",
   "execution_count": 64,
   "metadata": {},
   "outputs": [],
   "source": [
    "tg_all_percentile = np.array([0.0,.01,.02,.03,.04,.05,.06,.07,.08,.09,.1,.11,.12,.13,.14,.15,.16,.17,.18,.19,.20,.21,.22,.23,.24,.25,.26,.27,.28,.29,.3,.31,.32,.33,.34,.35,.36,.37,.38,.39,.4,.41,.42,.43,.44,.45,.46,.47,.48,.49,.5,.51,.52,.53,.54,.55,.56,.57,.58,.59,.6,.61,.62,.63,.64,.65,.66,.67,.68,.69,.7,.71,.72,.73,.74,.75,.76,.77,.78,.79,.80,.81,.82,.83,.84,.85,.86,.87,.88,.89,.9,.91,.92,.93,.94,.95,.96,.97,.98,.99])"
   ]
  },
  {
   "cell_type": "code",
   "execution_count": 65,
   "metadata": {},
   "outputs": [],
   "source": [
    "tg_gene_set_percentile = np.array([0.96,.91,.84,.72,.57,.5,.26,.19])"
   ]
  },
  {
   "cell_type": "code",
   "execution_count": 66,
   "metadata": {},
   "outputs": [],
   "source": [
    "tg_plot = [tg_all_percentile, tg_gene_set_percentile]"
   ]
  },
  {
   "cell_type": "code",
   "execution_count": 67,
   "metadata": {},
   "outputs": [
    {
     "data": {
      "image/png": "[encoded data removed]",
      "text/plain": [
       "<Figure size 648x432 with 1 Axes>"
      ]
     },
     "metadata": {},
     "output_type": "display_data"
    }
   ],
   "source": [
    "tg_fig = plt.figure(1, figsize=(9, 6))\n",
    "ax_tg = tg_fig.add_subplot(111)\n",
    "bp = ax_tg.boxplot(tg_plot)\n",
    "ax_tg.set_xticklabels(['Background', 'Gene Set'])\n",
    "ax_tg.set_ylabel('Rank Percentile')\n",
    "ax_tg.set_title(\"Triglyceride Association with Known Drug Targets (P-value = 0.10538)\")\n",
    "tg_fig.savefig('tg_known.png', bbox_inches='tight')"
   ]
  },
  {
   "cell_type": "code",
   "execution_count": 68,
   "metadata": {},
   "outputs": [],
   "source": [
    "sbp_synthetic =np.array([0.048881,\t0.15795,\t0.22332,\t0.10085,\t0.35395,\t0.33158,\t0.57503,\t0.37856,\t0.60715,\t0.0062816,\t0.13047,\t0.63685,\t0.17502,\t0.55199,\t0.035711,\t0.17442,\t0.2061,\t0.67278,\t0.17914,\t0.2951,\t0.045375,\t0.28185,\t0.1559,\t0.26536,\t0.015295,\t0.4998,\t0.063235,\t0.14668,\t0.071767,\t0.16805,\t0.51615,\t0.014683,\t0.23869,\t0.9229,\t0.3931,\t0.48435,\t0.21508,\t0.12496,\t0.18197,\t0.1882,\t0.14756,\t0.056146,\t0.18533,\t0.16307,\t0.051822,\t0.38215,\t0.38433,\t0.38384,\t0.51849,\t0.050372,\t0.17914,\t0.10074,\t0.10121,\t0.074815,\t0.01725,\t0.26596,\t0.082664,\t0.27516,\t0.087359,\t0.00090579,\t0.093278,\t0.54344,\t0.037843,\t0.17183,\t0.0019633,\t0.21317,\t0.0041007,\t0.49037,\t0.0019146,\t0.19775,\t0.38966,\t0.15525,\t0.035243,\t0.37852,\t0.14316,\t0.25654,\t0.29893,\t0.40836,\t0.39502,\t0.61305,\t0.28117,\t0.10515,\t0.043879,\t0.036276,\t0.31775,\t0.13476,\t0.44591,\t0.084892,\t0.1913,\t0.47918,\t0.13747,\t0.13968,])"
   ]
  },
  {
   "cell_type": "code",
   "execution_count": 69,
   "metadata": {},
   "outputs": [],
   "source": [
    "sbp_gene_set = np.array([0.015713,0.019215,0.065925,0.10564,0.11462,0.22562,0.51936,0.54246])"
   ]
  },
  {
   "cell_type": "code",
   "execution_count": 70,
   "metadata": {},
   "outputs": [
    {
     "data": {
      "text/plain": [
       "MannwhitneyuResult(statistic=316.0, pvalue=0.25644828701331274)"
      ]
     },
     "execution_count": 70,
     "metadata": {},
     "output_type": "execute_result"
    }
   ],
   "source": [
    "scipy.stats.mannwhitneyu(sbp_synthetic, sbp_gene_set)"
   ]
  },
  {
   "cell_type": "code",
   "execution_count": 71,
   "metadata": {},
   "outputs": [],
   "source": [
    "sbp_all_percentile = np.array([0.0,.01,.02,.03,.04,.05,.06,.07,.08,.09,.1,.11,.12,.13,.14,.15,.16,.17,.18,.19,.20,.21,.22,.23,.24,.25,.26,.27,.28,.29,.3,.31,.32,.33,.34,.35,.36,.37,.38,.39,.4,.41,.42,.43,.44,.45,.46,.47,.48,.49,.5,.51,.52,.53,.54,.55,.56,.57,.58,.59,.6,.61,.62,.63,.64,.65,.66,.67,.68,.69,.7,.71,.72,.73,.74,.75,.76,.77,.78,.79,.80,.81,.82,.83,.84,.85,.86,.87,.88,.89,.9,.91,.92,.93,.94,.95,.96,.97,.98,.99])"
   ]
  },
  {
   "cell_type": "code",
   "execution_count": 72,
   "metadata": {},
   "outputs": [],
   "source": [
    "sbp_gene_set_percentile = np.array([0.92,0.90, 0.78, 0.67,0.66, 0.38,0.09,0.08])"
   ]
  },
  {
   "cell_type": "code",
   "execution_count": 73,
   "metadata": {},
   "outputs": [],
   "source": [
    "sbp_plot = [sbp_all_percentile, sbp_gene_set_percentile]"
   ]
  },
  {
   "cell_type": "code",
   "execution_count": 74,
   "metadata": {},
   "outputs": [
    {
     "data": {
      "image/png": "[encoded data removed]",
      "text/plain": [
       "<Figure size 648x432 with 1 Axes>"
      ]
     },
     "metadata": {},
     "output_type": "display_data"
    }
   ],
   "source": [
    "sbp_fig = plt.figure(1, figsize=(9, 6))\n",
    "ax_sbp = sbp_fig.add_subplot(111)\n",
    "bp = ax_sbp.boxplot(sbp_plot)\n",
    "ax_sbp.set_xticklabels(['Background', 'Gene Set'])\n",
    "ax_sbp.set_ylabel('Rank Percentile')\n",
    "ax_sbp.set_title(\"Systolic BP Association with Known Drug Targets (P-value = 0.25645)\")\n",
    "sbp_fig.savefig('sbp_known.png', bbox_inches='tight')"
   ]
  },
  {
   "cell_type": "code",
   "execution_count": 75,
   "metadata": {},
   "outputs": [],
   "source": [
    "creat_synthetic =np.array([0.084587,\t0.079644,\t0.26021,\t0.1066,\t0.022644,\t0.16933,\t0.32985,\t0.69843,\t0.83469,\t0.1392,\t0.51911,\t0.2318,\t0.0002258,\t0.32456,\t0.59437,\t0.43235,\t0.50597,\t0.30421,\t0.000066945,\t0.4549,\t0.078396,\t0.14772,\t0.2014,\t0.017506,\t0.42065,\t0.59619,\t0.01724,\t0.46191,\t0.012321,\t0.3318,\t0.51038,\t0.24528,\t0.027507,\t0.81511,\t0.64566,\t0.00004608,\t0.34769,\t0.03064,\t0.056788,\t0.23124,\t0.21887,\t0.15524,\t0.066,\t0.040311,\t0.43653,\t0.17196,\t0.55447,\t0.50714,\t0.3325,\t0.14832,\t0.377,\t0.44024,\t0.44377,\t0.0061159,\t0.44631,\t0.1518,\t0.052694,\t0.53315,\t0.037891,\t0.032194,\t0.64375,\t0.13653,\t0.15786,\t0.55076,\t0.021403,\t0.033125,\t0.62384,\t0.81722,\t0.14274,\t0.21477,\t0.042834,\t0.41799,\t0.000000022889,\t0.15009,\t0.070895,\t0.13683,\t0.080668,\t0.12693,\t0.71624,\t0.64004,\t0.43409,\t0.094796,\t0.40029,\t0.12505,\t0.04507,\t0.062628,\t0.017629,\t0.15886,\t0.026643,\t0.21268,\t0.0086051,\t0.31021])"
   ]
  },
  {
   "cell_type": "code",
   "execution_count": 76,
   "metadata": {},
   "outputs": [],
   "source": [
    "creat_gene_set = np.array([0.032102,0.042615,0.051577,0.12496,0.13026,0.16515,0.17318,0.69232])"
   ]
  },
  {
   "cell_type": "code",
   "execution_count": 77,
   "metadata": {},
   "outputs": [
    {
     "data": {
      "text/plain": [
       "MannwhitneyuResult(statistic=300.0, pvalue=0.19555121759932043)"
      ]
     },
     "execution_count": 77,
     "metadata": {},
     "output_type": "execute_result"
    }
   ],
   "source": [
    "scipy.stats.mannwhitneyu(creat_synthetic, creat_gene_set)"
   ]
  },
  {
   "cell_type": "code",
   "execution_count": 78,
   "metadata": {},
   "outputs": [],
   "source": [
    "creat_all_percentile = np.array([0.0,.01,.02,.03,.04,.05,.06,.07,.08,.09,.1,.11,.12,.13,.14,.15,.16,.17,.18,.19,.20,.21,.22,.23,.24,.25,.26,.27,.28,.29,.3,.31,.32,.33,.34,.35,.36,.37,.38,.39,.4,.41,.42,.43,.44,.45,.46,.47,.48,.49,.5,.51,.52,.53,.54,.55,.56,.57,.58,.59,.6,.61,.62,.63,.64,.65,.66,.67,.68,.69,.7,.71,.72,.73,.74,.75,.76,.77,.78,.79,.80,.81,.82,.83,.84,.85,.86,.87,.88,.89,.9,.91,.92,.93,.94,.95,.96,.97,.98,.99])"
   ]
  },
  {
   "cell_type": "code",
   "execution_count": 79,
   "metadata": {},
   "outputs": [],
   "source": [
    "creat_gene_set_percentile = np.array([0.84,0.79,0.76,.64,.49,.46,.05])"
   ]
  },
  {
   "cell_type": "code",
   "execution_count": 80,
   "metadata": {},
   "outputs": [],
   "source": [
    "creat_plot = [creat_all_percentile, creat_gene_set_percentile]"
   ]
  },
  {
   "cell_type": "code",
   "execution_count": 81,
   "metadata": {},
   "outputs": [
    {
     "data": {
      "image/png": "[encoded data removed]",
      "text/plain": [
       "<Figure size 648x432 with 1 Axes>"
      ]
     },
     "metadata": {},
     "output_type": "display_data"
    }
   ],
   "source": [
    "creat_fig = plt.figure(1, figsize=(9, 6))\n",
    "ax_creat= creat_fig.add_subplot(111)\n",
    "bp = ax_creat.boxplot(creat_plot)\n",
    "ax_creat.set_xticklabels(['Background', 'Gene Set'])\n",
    "ax_creat.set_ylabel('Rank Percentile')\n",
    "ax_creat.set_title(\"Creat Association with Known Drug Targets (P-value = 0.19555)\")\n",
    "creat_fig.savefig('creat_known.png', bbox_inches='tight')"
   ]
  },
  {
   "cell_type": "code",
   "execution_count": 82,
   "metadata": {},
   "outputs": [],
   "source": [
    "hr_synthetic = np.array([0.59476,\t0.56512,\t0.0086538,\t0.86128,\t0.21568,\t0.025718,\t0.24663,\t0.015089,\t0.49183,\t0.26939,\t0.48565,\t0.39111,\t0.11891,\t0.21628,\t0.11663,\t0.10078,\t0.36945,\t0.38753,\t0.36354,\t0.4958,\t0.012229,\t0.44837,\t0.35618,\t0.29242,\t0.36482,\t0.71178,\t0.32023,\t0.16788,\t0.15846,\t0.18862,\t0.16572,\t0.25867,\t0.32463,\t0.32947,\t0.39119,\t0.33032,\t0.2295,\t0.38766,\t0.61732,\t0.020444,\t0.21209,\t0.65131,\t0.097339,\t0.22758,\t0.68531,\t0.35091,\t0.70532,\t0.23593,\t0.25229,\t0.50297,\t0.0096052,\t0.01457,\t0.0049673,\t0.63597,\t0.04075,\t0.12664,\t0.17032,\t0.91281,\t0.59688,\t0.2071,\t0.60585,\t0.75725,\t0.48368,\t0.63592,\t0.34985,\t0.53849,\t0.043761,\t0.025561,\t0.51422,\t0.23469,\t0.62664,\t0.47856,\t0.29674,\t0.3098,\t0.22596,\t0.15556,\t0.016035,\t0.10192,\t0.43323,\t0.1491,\t0.34485,\t0.49222,\t0.38403,\t0.27897,\t0.64731,\t0.41591,\t0.13736,\t0.17717,\t0.33531,\t0.44337,\t0.14347,\t0.082935])\n"
   ]
  },
  {
   "cell_type": "code",
   "execution_count": 83,
   "metadata": {},
   "outputs": [],
   "source": [
    "hr_gene_set = np.array([0.83502,0.34759,0.73012,0.24059,0.73063,0.63405,0.56383, 0.49856])"
   ]
  },
  {
   "cell_type": "code",
   "execution_count": 84,
   "metadata": {},
   "outputs": [
    {
     "data": {
      "text/plain": [
       "MannwhitneyuResult(statistic=589.0, pvalue=0.9975555432560966)"
      ]
     },
     "execution_count": 84,
     "metadata": {},
     "output_type": "execute_result"
    }
   ],
   "source": [
    "scipy.stats.mannwhitneyu(hr_gene_set, hr_synthetic, alternative = 'less')"
   ]
  },
  {
   "cell_type": "code",
   "execution_count": 85,
   "metadata": {},
   "outputs": [],
   "source": [
    "hr_all_percentile = np.array([0.0,.01,.02,.03,.04,.05,.06,.07,.08,.09,.1,.11,.12,.13,.14,.15,.16,.17,.18,.19,.20,.21,.22,.23,.24,.25,.26,.27,.28,.29,.3,.31,.32,.33,.34,.35,.36,.37,.38,.39,.4,.41,.42,.43,.44,.45,.46,.47,.48,.49,.5,.51,.52,.53,.54,.55,.56,.57,.58,.59,.6,.61,.62,.63,.64,.65,.66,.67,.68,.69,.7,.71,.72,.73,.74,.75,.76,.77,.78,.79,.80,.81,.82,.83,.84,.85,.86,.87,.88,.89,.9,.91,.92,.93,.94,.95,.96,.97,.98,.99])"
   ]
  },
  {
   "cell_type": "code",
   "execution_count": 86,
   "metadata": {},
   "outputs": [],
   "source": [
    "hr_gene_set_percentile = np.array([0.61,0.46,0.24,0.2,0.13,0.05,0.04,0.02])"
   ]
  },
  {
   "cell_type": "code",
   "execution_count": 87,
   "metadata": {},
   "outputs": [],
   "source": [
    "hr_plot = [hr_all_percentile, hr_gene_set_percentile]"
   ]
  },
  {
   "cell_type": "code",
   "execution_count": 88,
   "metadata": {},
   "outputs": [
    {
     "data": {
      "image/png": "[encoded data removed]",
      "text/plain": [
       "<Figure size 648x432 with 1 Axes>"
      ]
     },
     "metadata": {},
     "output_type": "display_data"
    }
   ],
   "source": [
    "hr_fig = plt.figure(1, figsize=(9, 6))\n",
    "ax_hr= hr_fig.add_subplot(111)\n",
    "bp = ax_hr.boxplot(hr_plot)\n",
    "ax_hr.set_xticklabels(['Background', 'Gene Set'], **csfont)\n",
    "ax_hr.set_ylabel('Rank Percentile', **csfont)\n",
    "ax_hr.set_title(\"HR insulin Association with Known T2D Drug Targets (p = 0.99756)\", **csfont)\n",
    "hr_fig.savefig('known_hr.png', bbox_inches='tight', dpi = 600)"
   ]
  },
  {
   "cell_type": "code",
   "execution_count": null,
   "metadata": {},
   "outputs": [],
   "source": []
  },
  {
   "cell_type": "code",
   "execution_count": null,
   "metadata": {},
   "outputs": [],
   "source": []
  },
  {
   "cell_type": "code",
   "execution_count": 89,
   "metadata": {},
   "outputs": [],
   "source": [
    "all_synthetic = np.array([0.0,.01,.02,.03,.04,.05,.06,.07,.08,.09,.1,.11,.12,.13,.14,.15,.16,.17,.18,.19,.20,.21,.22,.23,.24,.25,.26,.27,.28,.29,.3,.31,.32,.33,.34,.35,.36,.37,.38,.39,.4,.41,.42,.43,.44,.45,.46,.47,.48,.49,.5,.51,.52,.53,.54,.55,.56,.57,.58,.59,.6,.61,.62,.63,.64,.65,.66,.67,.68,.69,.7,.71,.72,.73,.74,.75,.76,.77,.78,.79,.80,.81,.82,.83,.84,.85,.86,.87,.88,.89,.9,.91,.92,.93,.94,.95,.96,.97,.98,.99])"
   ]
  },
  {
   "cell_type": "code",
   "execution_count": 90,
   "metadata": {},
   "outputs": [],
   "source": [
    "all_plot = [all_synthetic, gene_set, bmi_gene_set_percentile,fast_insulin_gene_set_percentile,dbp_gene_set_percentile,ldl_gene_set_percentile,tchol_gene_set_percentile,hdl_gene_set_percentile,tg_gene_set_percentile,sbp_gene_set_percentile,creat_gene_set_percentile,hr_gene_set_percentile]"
   ]
  },
  {
   "cell_type": "code",
   "execution_count": 91,
   "metadata": {},
   "outputs": [
    {
     "data": {
      "image/png": "[encoded data removed]",
      "text/plain": [
       "<Figure size 1080x720 with 1 Axes>"
      ]
     },
     "metadata": {},
     "output_type": "display_data"
    }
   ],
   "source": [
    "all_fig = plt.figure(1, figsize=(15, 10))\n",
    "ax_all = all_fig.add_subplot(111)\n",
    "bp = ax_all.boxplot(all_plot)\n",
    "ax_all.set_xticklabels(['Background', 'All Burden', 'BMI', 'Fasting Insulin', 'DBP', 'LDL', 'T Chol', 'HDL','tg','SBP', 'Creat', 'HR Ins'])\n",
    "ax_all.set_ylabel('Rank Percentile')\n",
    "ax_all.set_title(\"Associations with Known T2D Drug Targets\")\n",
    "all_fig.savefig('all_known.png', bbox_inches='tight')\n"
   ]
  },
  {
   "cell_type": "code",
   "execution_count": null,
   "metadata": {},
   "outputs": [],
   "source": []
  },
  {
   "cell_type": "code",
   "execution_count": null,
   "metadata": {},
   "outputs": [],
   "source": []
  },
  {
   "cell_type": "code",
   "execution_count": null,
   "metadata": {},
   "outputs": [],
   "source": []
  },
  {
   "cell_type": "code",
   "execution_count": null,
   "metadata": {},
   "outputs": [],
   "source": []
  },
  {
   "cell_type": "code",
   "execution_count": null,
   "metadata": {},
   "outputs": [],
   "source": []
  },
  {
   "cell_type": "code",
   "execution_count": null,
   "metadata": {},
   "outputs": [],
   "source": []
  },
  {
   "cell_type": "code",
   "execution_count": null,
   "metadata": {},
   "outputs": [],
   "source": []
  },
  {
   "cell_type": "code",
   "execution_count": null,
   "metadata": {},
   "outputs": [],
   "source": []
  },
  {
   "cell_type": "code",
   "execution_count": null,
   "metadata": {},
   "outputs": [],
   "source": []
  },
  {
   "cell_type": "code",
   "execution_count": null,
   "metadata": {},
   "outputs": [],
   "source": []
  },
  {
   "cell_type": "code",
   "execution_count": null,
   "metadata": {},
   "outputs": [],
   "source": []
  },
  {
   "cell_type": "code",
   "execution_count": null,
   "metadata": {},
   "outputs": [],
   "source": []
  },
  {
   "cell_type": "code",
   "execution_count": null,
   "metadata": {},
   "outputs": [],
   "source": []
  },
  {
   "cell_type": "code",
   "execution_count": null,
   "metadata": {},
   "outputs": [],
   "source": []
  }
 ],
 "metadata": {
  "kernelspec": {
   "display_name": "Python 3",
   "language": "python",
   "name": "python3"
  },
  "language_info": {
   "codemirror_mode": {
    "name": "ipython",
    "version": 3
   },
   "file_extension": ".py",
   "mimetype": "text/x-python",
   "name": "python",
   "nbconvert_exporter": "python",
   "pygments_lexer": "ipython3",
   "version": "3.6.5"
  }
 },
 "nbformat": 4,
 "nbformat_minor": 2
}
