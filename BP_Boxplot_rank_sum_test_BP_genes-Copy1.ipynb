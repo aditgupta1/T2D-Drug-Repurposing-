{
 "cells": [
  {
   "cell_type": "markdown",
   "metadata": {},
   "source": [
    "### Includes all rank sum tests of known Blood Pressure-reducing drugs"
   ]
  },
  {
   "cell_type": "code",
   "execution_count": 2,
   "metadata": {},
   "outputs": [],
   "source": [
    "import numpy as np\n",
    "import pandas as pd\n",
    "import scipy\n",
    "from scipy import stats\n",
    "import matplotlib as mpl \n",
    "import matplotlib.pyplot as plt \n",
    "import seaborn as sns"
   ]
  },
  {
   "cell_type": "code",
   "execution_count": 3,
   "metadata": {},
   "outputs": [],
   "source": [
    "csfont = {'fontname':'Arial'}\n"
   ]
  },
  {
   "cell_type": "code",
   "execution_count": 4,
   "metadata": {},
   "outputs": [],
   "source": [
    "bp_background_synthetic = np.array([])"
   ]
  },
  {
   "cell_type": "code",
   "execution_count": 5,
   "metadata": {},
   "outputs": [],
   "source": [
    "bp_gene_set = np.array([])"
   ]
  },
  {
   "cell_type": "code",
   "execution_count": 6,
   "metadata": {},
   "outputs": [],
   "source": [
    "#scipy.stats.mannwhitneyu(chol_background_synthetic, chol_gene_set)"
   ]
  },
  {
   "cell_type": "code",
   "execution_count": 7,
   "metadata": {},
   "outputs": [],
   "source": [
    "bp_all_percentile= np.array([0.0,.01,.02,.03,.04,.05,.06,.07,.08,.09,.1,.11,.12,.13,.14,.15,.16,.17,.18,.19,.20,.21,.22,.23,.24,.25,.26,.27,.28,.29,.3,.31,.32,.33,.34,.35,.36,.37,.38,.39,.4,.41,.42,.43,.44,.45,.46,.47,.48,.49,.5,.51,.52,.53,.54,.55,.56,.57,.58,.59,.6,.61,.62,.63,.64,.65,.66,.67,.68,.69,.7,.71,.72,.73,.74,.75,.76,.77,.78,.79,.80,.81,.82,.83,.84,.85,.86,.87,.88,.89,.9,.91,.92,.93,.94,.95,.96,.97,.98,.99])"
   ]
  },
  {
   "cell_type": "code",
   "execution_count": 8,
   "metadata": {},
   "outputs": [],
   "source": [
    "bp_gene_set_percentile = ([])"
   ]
  },
  {
   "cell_type": "code",
   "execution_count": 9,
   "metadata": {},
   "outputs": [],
   "source": [
    "data_to_plot = [bp_all_percentile, bp_gene_set_percentile]"
   ]
  },
  {
   "cell_type": "code",
   "execution_count": 10,
   "metadata": {},
   "outputs": [
    {
     "ename": "AttributeError",
     "evalue": "'dict' object has no attribute 'savefig'",
     "output_type": "error",
     "traceback": [
      "\u001b[0;31m---------------------------------------------------------------------------\u001b[0m",
      "\u001b[0;31mAttributeError\u001b[0m                            Traceback (most recent call last)",
      "\u001b[0;32m<ipython-input-10-f57089dfb0d0>\u001b[0m in \u001b[0;36m<module>\u001b[0;34m()\u001b[0m\n\u001b[1;32m      5\u001b[0m \u001b[0max\u001b[0m\u001b[0;34m.\u001b[0m\u001b[0mset_ylabel\u001b[0m\u001b[0;34m(\u001b[0m\u001b[0;34m'Rank Percentile'\u001b[0m\u001b[0;34m)\u001b[0m\u001b[0;34m\u001b[0m\u001b[0m\n\u001b[1;32m      6\u001b[0m \u001b[0max\u001b[0m\u001b[0;34m.\u001b[0m\u001b[0mset_title\u001b[0m\u001b[0;34m(\u001b[0m\u001b[0;34m'Associations with Known Blood Pressure Drug Targets'\u001b[0m\u001b[0;34m)\u001b[0m\u001b[0;34m\u001b[0m\u001b[0m\n\u001b[0;32m----> 7\u001b[0;31m \u001b[0mbp\u001b[0m\u001b[0;34m.\u001b[0m\u001b[0msavefig\u001b[0m\u001b[0;34m(\u001b[0m\u001b[0;34m'all_burden_bp_genes.png'\u001b[0m\u001b[0;34m,\u001b[0m \u001b[0mbbox_inches\u001b[0m\u001b[0;34m=\u001b[0m\u001b[0;34m'tight'\u001b[0m\u001b[0;34m)\u001b[0m\u001b[0;34m\u001b[0m\u001b[0m\n\u001b[0m",
      "\u001b[0;31mAttributeError\u001b[0m: 'dict' object has no attribute 'savefig'"
     ]
    },
    {
     "data": {
      "image/png": "[encoded data removed]",
      "text/plain": [
       "<Figure size 648x432 with 1 Axes>"
      ]
     },
     "metadata": {},
     "output_type": "display_data"
    }
   ],
   "source": [
    "bp = plt.figure(1, figsize=(9, 6))\n",
    "ax = bp.add_subplot(111)\n",
    "bp = ax.boxplot(data_to_plot)\n",
    "ax.set_xticklabels(['Background', 'Blood Pressure Gene Set'])\n",
    "ax.set_ylabel('Rank Percentile')\n",
    "ax.set_title('Associations with Known Blood Pressure Drug Targets')\n",
    "bp.savefig('all_burden_bp_genes.png', bbox_inches='tight')"
   ]
  },
  {
   "cell_type": "code",
   "execution_count": 27,
   "metadata": {},
   "outputs": [],
   "source": [
    "bmi_bp_synthetic = np.array([0.00079371,0.0038529, 0.0038692, 0.011781, 0.016211, 0.020746,0.023691,0.025932,0.031883,0.03346,0.034047,0.042854,0.045173,0.050497,0.050799, 0.052086,0.052312,0.057919,0.064807,0.071449,0.076924,0.077906,0.082264,0.089912,0.091958,0.1219,0.12432,0.13278,0.1383,0.14031,0.14055,0.14078,0.1431,0.14611,0.14673,0.14708,0.16128,0.16421,0.16679,0.16906,0.17604,0.1802,0.18065,0.18321,0.18527,0.20456,0.20575,0.20709,0.21287,0.21325,0.21722,0.21781,0.23288,0.23341,0.23601,0.2409,0.24554,0.24683,0.25484,0.25776,0.27397,0.28105,0.29017,0.29022,0.29842,0.29855,0.30654,0.31335,0.37021,0.39238,0.39683,0.40993,0.41709,0.42105, 0.42813,0.43352,0.46393,0.47006,0.49413,0.50238,0.51816,0.54151,0.5448,0.55668,0.56105,0.56837,0.58265,0.58482,0.58714, 0.65654, 0.748320,.87922])"
   ]
  },
  {
   "cell_type": "code",
   "execution_count": 28,
   "metadata": {},
   "outputs": [],
   "source": [
    "bmi_bp_gene_set = np.array([0.0021861,0.0027044,0.032344,0.032407,0.069487,0.082936,0.08576,0.088808,0.11147,0.11197,0.1149,0.12471,0.13172,0.14515,0.16925,0.17239,0.18844,0.18939,0.20295,0.21038,0.23307,0.2399,0.25373,0.25791,0.28104,0.28453,0.3245,0.33241,0.33372,0.3736,0.38191,0.43718,0.44143,0.49403,0.49485,0.50347,0.53593,0.61893,0.68739,0.72024,0.74038])"
   ]
  },
  {
   "cell_type": "code",
   "execution_count": 29,
   "metadata": {},
   "outputs": [
    {
     "data": {
      "text/plain": [
       "MannwhitneyuResult(statistic=2053.0, pvalue=0.7927913249476628)"
      ]
     },
     "execution_count": 29,
     "metadata": {},
     "output_type": "execute_result"
    }
   ],
   "source": [
    "scipy.stats.mannwhitneyu(bmi_bp_gene_set, bmi_bp_synthetic, alternative = 'less') #testing for significance for bmi and the 8 gene 'gene set'"
   ]
  },
  {
   "cell_type": "code",
   "execution_count": 30,
   "metadata": {},
   "outputs": [],
   "source": [
    "bmi_bp_all_percentile = np.array([0.0,.01,.02,.03,.04,.05,.06,.07,.08,.09,.1,.11,.12,.13,.14,.15,.16,.17,.18,.19,.20,.21,.22,.23,.24,.25,.26,.27,.28,.29,.3,.31,.32,.33,.34,.35,.36,.37,.38,.39,.4,.41,.42,.43,.44,.45,.46,.47,.48,.49,.5,.51,.52,.53,.54,.55,.56,.57,.58,.59,.6,.61,.62,.63,.64,.65,.66,.67,.68,.69,.7,.71,.72,.73,.74,.75,.76,.77,.78,.79,.80,.81,.82,.83,.84,.85,.86,.87,.88,.89,.9,.91,.92,.93,.94,.95,.96,.97,.98,.99])"
   ]
  },
  {
   "cell_type": "code",
   "execution_count": 31,
   "metadata": {},
   "outputs": [],
   "source": [
    "bmi_bp_gene_set_percentile = np.array([0.984962406,0.977443609,0.9097744361,0.9022556391,0.8195488722,0.7819548872,0.7744360902,0.7669172932,0.7443609023,0.7368421053,0.7293233083,0.7067669173,0.6992481203,0.6466165414,0.5864661654,0.5789473684,0.5338345865,0.5263157895,0.5187969925,0.4887218045,0.4436090226,0.4210526316,0.3909774436,0.3684210526,0.3533834586,0.3383458647,0.2857142857,0.2781954887,0.2706766917,0.2556390977,0.2481203008,0.1879699248,0.1804511278,0.1578947368,0.1428571429,0.1278195489,0.1127819549,0.04511278195,0.03007518797,0.02255639098,0.01503759398])"
   ]
  },
  {
   "cell_type": "code",
   "execution_count": 32,
   "metadata": {},
   "outputs": [],
   "source": [
    "bmi_plot = [bmi_bp_all_percentile, bmi_bp_gene_set_percentile]"
   ]
  },
  {
   "cell_type": "code",
   "execution_count": 33,
   "metadata": {},
   "outputs": [
    {
     "data": {
      "image/png": "[encoded data removed]",
      "text/plain": [
       "<Figure size 648x432 with 1 Axes>"
      ]
     },
     "metadata": {},
     "output_type": "display_data"
    }
   ],
   "source": [
    "bmi_fig = plt.figure(1, figsize=(9, 6))\n",
    "ax_bmi = bmi_fig.add_subplot(111)\n",
    "bp = ax_bmi.boxplot(bmi_plot)\n",
    "ax_bmi.set_xticklabels(['Background', 'Blodo Pressure Gene Set'])\n",
    "ax_bmi.set_ylabel('Rank Percentile')\n",
    "ax_bmi.set_title(\"BMI Association with Known Blood Pressure Drug Targets (P-value = 0.79279)\")\n",
    "bmi_fig.savefig('bmi_bp_genes.png', bbox_inches='tight')\n"
   ]
  },
  {
   "cell_type": "code",
   "execution_count": 34,
   "metadata": {},
   "outputs": [],
   "source": [
    "fast_insulin_bp_synthetic = np.array([0.001082,0.0016243,0.0032657,0.00684,0.020092,0.020111,0.025561,0.027516,0.03451,0.039758,0.039967,0.040977,0.043761,0.045895,0.046694,0.059579,0.062997,0.064848,0.066645,0.075656,0.079519,0.081533,0.082935,0.085064,0.092022,0.095618,0.1207,0.13698,0.14036,0.14585,0.15562,0.15628,0.15647,0.16976,0.17064,0.17182,0.17717,0.18694,0.18819,0.19511,0.20046,0.20225,0.21469,0.22138,0.22344,0.23146,0.2511,0.25628,0.26565,0.2745,0.28223,0.28629,0.28879,0.31492,0.31855,0.32806,0.33531,0.34331,0.3453,0.34985,0.35149,0.35653,0.36748,0.37015,0.37892,0.38481,0.39798,0.44337,0.44639,0.45117,0.45477,0.45665,0.49636,0.51422,0.52191,0.53849,0.54477,0.54534,0.54534,0.58669,0.59918,0.6225,0.64193,0.64866,0.68637,0.68832,0.69885,0.79252,0.79313,0.83817,0.87012,0.92403])"
   ]
  },
  {
   "cell_type": "code",
   "execution_count": 35,
   "metadata": {},
   "outputs": [],
   "source": [
    "fast_insulin_bp_gene_set = np.array([0.0074306,\t0.011326,\t0.0207,\t0.041969,\t0.044798,\t0.0074306,\t0.052463,\t0.058421,\t0.05982,\t0.08237,\t0.084932,\t0.095407,\t0.095716,\t0.10696,\t0.13856,\t0.15615,\t0.18945,\t0.19163,\t0.20339,\t0.20456,\t0.21092,\t0.22827,\t0.23396,\t0.24167,\t0.27549,\t0.28463,\t0.29612,\t0.30671,\t0.30955,\t0.31077,\t0.34901,\t0.38402,\t0.42165,\t0.49747,\t0.53161,\t0.58971,\t0.61623,\t0.67144,\t0.67803,\t0.7832,\t0.90471])"
   ]
  },
  {
   "cell_type": "code",
   "execution_count": 36,
   "metadata": {},
   "outputs": [
    {
     "data": {
      "text/plain": [
       "MannwhitneyuResult(statistic=1770.0, pvalue=0.2867937542225255)"
      ]
     },
     "execution_count": 36,
     "metadata": {},
     "output_type": "execute_result"
    }
   ],
   "source": [
    "scipy.stats.mannwhitneyu(fast_insulin_bp_gene_set, fast_insulin_bp_synthetic, alternative = 'less') #testing for significance for bmi and the 8 gene 'gene set'"
   ]
  },
  {
   "cell_type": "code",
   "execution_count": 37,
   "metadata": {},
   "outputs": [],
   "source": [
    "fast_insulin_bp_all_percentile = np.array([0.0,.01,.02,.03,.04,.05,.06,.07,.08,.09,.1,.11,.12,.13,.14,.15,.16,.17,.18,.19,.20,.21,.22,.23,.24,.25,.26,.27,.28,.29,.3,.31,.32,.33,.34,.35,.36,.37,.38,.39,.4,.41,.42,.43,.44,.45,.46,.47,.48,.49,.5,.51,.52,.53,.54,.55,.56,.57,.58,.59,.6,.61,.62,.63,.64,.65,.66,.67,.68,.69,.7,.71,.72,.73,.74,.75,.76,.77,.78,.79,.80,.81,.82,.83,.84,.85,.86,.87,.88,.89,.9,.91,.92,.93,.94,.95,.96,.97,.98,.99])"
   ]
  },
  {
   "cell_type": "code",
   "execution_count": 38,
   "metadata": {},
   "outputs": [],
   "source": [
    "fast_insulin_bp_gene_set_percentile = np.array([0.962406015,\t0.954887218,\t0.932330827,\t0.879699248,\t0.864661654,\t0.842105263,\t0.834586466,\t0.827067669,\t0.812030075,\t0.759398496,\t0.744360902,\t0.721804511,\t0.706766917,\t0.69924812,\t0.676691729,\t0.646616541,\t0.578947368,\t0.571428571,\t0.541353383,\t0.533834586,\t0.526315789,\t0.496240602,\t0.481203008,\t0.473684211,\t0.436090226,\t0.421052632,\t0.398496241,\t0.390977444,\t0.383458647,\t0.37593985,\t0.323308271,\t0.270676692,\t0.248120301,\t0.195488722,\t0.172932331,\t0.127819549,\t0.112781955,\t0.082706767,\t0.07518797,\t0.045112782,\t0.007518797])"
   ]
  },
  {
   "cell_type": "code",
   "execution_count": 39,
   "metadata": {},
   "outputs": [],
   "source": [
    "fast_ins_plot = [fast_insulin_bp_all_percentile,fast_insulin_bp_gene_set_percentile]"
   ]
  },
  {
   "cell_type": "code",
   "execution_count": 40,
   "metadata": {},
   "outputs": [
    {
     "data": {
      "image/png": "[encoded data removed]",
      "text/plain": [
       "<Figure size 648x432 with 1 Axes>"
      ]
     },
     "metadata": {},
     "output_type": "display_data"
    }
   ],
   "source": [
    "fast_ins_fig = plt.figure(1, figsize=(9, 6))\n",
    "ax_fast_ins = fast_ins_fig.add_subplot(111)\n",
    "bp = ax_fast_ins.boxplot(fast_ins_plot)\n",
    "ax_fast_ins.set_xticklabels(['Background', 'Blood Pressure Gene Set'])\n",
    "ax_fast_ins.set_ylabel('Rank Percentile')\n",
    "ax_fast_ins.set_title(\"Fasting Insulin Association with Known Blood Pressure Drug Targets (P-value = 0.28679)\")\n",
    "fast_ins_fig.savefig('fast_ins_bp_genes.png', bbox_inches='tight')"
   ]
  },
  {
   "cell_type": "code",
   "execution_count": 41,
   "metadata": {},
   "outputs": [],
   "source": [
    "dbp_bp_synthetic = ([0.000000022889,\t0.00004608,\t0.000066945,\t0.0002258,\t0.0034237,\t0.0061159,\t0.0086051,\t0.012321,\t0.01724,\t0.017506,\t0.017629,\t0.021403,\t0.022644,\t0.026643,\t0.027507,\t0.03064,\t0.032194,\t0.037891,\t0.040311,\t0.042834,\t0.04507,\t0.056788,\t0.062628,\t0.066,\t0.070895,\t0.078396,\t0.079644,\t0.080668,\t0.084587,\t0.094796,\t0.1066,\t0.12505,\t0.12693,\t0.13653,\t0.13683,\t0.1392,\t0.14274,\t0.14772,\t0.14832,\t0.15009,\t0.1518,\t0.15524,\t0.15786,\t0.15886,\t0.16933,\t0.17196,\t0.2014,\t0.21268,\t0.21477,\t0.21887,0.23124,\t0.2318,\t0.24528,\t0.26021,\t0.30421,\t0.31021,\t0.32456,\t0.32985,\t0.3318,\t0.3325,\t0.34769,\t0.377,\t0.40029,\t0.41799,\t0.42065,\t0.43235,\t0.43409,\t0.43653,\t0.44024,\t0.44377,\t0.44631,\t0.4549,\t0.46191,\t0.50597,\t0.50714,\t0.51038,\t0.51911,\t0.53315,\t0.55076,\t0.55447,\t0.59437,\t0.59619,\t0.62384,\t0.64004,\t0.64375,\t0.64566,\t0.69843,\t0.71624,\t0.81511,\t0.81722,\t0.83469])"
   ]
  },
  {
   "cell_type": "code",
   "execution_count": 42,
   "metadata": {},
   "outputs": [],
   "source": [
    "dbp_bp_gene_set = ([0.00043168,\t0.0027216,\t0.01203,\t0.016763,\t0.018494,\t0.022285,\t0.028724,\t0.035427,\t0.038389,\t0.078199,\t0.082605,\t0.086294,\t0.090822,\t0.098113,\t0.098205,\t0.099156,\t0.10233,\t0.16011,\t0.16603,\t0.16619,\t0.16803,\t0.18516,\t0.19095,\t0.19215,\t0.21419,\t0.21579,\t0.23265,\t0.23653,\t0.25248,\t0.26036,\t0.26846,\t0.27189,\t0.31963,\t0.4128,\t0.46548,\t0.53312,\t0.5656,\t0.62589,\t0.70067,\t0.74497,\t0.81799])"
   ]
  },
  {
   "cell_type": "code",
   "execution_count": 43,
   "metadata": {},
   "outputs": [
    {
     "data": {
      "text/plain": [
       "MannwhitneyuResult(statistic=1754.0, pvalue=0.2925837293320688)"
      ]
     },
     "execution_count": 43,
     "metadata": {},
     "output_type": "execute_result"
    }
   ],
   "source": [
    "scipy.stats.mannwhitneyu(dbp_bp_synthetic, dbp_bp_gene_set)"
   ]
  },
  {
   "cell_type": "code",
   "execution_count": 44,
   "metadata": {},
   "outputs": [],
   "source": [
    "dbp_bp_all_percentile = np.array([0.0,.01,.02,.03,.04,.05,.06,.07,.08,.09,.1,.11,.12,.13,.14,.15,.16,.17,.18,.19,.20,.21,.22,.23,.24,.25,.26,.27,.28,.29,.3,.31,.32,.33,.34,.35,.36,.37,.38,.39,.4,.41,.42,.43,.44,.45,.46,.47,.48,.49,.5,.51,.52,.53,.54,.55,.56,.57,.58,.59,.6,.61,.62,.63,.64,.65,.66,.67,.68,.69,.7,.71,.72,.73,.74,.75,.76,.77,.78,.79,.80,.81,.82,.83,.84,.85,.86,.87,.88,.89,.9,.91,.92,.93,.94,.95,.96,.97,.98,.99])"
   ]
  },
  {
   "cell_type": "code",
   "execution_count": 45,
   "metadata": {},
   "outputs": [],
   "source": [
    "dbp_bp_gene_set_percentile = ([0.962406015,\t0.954887218,\t0.92481203,\t0.909774436,\t0.879699248,\t0.864661654,\t0.834586466,\t0.812030075,\t0.796992481,\t0.729323308,\t0.69924812,\t0.684210526,\t0.676691729,\t0.661654135,\t0.654135338,\t0.646616541,\t0.639097744,\t0.526315789,\t0.518796992,\t0.511278195,\t0.503759398,\t0.481203008,\t0.473684211,\t0.466165414,\t0.443609023,\t0.428571429,\t0.398496241,\t0.390977444,\t0.37593985,\t0.360902256,\t0.353383459,\t0.345864662,\t0.323308271,\t0.263157895,\t0.180451128,\t0.142857143,\t0.112781955,\t0.082706767,\t0.045112782,\t0.030075188,\t0.007518797])"
   ]
  },
  {
   "cell_type": "code",
   "execution_count": 46,
   "metadata": {},
   "outputs": [],
   "source": [
    "dbp_plot = [dbp_bp_all_percentile, dbp_bp_gene_set_percentile]"
   ]
  },
  {
   "cell_type": "code",
   "execution_count": 47,
   "metadata": {},
   "outputs": [
    {
     "data": {
      "image/png": "[encoded data removed]",
      "text/plain": [
       "<Figure size 648x432 with 1 Axes>"
      ]
     },
     "metadata": {},
     "output_type": "display_data"
    }
   ],
   "source": [
    "dbp_fig = plt.figure(1, figsize=(9, 6))\n",
    "ax_dbp = dbp_fig.add_subplot(111)\n",
    "bp = ax_dbp.boxplot(dbp_plot)\n",
    "ax_dbp.set_xticklabels(['Background', 'Blood Pressure Gene Set'])\n",
    "ax_dbp.set_ylabel('Rank Percentile')\n",
    "ax_dbp.set_title(\"Diastolic Blood Pressure Associations with Known Blood Presurre Drug Targets (P-value = 0.29258)\")\n",
    "dbp_fig.savefig('dbp_bp_genes.png', bbox_inches='tight')"
   ]
  },
  {
   "cell_type": "code",
   "execution_count": 48,
   "metadata": {},
   "outputs": [],
   "source": [
    "ldl_bp_synthetic =np.array([0.00002271,\t0.0019724,\t0.005225,\t0.0070993,\t0.013821,\t0.017698,\t0.03205,\t0.03318,\t0.034652,\t0.037375,\t0.037776,\t0.04262,\t0.045844,0.050506,0.096049,0.098175,0.10914,0.11107,0.16091,0.23101,0.23298,0.23688,0.25183,\t0.2586,\t0.25892,\t0.26087,\t0.26893,\t0.27817,\t0.28713,\t0.29328,\t0.29358,\t0.29782,\t0.32235,\t0.34152,\t0.35174,\t0.39349,\t0.39484,\t0.40354,\t0.41942,\t0.42151,\t0.43616,\t0.45121,\t0.45228,\t0.47121,\t0.47167,\t0.49364,\t0.5025,\t0.50697,\t0.51358,\t0.54785,\t0.59367,\t0.60314,\t0.62833,\t0.63492,\t0.637,\t0.64312,\t0.66987,\t0.67492,\t0.68715,\t0.6919,\t0.72561,\t0.74419,\t0.75256,0.12762,\t0.1279,\t0.13506,\t0.13528,\t0.14069,\t0.1432,\t0.14763,\t0.14808,0.16969,\t0.1757,\t0.17892,\t0.18104,\t0.18112,\t0.18771,\t0.1918,\t0.19445,\t0.19961,\t0.20277,\t0.20388,\t0.21006])"
   ]
  },
  {
   "cell_type": "code",
   "execution_count": 49,
   "metadata": {},
   "outputs": [],
   "source": [
    "ldl_bp_gene_set = np.array([0.00080031,\t0.0029679,\t0.0075783,\t0.0081709,\t0.0082643,\t0.026965,\t0.033785,\t0.037671,\t0.042965,\t0.050216,\t0.054918,\t0.086044,\t0.11103,\t0.11311,\t0.11817,\t0.12825,\t0.13447,\t0.14336,\t0.14804,\t0.15544,\t0.15765,\t0.18773,\t0.18956,\t0.19097,\t0.2149,\t0.24825,\t0.24874,\t0.2715,\t0.34551,\t0.41745,\t0.44386,\t0.44834,\t0.44959,\t0.5059,\t0.57023,\t0.57467,\t0.58005,\t0.58131,\t0.58681,\t0.64057,\t0.68333])"
   ]
  },
  {
   "cell_type": "code",
   "execution_count": 50,
   "metadata": {},
   "outputs": [
    {
     "data": {
      "text/plain": [
       "MannwhitneyuResult(statistic=1420.0, pvalue=0.06778557911688435)"
      ]
     },
     "execution_count": 50,
     "metadata": {},
     "output_type": "execute_result"
    }
   ],
   "source": [
    "scipy.stats.mannwhitneyu(ldl_bp_synthetic, ldl_bp_gene_set)"
   ]
  },
  {
   "cell_type": "code",
   "execution_count": 51,
   "metadata": {},
   "outputs": [],
   "source": [
    "ldl_bp_all_percentile = np.array([0.0,.01,.02,.03,.04,.05,.06,.07,.08,.09,.1,.11,.12,.13,.14,.15,.16,.17,.18,.19,.20,.21,.22,.23,.24,.25,.26,.27,.28,.29,.3,.31,.32,.33,.34,.35,.36,.37,.38,.39,.4,.41,.42,.43,.44,.45,.46,.47,.48,.49,.5,.51,.52,.53,.54,.55,.56,.57,.58,.59,.6,.61,.62,.63,.64,.65,.66,.67,.68,.69,.7,.71,.72,.73,.74,.75,.76,.77,.78,.79,.80,.81,.82,.83,.84,.85,.86,.87,.88,.89,.9,.91,.92,.93,.94,.95,.96,.97,.98,.99])"
   ]
  },
  {
   "cell_type": "code",
   "execution_count": 52,
   "metadata": {},
   "outputs": [],
   "source": [
    "ldl_bp_gene_set_percentile = ([0.984962406,\t0.969924812,\t0.947368421,\t0.939849624,\t0.932330827,\t0.909774436,\t0.887218045,\t0.864661654,\t0.842105263,\t0.827067669,\t0.796992481,\t0.744360902,\t0.706766917,\t0.691729323,\t0.684210526,\t0.661654135,\t0.654135338,\t0.616541353,\t0.601503759,\t0.586466165,\t0.578947368,\t0.518796992,\t0.511278195,\t0.503759398,\t0.45112782,\t0.421052632,\t0.413533835,\t0.368421053,\t0.308270677,\t0.270676692,\t0.240601504,\t0.233082707,\t0.22556391,\t0.172932331,\t0.142857143,\t0.135338346,\t0.127819549,\t0.120300752,\t0.112781955,\t0.067669173,\t0.037593985])"
   ]
  },
  {
   "cell_type": "code",
   "execution_count": 53,
   "metadata": {},
   "outputs": [],
   "source": [
    "ldl_plot = [ldl_bp_all_percentile, ldl_bp_gene_set_percentile]"
   ]
  },
  {
   "cell_type": "code",
   "execution_count": 54,
   "metadata": {},
   "outputs": [
    {
     "data": {
      "image/png": "[encoded data removed]",
      "text/plain": [
       "<Figure size 648x432 with 1 Axes>"
      ]
     },
     "metadata": {},
     "output_type": "display_data"
    }
   ],
   "source": [
    "ldl_fig = plt.figure(1, figsize=(9, 6))\n",
    "ax_ldl = ldl_fig.add_subplot(111)\n",
    "bp = ax_ldl.boxplot(ldl_plot)\n",
    "ax_ldl.set_xticklabels(['Background', 'Blood Pressure Gene Set'])\n",
    "ax_ldl.set_ylabel('Rank Percentile')\n",
    "ax_ldl.set_title(\"LDL Association with Known Blood Pressure Drug Targets (P-value = 0.06779)\")\n",
    "ldl_fig.savefig('ldl_bp_genes.png', bbox_inches='tight')"
   ]
  },
  {
   "cell_type": "code",
   "execution_count": 55,
   "metadata": {},
   "outputs": [],
   "source": [
    "tchol_bp_synthetic =np.array([0.023028,\t0.023683,\t0.026275,\t0.031553,\t0.032482,\t0.035409,\t0.038646,\t0.041231,\t0.046382,\t0.049498,\t0.054506,\t0.055462,\t0.097696,\t0.10244,\t0.10808,\t0.11001,\t0.11381,\t0.1142,\t0.12707,\t0.1356,\t0.14404,\t0.14808,\t0.15112,\t0.15915,\t0.16164,\t0.16975,\t0.17258,\t0.17305,\t0.17337,\t0.17342,\t0.17353,\t0.17852,\t0.18006,\t0.18441,\t0.18741,\t0.19407,\t0.19647,\t0.20878,\t0.21196,\t0.21308,\t0.21341,\t0.22538,\t0.22932,\t0.23079,\t0.2417,\t0.24209,\t0.25252,\t0.25433,\t0.27156,\t0.27684,\t0.27796,\t0.28458,\t0.29853,\t0.30725,\t0.31642,\t0.31672,\t0.32243,\t0.33219,\t0.34027,\t0.34237,\t0.34865,\t0.35036,\t0.35198,\t0.35441,\t0.36353,\t0.38926,\t0.3925,\t0.39485,\t0.41315,\t0.41611,\t0.42713,\t0.43154,\t0.43228,\t0.43302,\t0.43525,\t0.43619,\t0.43739,\t0.44447,\t0.44666,\t0.47071,\t0.47168,\t0.47193,\t0.47544,\t0.47868,\t0.48809,\t0.49194,\t0.50818,\t0.50962,\t0.58622,\t0.60451,\t0.73482,\t0.85624])"
   ]
  },
  {
   "cell_type": "code",
   "execution_count": 56,
   "metadata": {},
   "outputs": [],
   "source": [
    "tchol_bp_gene_set = np.array([0.001745,\t0.0045792,\t0.010884,\t0.012298,\t0.015001,\t0.024666,\t0.027298,\t0.039302,\t0.039813,\t0.04824,\t0.049049,\t0.058428,\t0.065409,\t0.086403,\t0.1083,\t0.12656,\t0.13236,\t0.17564,\t0.19732,\t0.20647,\t0.22826,\t0.23113,\t0.23979,\t0.25118,\t0.25307,\t0.25924,\t0.27267,\t0.28645,\t0.28865,\t0.30102,\t0.32557,\t0.36927,\t0.40002,\t0.40701,\t0.40739,\t0.4143,\t0.46152,\t0.49617,\t0.50536,\t0.54562,\t0.62091])"
   ]
  },
  {
   "cell_type": "code",
   "execution_count": 57,
   "metadata": {},
   "outputs": [
    {
     "data": {
      "text/plain": [
       "MannwhitneyuResult(statistic=1531.0, pvalue=0.0420565967877089)"
      ]
     },
     "execution_count": 57,
     "metadata": {},
     "output_type": "execute_result"
    }
   ],
   "source": [
    "scipy.stats.mannwhitneyu(tchol_bp_gene_set, tchol_bp_synthetic,alternative = 'less' )"
   ]
  },
  {
   "cell_type": "code",
   "execution_count": 58,
   "metadata": {},
   "outputs": [],
   "source": [
    "tchol_bp_all_percentile = np.array([0.0,.01,.02,.03,.04,.05,.06,.07,.08,.09,.1,.11,.12,.13,.14,.15,.16,.17,.18,.19,.20,.21,.22,.23,.24,.25,.26,.27,.28,.29,.3,.31,.32,.33,.34,.35,.36,.37,.38,.39,.4,.41,.42,.43,.44,.45,.46,.47,.48,.49,.5,.51,.52,.53,.54,.55,.56,.57,.58,.59,.6,.61,.62,.63,.64,.65,.66,.67,.68,.69,.7,.71,.72,.73,.74,.75,.76,.77,.78,.79,.80,.81,.82,.83,.84,.85,.86,.87,.88,.89,.9,.91,.92,.93,.94,.95,.96,.97,.98,.99])"
   ]
  },
  {
   "cell_type": "code",
   "execution_count": 59,
   "metadata": {},
   "outputs": [],
   "source": [
    "tchol_bp_gene_set_percentile = ([0.984962406,\t0.969924812,\t0.939849624,\t0.92481203,\t0.917293233,\t0.887218045,\t0.879699248,\t0.84962406,\t0.842105263,\t0.819548872,\t0.812030075,\t0.781954887,\t0.77443609,\t0.766917293,\t0.736842105,\t0.706766917,\t0.691729323,\t0.593984962,\t0.54887218,\t0.541353383,\t0.496240602,\t0.473684211,\t0.466165414,\t0.443609023,\t0.428571429,\t0.413533835,\t0.398496241,\t0.368421053,\t0.360902256,\t0.345864662,\t0.308270677,\t0.263157895,\t0.240601504,\t0.233082707,\t0.22556391,\t0.210526316,\t0.127819549,\t0.067669173,\t0.060150376,\t0.037593985,\t0.015037594])"
   ]
  },
  {
   "cell_type": "code",
   "execution_count": 60,
   "metadata": {},
   "outputs": [],
   "source": [
    "tchol_plot = [tchol_bp_all_percentile, tchol_bp_gene_set_percentile]"
   ]
  },
  {
   "cell_type": "code",
   "execution_count": 61,
   "metadata": {},
   "outputs": [
    {
     "data": {
      "image/png": "[encoded data removed]",
      "text/plain": [
       "<Figure size 648x432 with 1 Axes>"
      ]
     },
     "metadata": {},
     "output_type": "display_data"
    }
   ],
   "source": [
    "tchol_fig = plt.figure(1, figsize=(9, 6))\n",
    "ax_tchol = tchol_fig.add_subplot(111)\n",
    "bp = ax_tchol.boxplot(tchol_plot)\n",
    "ax_tchol.set_xticklabels(['Background', 'Blood Pressure Gene Set'],**csfont)\n",
    "ax_tchol.set_ylabel('Rank Percentile',**csfont)\n",
    "ax_tchol.set_title(\"Total Cholesterol Association with Known Blood Pressure Drug Targets (p = 0.042057)\",**csfont)\n",
    "tchol_fig.savefig('bp_known_tchol2.png', bbox_inches='tight', dpi = 600)"
   ]
  },
  {
   "cell_type": "code",
   "execution_count": 62,
   "metadata": {},
   "outputs": [],
   "source": [
    "hdl_bp_synthetic =np.array([0.098361,\t0.066153,\t0.066483,\t0.73544,\t0.14936,\t0.19958,\t0.12333,\t0.11651,\t0.29146,\t0.069835,\t0.035409,\t0.25605,\t0.42427,\t0.44147,\t0.036447,\t0.26571,\t0.10014,\t0.091901,\t0.071734,\t0.38826,\t0.23722,\t0.48133,\t0.33148,\t0.65326,\t0.36712,\t0.85703,\t0.12853,\t0.2985,\t0.038334,\t0.46802,\t0.85984,\t0.0084627,\t0.10472,\t0.39528,\t0.014911,\t0.50841,\t0.031439,\t0.52614,\t0.24461,\t0.071374,\t0.20604,\t0.23969,\t0.0060076,\t0.01476,\t0.017621,\t0.32182,\t0.27989,\t0.40879,\t0.18327,\t0.57533,\t0.12175,\t0.4216,\t0.31119,\t0.13936,\t0.16718,\t0.034834,\t0.1032,\t0.44723,\t0.18294,\t0.040425,\t0.23195,\t0.097182,\t0.21658,\t0.30095,\t0.22983,\t0.08572,\t0.075104,\t0.77831,\t0.041199,\t0.28124,\t0.071699,\t0.60126,\t0.14164,\t0.79716,\t0.00035122,\t0.31502,\t0.04301,\t0.49415,\t0.093162,\t0.015632,\t0.31945,\t0.097043,\t0.34465,\t0.013148,\t0.37818,\t0.62219,\t0.041031,\t0.61567,\t0.3438,\t0.6198,\t0.47903,\t0.25406])"
   ]
  },
  {
   "cell_type": "code",
   "execution_count": 63,
   "metadata": {},
   "outputs": [],
   "source": [
    "hdl_bp_gene_set = np.array([0.0053955,\t0.0085335,\t0.016005,\t0.022954,\t0.038443,\t0.043594,\t0.046411,\t0.054256,\t0.06067,\t0.078727,\t0.082974,\t0.086656,\t0.10677,\t0.12554,\t0.13231,\t0.13553,\t0.14372,\t0.15757,\t0.18381,\t0.18571,\t0.19258,\t0.20755,\t0.20975,\t0.21819,\t0.25307,\t0.30059,\t0.30597,\t0.34854,\t0.35214,\t0.37148,\t0.37983,\t0.41014,\t0.4262,\t0.47264,\t0.48563,\t0.4915,\t0.5185,\t0.51981,\t0.55215,\t0.55859,\t0.63767])"
   ]
  },
  {
   "cell_type": "code",
   "execution_count": 64,
   "metadata": {},
   "outputs": [
    {
     "data": {
      "text/plain": [
       "MannwhitneyuResult(statistic=1879.0, pvalue=0.4873670957498408)"
      ]
     },
     "execution_count": 64,
     "metadata": {},
     "output_type": "execute_result"
    }
   ],
   "source": [
    "scipy.stats.mannwhitneyu(hdl_bp_gene_set,hdl_bp_synthetic,alternative = 'less'  )"
   ]
  },
  {
   "cell_type": "code",
   "execution_count": 65,
   "metadata": {},
   "outputs": [],
   "source": [
    "hdl_bp_all_percentile = np.array([0.0,.01,.02,.03,.04,.05,.06,.07,.08,.09,.1,.11,.12,.13,.14,.15,.16,.17,.18,.19,.20,.21,.22,.23,.24,.25,.26,.27,.28,.29,.3,.31,.32,.33,.34,.35,.36,.37,.38,.39,.4,.41,.42,.43,.44,.45,.46,.47,.48,.49,.5,.51,.52,.53,.54,.55,.56,.57,.58,.59,.6,.61,.62,.63,.64,.65,.66,.67,.68,.69,.7,.71,.72,.73,.74,.75,.76,.77,.78,.79,.80,.81,.82,.83,.84,.85,.86,.87,.88,.89,.9,.91,.92,.93,.94,.95,.96,.97,.98,.99])"
   ]
  },
  {
   "cell_type": "code",
   "execution_count": 66,
   "metadata": {},
   "outputs": [],
   "source": [
    "hdl_bp_gene_set_percentile = np.array([0.984962406,\t0.962406015,\t0.92481203,\t0.909774436,\t0.864661654,\t0.827067669,\t0.819548872,\t0.812030075,\t0.804511278,\t0.744360902,\t0.736842105,\t0.721804511,\t0.654135338,\t0.62406015,\t0.609022556,\t0.601503759,\t0.578947368,\t0.563909774,\t0.533834586,\t0.526315789,\t0.518796992,\t0.496240602,\t0.488721805,\t0.473684211,\t0.428571429,\t0.368421053,\t0.353383459,\t0.293233083,\t0.285714286,\t0.270676692,\t0.255639098,\t0.22556391,\t0.203007519,\t0.172932331,\t0.15037594,\t0.142857143,\t0.120300752,\t0.112781955,\t0.097744361,\t0.090225564,\t0.045112782])"
   ]
  },
  {
   "cell_type": "code",
   "execution_count": 67,
   "metadata": {},
   "outputs": [],
   "source": [
    "hdl_plot = [hdl_bp_all_percentile, hdl_bp_gene_set_percentile]"
   ]
  },
  {
   "cell_type": "code",
   "execution_count": 68,
   "metadata": {},
   "outputs": [
    {
     "data": {
      "image/png": "[encoded data removed]",
      "text/plain": [
       "<Figure size 648x432 with 1 Axes>"
      ]
     },
     "metadata": {},
     "output_type": "display_data"
    }
   ],
   "source": [
    "hdl_fig = plt.figure(1, figsize=(9, 6))\n",
    "ax_hdl = hdl_fig.add_subplot(111)\n",
    "bp = ax_hdl.boxplot(hdl_plot)\n",
    "ax_hdl.set_xticklabels(['Background', 'Blood Pressure Gene Set'])\n",
    "ax_hdl.set_ylabel('Rank Percentile')\n",
    "ax_hdl.set_title(\"H dl Cholesterol Association with Known Blood Pressure Drug Targets (P-value = 0.48737)\")\n",
    "hdl_fig.savefig('hdl_bp_genes.png', bbox_inches='tight')"
   ]
  },
  {
   "cell_type": "code",
   "execution_count": 69,
   "metadata": {},
   "outputs": [],
   "source": [
    "tg_bp_synthetic =np.array([0.30484,\t0.52646,\t0.15841,\t0.31778,\t0.61474,\t0.29907,\t0.12333,\t0.11651,\t0.44293,\t0.0062816,\t0.13047,\t0.20328,\t0.31427,\t0.38884,\t0.53637,\t0.47601,\t0.10014,\t0.13773,\t0.17914,\t0.2951,\t0.23722,\t0.28185,\t0.1559,\t0.26536,\t0.47147,\t0.44846,\t0.5624,\t0.16193,\t0.23991,\t0.346,\t0.17611,\t0.090376,\t0.23889,\t0.74921,\t0.18096,\t0.24905,\t0.017779,\t0.18609,\t0.061298,\t0.6375,\t0.045011,\t0.49151,\t0.032145,\t0.18881,\t0.016281,\t0.3519,\t0.43979,\t0.12698,\t0.52938,\t0.048974,\t0.35632,\t0.3083,\t0.11258,\t0.10979,\t0.17266,\t0.20303,\t0.13987,\t0.26533,\t0.10774,\t0.1372,\t0.81168,\t0.54937,\t0.13656,\t0.068885,\t0.060889,\t0.41304,\t0.32103,\t0.22172,\t0.39247,\t0.28603,\t0.23236,\t0.71898,\t0.11357,\t0.10046,\t0.073946,\t0.0070993,\t0.42151,\t0.090479,\t0.14808,\t0.11481,\t0.38415,\t0.0028781,\t0.086141,\t0.24907,\t0.21421,\t0.057202,\t0.02279,\t0.30149,\t0.16871,\t0.044359,\t0.72324,\t0.13307])"
   ]
  },
  {
   "cell_type": "code",
   "execution_count": 70,
   "metadata": {},
   "outputs": [],
   "source": [
    "tg_bp_gene_set = ([0.067677,\t0.064809,\t0.42025,\t0.41014,\t0.086656,\t0.5547,\t0.46806,\t0.08829,\t0.12792,\t0.0073096,\t0.43635,\t0.20501,\t0.39393,\t0.040907,\t0.2438,\t0.49281,\t0.0000347,\t0.099175,\t0.41196,\t0.067092,\t0.612,\t0.030981,\t0.21538,\t0.41079,\t0.076127,\t0.05274,\t0.22583,\t0.22237,\t0.25781,\t0.28515,\t0.32675,\t0.064962,\t0.059284,\t0.19824,\t0.49764,\t0.016692,\t0.423,\t0.37642,\t0.00089819,\t0.021878,\t0.58259])"
   ]
  },
  {
   "cell_type": "code",
   "execution_count": 71,
   "metadata": {},
   "outputs": [
    {
     "data": {
      "text/plain": [
       "MannwhitneyuResult(statistic=1745.0, pvalue=0.2468022573863362)"
      ]
     },
     "execution_count": 71,
     "metadata": {},
     "output_type": "execute_result"
    }
   ],
   "source": [
    "scipy.stats.mannwhitneyu(tg_bp_synthetic, tg_bp_gene_set)"
   ]
  },
  {
   "cell_type": "code",
   "execution_count": 72,
   "metadata": {},
   "outputs": [],
   "source": [
    "tg_bp_all_percentile = np.array([0.0,.01,.02,.03,.04,.05,.06,.07,.08,.09,.1,.11,.12,.13,.14,.15,.16,.17,.18,.19,.20,.21,.22,.23,.24,.25,.26,.27,.28,.29,.3,.31,.32,.33,.34,.35,.36,.37,.38,.39,.4,.41,.42,.43,.44,.45,.46,.47,.48,.49,.5,.51,.52,.53,.54,.55,.56,.57,.58,.59,.6,.61,.62,.63,.64,.65,.66,.67,.68,.69,.7,.71,.72,.73,.74,.75,.76,.77,.78,.79,.80,.81,.82,.83,.84,.85,.86,.87,.88,.89,.9,.91,.92,.93,.94,.95,.96,.97,.98,.99])"
   ]
  },
  {
   "cell_type": "code",
   "execution_count": 73,
   "metadata": {},
   "outputs": [],
   "source": [
    "tg_bp_gene_set_percentile = np.array([0.992481203,\t0.984962406,\t0.954887218,\t0.939849624,\t0.92481203,\t0.909774436,\t0.894736842,\t0.864661654,\t0.84962406,\t0.827067669,\t0.819548872,\t0.812030075,\t0.804511278,\t0.781954887,\t0.766917293,\t0.759398496,\t0.736842105,\t0.654135338,\t0.518796992,\t0.496240602,\t0.481203008,\t0.466165414,\t0.458646617,\t0.421052632,\t0.398496241,\t0.368421053,\t0.293233083,\t0.263157895,\t0.233082707,\t0.22556391,\t0.218045113,\t0.210526316,\t0.195488722,\t0.180451128,\t0.172932331,\t0.142857143,\t0.112781955,\t0.105263158,\t0.067669173,\t0.052631579,\t0.045112782])"
   ]
  },
  {
   "cell_type": "code",
   "execution_count": 74,
   "metadata": {},
   "outputs": [],
   "source": [
    "tg_plot = [tg_bp_all_percentile, tg_bp_gene_set_percentile]"
   ]
  },
  {
   "cell_type": "code",
   "execution_count": 75,
   "metadata": {},
   "outputs": [
    {
     "data": {
      "image/png": "[encoded data removed]",
      "text/plain": [
       "<Figure size 648x432 with 1 Axes>"
      ]
     },
     "metadata": {},
     "output_type": "display_data"
    }
   ],
   "source": [
    "tg_fig = plt.figure(1, figsize=(9, 6))\n",
    "ax_tg = tg_fig.add_subplot(111)\n",
    "bp = ax_tg.boxplot(tg_plot)\n",
    "ax_tg.set_xticklabels(['Background', 'Blood Pressure Gene Set'])\n",
    "ax_tg.set_ylabel('Rank Percentile')\n",
    "ax_tg.set_title(\"Triglyceride Association with Known Blood Pressure Drug Targets (P-value = 0.24680)\")\n",
    "tg_fig.savefig('tg_bp_genes.png', bbox_inches='tight')"
   ]
  },
  {
   "cell_type": "code",
   "execution_count": 76,
   "metadata": {},
   "outputs": [],
   "source": [
    "sbp_bp_synthetic =np.array([0.048881,\t0.15795,\t0.22332,\t0.10085,\t0.35395,\t0.33158,\t0.57503,\t0.37856,\t0.60715,\t0.0062816,\t0.13047,\t0.63685,\t0.17502,\t0.55199,\t0.035711,\t0.17442,\t0.2061,\t0.67278,\t0.17914,\t0.2951,\t0.045375,\t0.28185,\t0.1559,\t0.26536,\t0.015295,\t0.4998,\t0.063235,\t0.14668,\t0.071767,\t0.16805,\t0.51615,\t0.014683,\t0.23869,\t0.9229,\t0.3931,\t0.48435,\t0.21508,\t0.12496,\t0.18197,\t0.1882,\t0.14756,\t0.056146,\t0.18533,\t0.16307,\t0.051822,\t0.38215,\t0.38433,\t0.38384,\t0.51849,\t0.050372,\t0.17914,\t0.10074,\t0.10121,\t0.074815,\t0.01725,\t0.26596,\t0.082664,\t0.27516,\t0.087359,\t0.00090579,\t0.093278,\t0.54344,\t0.037843,\t0.17183,\t0.0019633,\t0.21317,\t0.0041007,\t0.49037,\t0.0019146,\t0.19775,\t0.38966,\t0.15525,\t0.035243,\t0.37852,\t0.14316,\t0.25654,\t0.29893,\t0.40836,\t0.39502,\t0.61305,\t0.28117,\t0.10515,\t0.043879,\t0.036276,\t0.31775,\t0.13476,\t0.44591,\t0.084892,\t0.1913,\t0.47918,\t0.13747,\t0.13968,])"
   ]
  },
  {
   "cell_type": "code",
   "execution_count": 77,
   "metadata": {},
   "outputs": [],
   "source": [
    "sbp_bp_gene_set = np.array([0.0030125,\t0.0035272,\t0.019215,\t0.020689,\t0.047609,\t0.048012,\t0.052308,\t0.055117,\t0.058426,\t0.05891,\t0.065395,\t0.075677,\t0.078274,\t0.086351,\t0.10078,\t0.1113,\t0.14154,\t0.14547,\t0.14721,\t0.16506,\t0.16901,\t0.18184,\t0.22824,\t0.23597,\t0.23905,\t0.24144,\t0.24595,\t0.28186,\t0.28403,\t0.30509,\t0.34079,\t0.34622,\t0.4197,\t0.48341,\t0.50621,\t0.53015,\t0.62589,\t0.67334,\t0.72676,\t0.7535,\t0.8013])"
   ]
  },
  {
   "cell_type": "code",
   "execution_count": 78,
   "metadata": {},
   "outputs": [
    {
     "data": {
      "text/plain": [
       "MannwhitneyuResult(statistic=1877.0, pvalue=0.4834819877910477)"
      ]
     },
     "execution_count": 78,
     "metadata": {},
     "output_type": "execute_result"
    }
   ],
   "source": [
    "scipy.stats.mannwhitneyu(sbp_bp_gene_set,sbp_bp_synthetic, alternative = 'less')"
   ]
  },
  {
   "cell_type": "code",
   "execution_count": 79,
   "metadata": {},
   "outputs": [],
   "source": [
    "sbp_bp_all_percentile = np.array([0.0,.01,.02,.03,.04,.05,.06,.07,.08,.09,.1,.11,.12,.13,.14,.15,.16,.17,.18,.19,.20,.21,.22,.23,.24,.25,.26,.27,.28,.29,.3,.31,.32,.33,.34,.35,.36,.37,.38,.39,.4,.41,.42,.43,.44,.45,.46,.47,.48,.49,.5,.51,.52,.53,.54,.55,.56,.57,.58,.59,.6,.61,.62,.63,.64,.65,.66,.67,.68,.69,.7,.71,.72,.73,.74,.75,.76,.77,.78,.79,.80,.81,.82,.83,.84,.85,.86,.87,.88,.89,.9,.91,.92,.93,.94,.95,.96,.97,.98,.99])"
   ]
  },
  {
   "cell_type": "code",
   "execution_count": 80,
   "metadata": {},
   "outputs": [],
   "source": [
    "sbp_bp_gene_set_percentile = np.array([0.969924812,\t0.962406015,\t0.917293233,\t0.909774436,\t0.857142857,\t0.84962406,\t0.819548872,\t0.812030075,\t0.796992481,\t0.789473684,\t0.77443609,\t0.751879699,\t0.744360902,\t0.721804511,\t0.691729323,\t0.661654135,\t0.616541353,\t0.601503759,\t0.586466165,\t0.541353383,\t0.526315789,\t0.481203008,\t0.406015038,\t0.398496241,\t0.383458647,\t0.37593985,\t0.368421053,\t0.315789474,\t0.308270677,\t0.285714286,\t0.263157895,\t0.255639098,\t0.172932331,\t0.15037594,\t0.120300752,\t0.097744361,\t0.052631579,\t0.030075188,\t0.022556391,\t0.015037594,\t0.007518797])"
   ]
  },
  {
   "cell_type": "code",
   "execution_count": 81,
   "metadata": {},
   "outputs": [],
   "source": [
    "sbp_plot = [sbp_bp_all_percentile, sbp_bp_gene_set_percentile]"
   ]
  },
  {
   "cell_type": "code",
   "execution_count": 82,
   "metadata": {},
   "outputs": [
    {
     "data": {
      "image/png": "[encoded data removed]",
      "text/plain": [
       "<Figure size 648x432 with 1 Axes>"
      ]
     },
     "metadata": {},
     "output_type": "display_data"
    }
   ],
   "source": [
    "sbp_fig = plt.figure(1, figsize=(9, 6))\n",
    "ax_sbp = sbp_fig.add_subplot(111)\n",
    "bp = ax_sbp.boxplot(sbp_plot)\n",
    "ax_sbp.set_xticklabels(['Background', 'Blood Pressure Gene Set'],**csfont)\n",
    "ax_sbp.set_ylabel('Rank Percentile',**csfont)\n",
    "ax_sbp.set_title(\"Systolic BP Association with Known Blood Pressure Drug Targets (p = 0.48348)\",**csfont)\n",
    "sbp_fig.savefig('bp_known_sbp2.png', dpi = 600, bbox_inches='tight')"
   ]
  },
  {
   "cell_type": "code",
   "execution_count": 83,
   "metadata": {},
   "outputs": [],
   "source": [
    "creat_bp_synthetic =np.array([0.084587,\t0.079644,\t0.26021,\t0.1066,\t0.022644,\t0.16933,\t0.32985,\t0.69843,\t0.83469,\t0.1392,\t0.51911,\t0.2318,\t0.0002258,\t0.32456,\t0.59437,\t0.43235,\t0.50597,\t0.30421,\t0.000066945,\t0.4549,\t0.078396,\t0.14772,\t0.2014,\t0.017506,\t0.42065,\t0.59619,\t0.01724,\t0.46191,\t0.012321,\t0.3318,\t0.51038,\t0.24528,\t0.027507,\t0.81511,\t0.64566,\t0.00004608,\t0.34769,\t0.03064,\t0.056788,\t0.23124,\t0.21887,\t0.15524,\t0.066,\t0.040311,\t0.43653,\t0.17196,\t0.55447,\t0.50714,\t0.3325,\t0.14832,\t0.377,\t0.44024,\t0.44377,\t0.0061159,\t0.44631,\t0.1518,\t0.052694,\t0.53315,\t0.037891,\t0.032194,\t0.64375,\t0.13653,\t0.15786,\t0.55076,\t0.021403,\t0.033125,\t0.62384,\t0.81722,\t0.14274,\t0.21477,\t0.042834,\t0.41799,\t0.000000022889,\t0.15009,\t0.070895,\t0.13683,\t0.080668,\t0.12693,\t0.71624,\t0.64004,\t0.43409,\t0.094796,\t0.40029,\t0.12505,\t0.04507,\t0.062628,\t0.017629,\t0.15886,\t0.026643,\t0.21268,\t0.0086051,\t0.31021])"
   ]
  },
  {
   "cell_type": "code",
   "execution_count": 84,
   "metadata": {},
   "outputs": [],
   "source": [
    "creat_bp_gene_set = np.array([0.0011524,\t0.002093,\t0.0042076,\t0.0057344,\t0.0091002,\t0.022946,\t0.034629,\t0.070503,\t0.078888,\t0.082605,\t0.086087,\t0.091204,\t0.11484,\t0.13062,\t0.13412,\t0.1438,\t0.14886,\t0.15116,\t0.15752,\t0.16377,\t0.16515,\t0.16719,\t0.18844,\t0.19838,\t0.21079,\t0.21138,\t0.30013,\t0.31059,\t0.31894,\t0.32034,\t0.40048,\t0.42378,\t0.46472,\t0.47777,\t0.51141,\t0.57266,\t0.64662,\t0.66358,\t0.67311,\t0.67531,\t0.71409])"
   ]
  },
  {
   "cell_type": "code",
   "execution_count": 85,
   "metadata": {},
   "outputs": [
    {
     "data": {
      "text/plain": [
       "MannwhitneyuResult(statistic=1877.0, pvalue=0.4834820088433992)"
      ]
     },
     "execution_count": 85,
     "metadata": {},
     "output_type": "execute_result"
    }
   ],
   "source": [
    "scipy.stats.mannwhitneyu(creat_bp_synthetic, creat_bp_gene_set)"
   ]
  },
  {
   "cell_type": "code",
   "execution_count": 86,
   "metadata": {},
   "outputs": [],
   "source": [
    "creat_bp_all_percentile = np.array([0.0,.01,.02,.03,.04,.05,.06,.07,.08,.09,.1,.11,.12,.13,.14,.15,.16,.17,.18,.19,.20,.21,.22,.23,.24,.25,.26,.27,.28,.29,.3,.31,.32,.33,.34,.35,.36,.37,.38,.39,.4,.41,.42,.43,.44,.45,.46,.47,.48,.49,.5,.51,.52,.53,.54,.55,.56,.57,.58,.59,.6,.61,.62,.63,.64,.65,.66,.67,.68,.69,.7,.71,.72,.73,.74,.75,.76,.77,.78,.79,.80,.81,.82,.83,.84,.85,.86,.87,.88,.89,.9,.91,.92,.93,.94,.95,.96,.97,.98,.99])"
   ]
  },
  {
   "cell_type": "code",
   "execution_count": 87,
   "metadata": {},
   "outputs": [],
   "source": [
    "creat_bp_gene_set_percentile = np.array([0.962406015,\t0.954887218,\t0.947368421,\t0.939849624,\t0.917293233,\t0.864661654,\t0.819548872,\t0.751879699,\t0.729323308,\t0.706766917,\t0.691729323,\t0.684210526,\t0.661654135,\t0.639097744,\t0.631578947,\t0.593984962,\t0.571428571,\t0.556390977,\t0.533834586,\t0.511278195,\t0.503759398,\t0.496240602,\t0.473684211,\t0.466165414,\t0.45112782,\t0.443609023,\t0.383458647,\t0.360902256,\t0.353383459,\t0.345864662,\t0.285714286,\t0.263157895,\t0.195488722,\t0.187969925,\t0.157894737,\t0.120300752,\t0.067669173,\t0.060150376,\t0.052631579,\t0.045112782,\t0.030075188])"
   ]
  },
  {
   "cell_type": "code",
   "execution_count": 88,
   "metadata": {},
   "outputs": [],
   "source": [
    "creat_plot = [creat_bp_all_percentile, creat_bp_gene_set_percentile]"
   ]
  },
  {
   "cell_type": "code",
   "execution_count": 89,
   "metadata": {},
   "outputs": [
    {
     "data": {
      "image/png": "[encoded data removed]",
      "text/plain": [
       "<Figure size 648x432 with 1 Axes>"
      ]
     },
     "metadata": {},
     "output_type": "display_data"
    }
   ],
   "source": [
    "creat_fig = plt.figure(1, figsize=(9, 6))\n",
    "ax_creat= creat_fig.add_subplot(111)\n",
    "bp = ax_creat.boxplot(creat_plot)\n",
    "ax_creat.set_xticklabels(['Background', 'Blood Pressure Gene Set'])\n",
    "ax_creat.set_ylabel('Rank Percentile')\n",
    "ax_creat.set_title(\"Creat Association with Known Blood Pressure Drug Targets (P-value = 0.48348)\")\n",
    "creat_fig.savefig('creat_bp_genes.png', bbox_inches='tight')"
   ]
  },
  {
   "cell_type": "code",
   "execution_count": 90,
   "metadata": {},
   "outputs": [],
   "source": [
    "hr_bp_synthetic = np.array([0.59476,\t0.56512,\t0.0086538,\t0.86128,\t0.21568,\t0.025718,\t0.24663,\t0.015089,\t0.49183,\t0.26939,\t0.48565,\t0.39111,\t0.11891,\t0.21628,\t0.11663,\t0.10078,\t0.36945,\t0.38753,\t0.36354,\t0.4958,\t0.012229,\t0.44837,\t0.35618,\t0.29242,\t0.36482,\t0.71178,\t0.32023,\t0.16788,\t0.15846,\t0.18862,\t0.16572,\t0.25867,\t0.32463,\t0.32947,\t0.39119,\t0.33032,\t0.2295,\t0.38766,\t0.61732,\t0.020444,\t0.21209,\t0.65131,\t0.097339,\t0.22758,\t0.68531,\t0.35091,\t0.70532,\t0.23593,\t0.25229,\t0.50297,\t0.0096052,\t0.01457,\t0.0049673,\t0.63597,\t0.04075,\t0.12664,\t0.17032,\t0.91281,\t0.59688,\t0.2071,\t0.60585,\t0.75725,\t0.48368,\t0.63592,\t0.34985,\t0.53849,\t0.043761,\t0.025561,\t0.51422,\t0.23469,\t0.62664,\t0.47856,\t0.29674,\t0.3098,\t0.22596,\t0.15556,\t0.016035,\t0.10192,\t0.43323,\t0.1491,\t0.34485,\t0.49222,\t0.38403,\t0.27897,\t0.64731,\t0.41591,\t0.13736,\t0.17717,\t0.33531,\t0.44337,\t0.14347,\t0.082935])\n"
   ]
  },
  {
   "cell_type": "code",
   "execution_count": 91,
   "metadata": {},
   "outputs": [],
   "source": [
    "hr_bp_gene_set = np.array([0.030131,\t0.037671,\t0.048561,\t0.050864,\t0.073149,\t0.1029,\t0.10351,\t0.10492,\t0.1116,\t0.11408,\t0.11688,\t0.12656,\t0.13563,\t0.13979,\t0.15765,\t0.1772,\t0.17974,\t0.20458,\t0.24761,\t0.31197,\t0.32844,\t0.33637,\t0.36457,\t0.36473,\t0.38356,\t0.43196,\t0.45726,\t0.46768,\t0.49902,\t0.50481,\t0.51097,\t0.53411,\t0.56485,\t0.58596,\t0.59022,\t0.60803,\t0.68827,\t0.70517,\t0.71978,\t0.73012,\t0.92561])"
   ]
  },
  {
   "cell_type": "code",
   "execution_count": 92,
   "metadata": {},
   "outputs": [
    {
     "data": {
      "text/plain": [
       "MannwhitneyuResult(statistic=1852.0, pvalue=0.4351690862568823)"
      ]
     },
     "execution_count": 92,
     "metadata": {},
     "output_type": "execute_result"
    }
   ],
   "source": [
    "scipy.stats.mannwhitneyu(hr_bp_gene_set, hr_bp_synthetic)"
   ]
  },
  {
   "cell_type": "code",
   "execution_count": 93,
   "metadata": {},
   "outputs": [],
   "source": [
    "hr_bp_all_percentile = np.array([0.0,.01,.02,.03,.04,.05,.06,.07,.08,.09,.1,.11,.12,.13,.14,.15,.16,.17,.18,.19,.20,.21,.22,.23,.24,.25,.26,.27,.28,.29,.3,.31,.32,.33,.34,.35,.36,.37,.38,.39,.4,.41,.42,.43,.44,.45,.46,.47,.48,.49,.5,.51,.52,.53,.54,.55,.56,.57,.58,.59,.6,.61,.62,.63,.64,.65,.66,.67,.68,.69,.7,.71,.72,.73,.74,.75,.76,.77,.78,.79,.80,.81,.82,.83,.84,.85,.86,.87,.88,.89,.9,.91,.92,.93,.94,.95,.96,.97,.98,.99])"
   ]
  },
  {
   "cell_type": "code",
   "execution_count": 94,
   "metadata": {},
   "outputs": [],
   "source": [
    "hr_bp_gene_set_percentile = np.array([0.917293233,\t0.909774436,\t0.887218045,\t0.879699248,\t0.872180451,\t0.834586466,\t0.827067669,\t0.819548872,\t0.812030075,\t0.804511278,\t0.789473684,\t0.77443609,\t0.759398496,\t0.744360902,\t0.714285714,\t0.669172932,\t0.661654135,\t0.646616541,\t0.563909774,\t0.503759398,\t0.481203008,\t0.45112782,\t0.406015038,\t0.398496241,\t0.37593985,\t0.323308271,\t0.293233083,\t0.285714286,\t0.233082707,\t0.218045113,\t0.210526316,\t0.195488722,\t0.180451128,\t0.165413534,\t0.157894737,\t0.127819549,\t0.067669173,\t0.060150376,\t0.037593985,\t0.030075188,\t0])"
   ]
  },
  {
   "cell_type": "code",
   "execution_count": 95,
   "metadata": {},
   "outputs": [],
   "source": [
    "hr_plot = [hr_bp_all_percentile, hr_bp_gene_set_percentile]"
   ]
  },
  {
   "cell_type": "code",
   "execution_count": 96,
   "metadata": {},
   "outputs": [
    {
     "data": {
      "image/png": "[encoded data removed]",
      "text/plain": [
       "<Figure size 648x432 with 1 Axes>"
      ]
     },
     "metadata": {},
     "output_type": "display_data"
    }
   ],
   "source": [
    "hr_fig = plt.figure(1, figsize=(9, 6))\n",
    "ax_hr= hr_fig.add_subplot(111)\n",
    "bp = ax_hr.boxplot(hr_plot)\n",
    "ax_hr.set_xticklabels(['Background', 'Blood Pressure Gene Set'])\n",
    "ax_hr.set_ylabel('Rank Percentile')\n",
    "ax_hr.set_title(\"hr Association with Known Blood Pressure Drug Targets (P-value = 0.43517)\")\n",
    "hr_fig.savefig('hr_bp_genes.png', bbox_inches='tight')"
   ]
  },
  {
   "cell_type": "code",
   "execution_count": 97,
   "metadata": {},
   "outputs": [],
   "source": [
    "all_synthetic = np.array([0.0,.01,.02,.03,.04,.05,.06,.07,.08,.09,.1,.11,.12,.13,.14,.15,.16,.17,.18,.19,.20,.21,.22,.23,.24,.25,.26,.27,.28,.29,.3,.31,.32,.33,.34,.35,.36,.37,.38,.39,.4,.41,.42,.43,.44,.45,.46,.47,.48,.49,.5,.51,.52,.53,.54,.55,.56,.57,.58,.59,.6,.61,.62,.63,.64,.65,.66,.67,.68,.69,.7,.71,.72,.73,.74,.75,.76,.77,.78,.79,.80,.81,.82,.83,.84,.85,.86,.87,.88,.89,.9,.91,.92,.93,.94,.95,.96,.97,.98,.99])"
   ]
  },
  {
   "cell_type": "code",
   "execution_count": 98,
   "metadata": {},
   "outputs": [],
   "source": [
    "\n",
    "all_plot = [all_synthetic, bmi_bp_gene_set_percentile,fast_insulin_bp_gene_set_percentile,dbp_bp_gene_set_percentile,ldl_bp_gene_set_percentile,tchol_bp_gene_set_percentile,hdl_bp_gene_set_percentile,tg_bp_gene_set_percentile,sbp_bp_gene_set_percentile,creat_bp_gene_set_percentile,hr_bp_gene_set_percentile]"
   ]
  },
  {
   "cell_type": "code",
   "execution_count": 99,
   "metadata": {},
   "outputs": [
    {
     "data": {
      "image/png": "[encoded data removed]",
      "text/plain": [
       "<Figure size 1080x720 with 1 Axes>"
      ]
     },
     "metadata": {},
     "output_type": "display_data"
    }
   ],
   "source": [
    "all_fig = plt.figure(1, figsize=(15, 10))\n",
    "ax_all = all_fig.add_subplot(111)\n",
    "bp = ax_all.boxplot(all_plot)\n",
    "ax_all.set_xticklabels(['Background', 'BMI', 'Fasting Insulin', 'DBP', 'LDL', 'T Chol', 'HDL','tg','SBP', 'Creat', 'HR Ins'])\n",
    "ax_all.set_ylabel('Rank Percentile')\n",
    "ax_all.set_title(\"Associations with Known Blood Pressure Targets\")\n",
    "all_fig.savefig('all_bp_genes.png', bbox_inches='tight')\n"
   ]
  },
  {
   "cell_type": "code",
   "execution_count": null,
   "metadata": {},
   "outputs": [],
   "source": []
  },
  {
   "cell_type": "code",
   "execution_count": null,
   "metadata": {},
   "outputs": [],
   "source": []
  },
  {
   "cell_type": "code",
   "execution_count": null,
   "metadata": {},
   "outputs": [],
   "source": []
  },
  {
   "cell_type": "code",
   "execution_count": null,
   "metadata": {},
   "outputs": [],
   "source": []
  },
  {
   "cell_type": "code",
   "execution_count": null,
   "metadata": {},
   "outputs": [],
   "source": []
  },
  {
   "cell_type": "code",
   "execution_count": null,
   "metadata": {},
   "outputs": [],
   "source": []
  },
  {
   "cell_type": "code",
   "execution_count": null,
   "metadata": {},
   "outputs": [],
   "source": []
  },
  {
   "cell_type": "code",
   "execution_count": null,
   "metadata": {},
   "outputs": [],
   "source": []
  },
  {
   "cell_type": "code",
   "execution_count": null,
   "metadata": {},
   "outputs": [],
   "source": []
  },
  {
   "cell_type": "code",
   "execution_count": null,
   "metadata": {},
   "outputs": [],
   "source": []
  },
  {
   "cell_type": "code",
   "execution_count": null,
   "metadata": {},
   "outputs": [],
   "source": []
  },
  {
   "cell_type": "code",
   "execution_count": null,
   "metadata": {},
   "outputs": [],
   "source": []
  },
  {
   "cell_type": "code",
   "execution_count": null,
   "metadata": {},
   "outputs": [],
   "source": []
  },
  {
   "cell_type": "code",
   "execution_count": null,
   "metadata": {},
   "outputs": [],
   "source": []
  },
  {
   "cell_type": "code",
   "execution_count": null,
   "metadata": {},
   "outputs": [],
   "source": []
  },
  {
   "cell_type": "code",
   "execution_count": null,
   "metadata": {},
   "outputs": [],
   "source": []
  },
  {
   "cell_type": "code",
   "execution_count": null,
   "metadata": {},
   "outputs": [],
   "source": []
  },
  {
   "cell_type": "code",
   "execution_count": null,
   "metadata": {},
   "outputs": [],
   "source": []
  }
 ],
 "metadata": {
  "kernelspec": {
   "display_name": "Python 3",
   "language": "python",
   "name": "python3"
  },
  "language_info": {
   "codemirror_mode": {
    "name": "ipython",
    "version": 3
   },
   "file_extension": ".py",
   "mimetype": "text/x-python",
   "name": "python",
   "nbconvert_exporter": "python",
   "pygments_lexer": "ipython3",
   "version": "3.6.5"
  }
 },
 "nbformat": 4,
 "nbformat_minor": 2
}
