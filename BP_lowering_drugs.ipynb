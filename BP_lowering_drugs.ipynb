{
 "cells": [
  {
   "cell_type": "code",
   "execution_count": 1,
   "metadata": {},
   "outputs": [],
   "source": [
    "import pandas as pd\n",
    "import numpy as np"
   ]
  },
  {
   "cell_type": "code",
   "execution_count": 2,
   "metadata": {},
   "outputs": [],
   "source": [
    "path_to_file = \"/Users/aditgupta/Google Drive/Research/T2D/Summer_2018/drug_names.tsv\" #this is the path to the file for all the drug names and corresponding ID's\n",
    "df5 = pd.read_csv(path_to_file,delimiter=\"\\t\", header=None) #reads file, converts to csv, and explains to fucntio that the delimeter are tabs\n",
    "df5.rename(columns={0:'ID'}, inplace=True) #renames index zero to 'ID'\n",
    "df5.rename(columns={1:'drug_name'}, inplace=True) #renames index one to drug name\n",
    "#OVERALL: df5 contains the drug name based on the 'CID' ID "
   ]
  },
  {
   "cell_type": "code",
   "execution_count": 3,
   "metadata": {},
   "outputs": [],
   "source": [
    "import xml.etree.ElementTree as ET\n",
    "import lxml.html\n",
    "#importing libraries that parse the xml file with detailed drug information "
   ]
  },
  {
   "cell_type": "code",
   "execution_count": 4,
   "metadata": {},
   "outputs": [],
   "source": [
    "path_to_file = '/Users/aditgupta/Google Drive/Research/T2D/Summer_2018/drugbank_full_database.xml' #file location of the drugbank database"
   ]
  },
  {
   "cell_type": "code",
   "execution_count": 5,
   "metadata": {},
   "outputs": [],
   "source": [
    "tree = ET.parse(path_to_file) # function that parses the xml file from drugbank"
   ]
  },
  {
   "cell_type": "code",
   "execution_count": 6,
   "metadata": {},
   "outputs": [],
   "source": [
    "def find_categories_matching_string(drug_element, category_name):\n",
    "    all_categories = drug_element.findall(\".//*{http://www.drugbank.ca}category\")\n",
    "    categories_wanted = list(filter(lambda category: category.text == category_name, all_categories))\n",
    "    return categories_wanted"
   ]
  },
  {
   "cell_type": "code",
   "execution_count": 7,
   "metadata": {},
   "outputs": [],
   "source": [
    "all_drugs = tree.findall(\"{http://www.drugbank.ca}drug\")"
   ]
  },
  {
   "cell_type": "code",
   "execution_count": 8,
   "metadata": {},
   "outputs": [],
   "source": [
    "def get_id_and_name_from_target(target):\n",
    "    id = target.find(\"{http://www.drugbank.ca}id\").text\n",
    "    name = target.find(\"{http://www.drugbank.ca}name\").text\n",
    "    effect = target.find(\"*{http://www.drugbank.ca}category\") #Blood Glucose Lowering\n",
    "    gene = target.find(\"*{http://www.drugbank.ca}gene-name\")\n",
    "    #glucose_categories = find_categories_matching_string(target, \"Blood Glucose Lowering Agents\")\n",
    "    #diabetes_categories = find_categories_matching_string(target, \"Drugs Used in Diabetes\")\n",
    "    if gene is None:\n",
    "        gene_found = None\n",
    "        \n",
    "    else:\n",
    "        gene_found= gene.text\n",
    "    return id, name, gene_found\n",
    "#function that returns the target id, target name, and gene name of a particular sample"
   ]
  },
  {
   "cell_type": "code",
   "execution_count": null,
   "metadata": {},
   "outputs": [],
   "source": []
  },
  {
   "cell_type": "code",
   "execution_count": 9,
   "metadata": {},
   "outputs": [],
   "source": [
    "new_results = []\n",
    "total_found = 0\n",
    "for drug in all_drugs:\n",
    "    drug_name = drug.find(\"{http://www.drugbank.ca}name\").text\n",
    "    drug_id = drug.find(\"{http://www.drugbank.ca}drugbank-id[@primary]\").text\n",
    "    element_containing_all_targets = drug.find(\"{http://www.drugbank.ca}targets\")\n",
    "    list_of_targets = element_containing_all_targets.findall(\"{http://www.drugbank.ca}target\")\n",
    "    bp_categories = find_categories_matching_string(drug, \"Antihypertensive Agents\")\n",
    "    if  bp_categories == []:\n",
    "        bp_categories = None\n",
    "    for target in list_of_targets:\n",
    "        target_id, target_name, target_gene = get_id_and_name_from_target(target)\n",
    "        new_results.append([drug_name, drug_id, target_id, target_name, target_gene, bp_categories])\n",
    "    total_found += 1\n",
    "#creates an array and list that contains the drug name, drug id, target id, target name, and target gene as extracted from drug bank"
   ]
  },
  {
   "cell_type": "code",
   "execution_count": 10,
   "metadata": {},
   "outputs": [],
   "source": [
    "drug = all_drugs[0]\n",
    "element_containing_all_targets = drug.find(\"{http://www.drugbank.ca}targets\")\n",
    "list_of_targets = element_containing_all_targets.findall(\"{http://www.drugbank.ca}target\")\n",
    "target = list_of_targets[0]"
   ]
  },
  {
   "cell_type": "code",
   "execution_count": 11,
   "metadata": {},
   "outputs": [],
   "source": [
    "second_results = []\n",
    "total_found = 0\n",
    "for drug in all_drugs:\n",
    "    drug_name = drug.find(\"{http://www.drugbank.ca}name\").text\n",
    "    drug_id = drug.find(\"{http://www.drugbank.ca}drugbank-id[@primary]\").text\n",
    "    element_containing_all_targets = drug.find(\"{http://www.drugbank.ca}targets\")\n",
    "    list_of_targets = element_containing_all_targets.findall(\"{http://www.drugbank.ca}target\")\n",
    "    for target in list_of_targets:\n",
    "        target_id, target_name, target_gene = get_id_and_name_from_target(target)\n",
    "        second_results.append([drug_name, drug_id, target_id, target_name, target_gene])\n",
    "    total_found += 1\n",
    "#creates an array and list that contains the drug name, drug id, target id, target name, and target gene as extracted from drug bank"
   ]
  },
  {
   "cell_type": "code",
   "execution_count": 12,
   "metadata": {},
   "outputs": [],
   "source": [
    "df = pd.DataFrame(new_results) #df contains the results from the parsing of the xml file from drugbank\n",
    "df.columns = [\"drug_name\", \"drug_id\", \"target_id\", \"target_name\", \"target_gene\",\"bp\",] #renaming the columns of the dataframe"
   ]
  },
  {
   "cell_type": "code",
   "execution_count": 13,
   "metadata": {},
   "outputs": [
    {
     "data": {
      "text/html": [
       "<div>\n",
       "<style scoped>\n",
       "    .dataframe tbody tr th:only-of-type {\n",
       "        vertical-align: middle;\n",
       "    }\n",
       "\n",
       "    .dataframe tbody tr th {\n",
       "        vertical-align: top;\n",
       "    }\n",
       "\n",
       "    .dataframe thead th {\n",
       "        text-align: right;\n",
       "    }\n",
       "</style>\n",
       "<table border=\"1\" class=\"dataframe\">\n",
       "  <thead>\n",
       "    <tr style=\"text-align: right;\">\n",
       "      <th></th>\n",
       "      <th>drug_name</th>\n",
       "      <th>drug_id</th>\n",
       "      <th>target_id</th>\n",
       "      <th>target_name</th>\n",
       "      <th>target_gene</th>\n",
       "      <th>bp</th>\n",
       "    </tr>\n",
       "  </thead>\n",
       "  <tbody>\n",
       "    <tr>\n",
       "      <th>1290</th>\n",
       "      <td>Valsartan</td>\n",
       "      <td>DB00177</td>\n",
       "      <td>BE0000062</td>\n",
       "      <td>Type-1 angiotensin II receptor</td>\n",
       "      <td>AGTR1</td>\n",
       "      <td>[[]]</td>\n",
       "    </tr>\n",
       "    <tr>\n",
       "      <th>1291</th>\n",
       "      <td>Ramipril</td>\n",
       "      <td>DB00178</td>\n",
       "      <td>BE0000221</td>\n",
       "      <td>Angiotensin-converting enzyme</td>\n",
       "      <td>ACE</td>\n",
       "      <td>[[]]</td>\n",
       "    </tr>\n",
       "    <tr>\n",
       "      <th>1292</th>\n",
       "      <td>Ramipril</td>\n",
       "      <td>DB00178</td>\n",
       "      <td>BE0005831</td>\n",
       "      <td>B1 bradykinin receptor</td>\n",
       "      <td>BDKRB1</td>\n",
       "      <td>[[]]</td>\n",
       "    </tr>\n",
       "    <tr>\n",
       "      <th>1328</th>\n",
       "      <td>Esmolol</td>\n",
       "      <td>DB00187</td>\n",
       "      <td>BE0000172</td>\n",
       "      <td>Beta-1 adrenergic receptor</td>\n",
       "      <td>ADRB1</td>\n",
       "      <td>[[]]</td>\n",
       "    </tr>\n",
       "    <tr>\n",
       "      <th>1353</th>\n",
       "      <td>Betaxolol</td>\n",
       "      <td>DB00195</td>\n",
       "      <td>BE0000172</td>\n",
       "      <td>Beta-1 adrenergic receptor</td>\n",
       "      <td>ADRB1</td>\n",
       "      <td>[[]]</td>\n",
       "    </tr>\n",
       "  </tbody>\n",
       "</table>\n",
       "</div>"
      ],
      "text/plain": [
       "      drug_name  drug_id  target_id                     target_name  \\\n",
       "1290  Valsartan  DB00177  BE0000062  Type-1 angiotensin II receptor   \n",
       "1291   Ramipril  DB00178  BE0000221   Angiotensin-converting enzyme   \n",
       "1292   Ramipril  DB00178  BE0005831          B1 bradykinin receptor   \n",
       "1328    Esmolol  DB00187  BE0000172      Beta-1 adrenergic receptor   \n",
       "1353  Betaxolol  DB00195  BE0000172      Beta-1 adrenergic receptor   \n",
       "\n",
       "     target_gene    bp  \n",
       "1290       AGTR1  [[]]  \n",
       "1291         ACE  [[]]  \n",
       "1292      BDKRB1  [[]]  \n",
       "1328       ADRB1  [[]]  \n",
       "1353       ADRB1  [[]]  "
      ]
     },
     "execution_count": 13,
     "metadata": {},
     "output_type": "execute_result"
    }
   ],
   "source": [
    "df_category1 = df.dropna(subset = ['bp'])\n",
    "df_category1.head()"
   ]
  },
  {
   "cell_type": "code",
   "execution_count": null,
   "metadata": {},
   "outputs": [],
   "source": []
  },
  {
   "cell_type": "code",
   "execution_count": null,
   "metadata": {},
   "outputs": [],
   "source": []
  },
  {
   "cell_type": "code",
   "execution_count": 14,
   "metadata": {},
   "outputs": [
    {
     "data": {
      "text/html": [
       "<div>\n",
       "<style scoped>\n",
       "    .dataframe tbody tr th:only-of-type {\n",
       "        vertical-align: middle;\n",
       "    }\n",
       "\n",
       "    .dataframe tbody tr th {\n",
       "        vertical-align: top;\n",
       "    }\n",
       "\n",
       "    .dataframe thead th {\n",
       "        text-align: right;\n",
       "    }\n",
       "</style>\n",
       "<table border=\"1\" class=\"dataframe\">\n",
       "  <thead>\n",
       "    <tr style=\"text-align: right;\">\n",
       "      <th></th>\n",
       "      <th>drug_name</th>\n",
       "      <th>number_of_targets</th>\n",
       "    </tr>\n",
       "  </thead>\n",
       "  <tbody>\n",
       "    <tr>\n",
       "      <th>0</th>\n",
       "      <td>Fostamatinib</td>\n",
       "      <td>300</td>\n",
       "    </tr>\n",
       "    <tr>\n",
       "      <th>1</th>\n",
       "      <td>Artenimol</td>\n",
       "      <td>192</td>\n",
       "    </tr>\n",
       "    <tr>\n",
       "      <th>2</th>\n",
       "      <td>Copper</td>\n",
       "      <td>147</td>\n",
       "    </tr>\n",
       "    <tr>\n",
       "      <th>3</th>\n",
       "      <td>NADH</td>\n",
       "      <td>144</td>\n",
       "    </tr>\n",
       "    <tr>\n",
       "      <th>4</th>\n",
       "      <td>Zinc</td>\n",
       "      <td>124</td>\n",
       "    </tr>\n",
       "  </tbody>\n",
       "</table>\n",
       "</div>"
      ],
      "text/plain": [
       "      drug_name  number_of_targets\n",
       "0  Fostamatinib                300\n",
       "1     Artenimol                192\n",
       "2        Copper                147\n",
       "3          NADH                144\n",
       "4          Zinc                124"
      ]
     },
     "execution_count": 14,
     "metadata": {},
     "output_type": "execute_result"
    }
   ],
   "source": [
    "df3 = df['drug_name'].value_counts() \n",
    "df4 = df3.to_frame(name=None)\n",
    "df5 = df4.reset_index()\n",
    "df6 = df5.rename(columns={'drug_name':'number_of_targets'}, inplace=False)\n",
    "df7 = df6.rename(columns={'index':'drug_name'}, inplace=False)\n",
    "df7.head()"
   ]
  },
  {
   "cell_type": "code",
   "execution_count": 15,
   "metadata": {},
   "outputs": [
    {
     "data": {
      "text/html": [
       "<div>\n",
       "<style scoped>\n",
       "    .dataframe tbody tr th:only-of-type {\n",
       "        vertical-align: middle;\n",
       "    }\n",
       "\n",
       "    .dataframe tbody tr th {\n",
       "        vertical-align: top;\n",
       "    }\n",
       "\n",
       "    .dataframe thead th {\n",
       "        text-align: right;\n",
       "    }\n",
       "</style>\n",
       "<table border=\"1\" class=\"dataframe\">\n",
       "  <thead>\n",
       "    <tr style=\"text-align: right;\">\n",
       "      <th></th>\n",
       "      <th>target_id</th>\n",
       "      <th>target_freq</th>\n",
       "    </tr>\n",
       "  </thead>\n",
       "  <tbody>\n",
       "    <tr>\n",
       "      <th>0</th>\n",
       "      <td>BE0001072</td>\n",
       "      <td>137</td>\n",
       "    </tr>\n",
       "    <tr>\n",
       "      <th>1</th>\n",
       "      <td>BE0000048</td>\n",
       "      <td>112</td>\n",
       "    </tr>\n",
       "    <tr>\n",
       "      <th>2</th>\n",
       "      <td>BE0000123</td>\n",
       "      <td>111</td>\n",
       "    </tr>\n",
       "    <tr>\n",
       "      <th>3</th>\n",
       "      <td>BE0000756</td>\n",
       "      <td>108</td>\n",
       "    </tr>\n",
       "    <tr>\n",
       "      <th>4</th>\n",
       "      <td>BE0000451</td>\n",
       "      <td>105</td>\n",
       "    </tr>\n",
       "    <tr>\n",
       "      <th>5</th>\n",
       "      <td>BE0000442</td>\n",
       "      <td>104</td>\n",
       "    </tr>\n",
       "    <tr>\n",
       "      <th>6</th>\n",
       "      <td>BE0004796</td>\n",
       "      <td>101</td>\n",
       "    </tr>\n",
       "    <tr>\n",
       "      <th>7</th>\n",
       "      <td>BE0000322</td>\n",
       "      <td>100</td>\n",
       "    </tr>\n",
       "    <tr>\n",
       "      <th>8</th>\n",
       "      <td>BE0001739</td>\n",
       "      <td>99</td>\n",
       "    </tr>\n",
       "    <tr>\n",
       "      <th>9</th>\n",
       "      <td>BE0000092</td>\n",
       "      <td>97</td>\n",
       "    </tr>\n",
       "  </tbody>\n",
       "</table>\n",
       "</div>"
      ],
      "text/plain": [
       "   target_id  target_freq\n",
       "0  BE0001072          137\n",
       "1  BE0000048          112\n",
       "2  BE0000123          111\n",
       "3  BE0000756          108\n",
       "4  BE0000451          105\n",
       "5  BE0000442          104\n",
       "6  BE0004796          101\n",
       "7  BE0000322          100\n",
       "8  BE0001739           99\n",
       "9  BE0000092           97"
      ]
     },
     "execution_count": 15,
     "metadata": {},
     "output_type": "execute_result"
    }
   ],
   "source": [
    "target_freq = df['target_id'].value_counts() #number of drugs that target a given target ID in a series\n",
    "df8 = target_freq.to_frame(name=None)\n",
    "df9 = df8.reset_index()\n",
    "df10 = df9.rename(columns={'target_id':'target_freq'}, inplace=False)\n",
    "df11 = df10.rename(columns={'index':'target_id'}, inplace=False)\n",
    "df11.head(10)"
   ]
  },
  {
   "cell_type": "code",
   "execution_count": 16,
   "metadata": {},
   "outputs": [
    {
     "data": {
      "text/html": [
       "<div>\n",
       "<style scoped>\n",
       "    .dataframe tbody tr th:only-of-type {\n",
       "        vertical-align: middle;\n",
       "    }\n",
       "\n",
       "    .dataframe tbody tr th {\n",
       "        vertical-align: top;\n",
       "    }\n",
       "\n",
       "    .dataframe thead th {\n",
       "        text-align: right;\n",
       "    }\n",
       "</style>\n",
       "<table border=\"1\" class=\"dataframe\">\n",
       "  <thead>\n",
       "    <tr style=\"text-align: right;\">\n",
       "      <th></th>\n",
       "      <th>drug_name</th>\n",
       "      <th>number_of_targets</th>\n",
       "    </tr>\n",
       "  </thead>\n",
       "  <tbody>\n",
       "    <tr>\n",
       "      <th>1508</th>\n",
       "      <td>Aminomethylcyclohexane</td>\n",
       "      <td>2</td>\n",
       "    </tr>\n",
       "    <tr>\n",
       "      <th>1509</th>\n",
       "      <td>IGN311</td>\n",
       "      <td>2</td>\n",
       "    </tr>\n",
       "    <tr>\n",
       "      <th>1510</th>\n",
       "      <td>S-Methylcysteine</td>\n",
       "      <td>2</td>\n",
       "    </tr>\n",
       "    <tr>\n",
       "      <th>1511</th>\n",
       "      <td>Irosustat</td>\n",
       "      <td>2</td>\n",
       "    </tr>\n",
       "    <tr>\n",
       "      <th>1512</th>\n",
       "      <td>Veliparib</td>\n",
       "      <td>2</td>\n",
       "    </tr>\n",
       "  </tbody>\n",
       "</table>\n",
       "</div>"
      ],
      "text/plain": [
       "                   drug_name  number_of_targets\n",
       "1508  Aminomethylcyclohexane                  2\n",
       "1509                  IGN311                  2\n",
       "1510        S-Methylcysteine                  2\n",
       "1511               Irosustat                  2\n",
       "1512               Veliparib                  2"
      ]
     },
     "execution_count": 16,
     "metadata": {},
     "output_type": "execute_result"
    }
   ],
   "source": [
    "df12 = df7[(df7['number_of_targets'])<3]  \n",
    "df12.head()"
   ]
  },
  {
   "cell_type": "code",
   "execution_count": 17,
   "metadata": {},
   "outputs": [
    {
     "data": {
      "text/html": [
       "<div>\n",
       "<style scoped>\n",
       "    .dataframe tbody tr th:only-of-type {\n",
       "        vertical-align: middle;\n",
       "    }\n",
       "\n",
       "    .dataframe tbody tr th {\n",
       "        vertical-align: top;\n",
       "    }\n",
       "\n",
       "    .dataframe thead th {\n",
       "        text-align: right;\n",
       "    }\n",
       "</style>\n",
       "<table border=\"1\" class=\"dataframe\">\n",
       "  <thead>\n",
       "    <tr style=\"text-align: right;\">\n",
       "      <th></th>\n",
       "      <th>target_id</th>\n",
       "      <th>target_freq</th>\n",
       "    </tr>\n",
       "  </thead>\n",
       "  <tbody>\n",
       "    <tr>\n",
       "      <th>0</th>\n",
       "      <td>BE0001072</td>\n",
       "      <td>137</td>\n",
       "    </tr>\n",
       "    <tr>\n",
       "      <th>1</th>\n",
       "      <td>BE0000048</td>\n",
       "      <td>112</td>\n",
       "    </tr>\n",
       "    <tr>\n",
       "      <th>2</th>\n",
       "      <td>BE0000123</td>\n",
       "      <td>111</td>\n",
       "    </tr>\n",
       "    <tr>\n",
       "      <th>3</th>\n",
       "      <td>BE0000756</td>\n",
       "      <td>108</td>\n",
       "    </tr>\n",
       "    <tr>\n",
       "      <th>4</th>\n",
       "      <td>BE0000451</td>\n",
       "      <td>105</td>\n",
       "    </tr>\n",
       "  </tbody>\n",
       "</table>\n",
       "</div>"
      ],
      "text/plain": [
       "   target_id  target_freq\n",
       "0  BE0001072          137\n",
       "1  BE0000048          112\n",
       "2  BE0000123          111\n",
       "3  BE0000756          108\n",
       "4  BE0000451          105"
      ]
     },
     "execution_count": 17,
     "metadata": {},
     "output_type": "execute_result"
    }
   ],
   "source": [
    "df13 = df11[(df11['target_freq'])>1]\n",
    "df13.head()"
   ]
  },
  {
   "cell_type": "code",
   "execution_count": 18,
   "metadata": {},
   "outputs": [
    {
     "data": {
      "text/plain": [
       "array(['AGTR1', 'ACE', 'BDKRB1', 'ADRB1', 'ADRB2', 'REN', 'SLC12A1',\n",
       "       'SLC6A2', 'PTGFR', 'NPR1', 'CACNG1', 'SLC12A3', 'EDNRA', 'EDNRB',\n",
       "       'MME', 'ADRA2A', 'ADRA2B', 'ACE2', 'TH', 'SFRP4', 'PPARG', 'DDC',\n",
       "       'JUN', 'SLC18A2', 'CHRNA10', 'ATP1A1', 'AOC3', 'P4HA1', 'MAOB',\n",
       "       'MAOA', 'GUCY1A2', 'ADRA1A', 'CHRNA2', 'ABCC9', 'CACNA1I',\n",
       "       'CACNA1C', 'CACNA1G', 'NISCH', 'PTGIR', 'DRD1', 'DRD2', 'HTR2A',\n",
       "       'ABCB1'], dtype=object)"
      ]
     },
     "execution_count": 18,
     "metadata": {},
     "output_type": "execute_result"
    }
   ],
   "source": [
    "df14 = pd.merge(df_category1, df12, on='drug_name', how='inner')\n",
    "df15 = df14.dropna(subset= ['target_gene'])\n",
    "df16 = pd.merge(df15, df13, on='target_id', how='outer')  \n",
    "df17 = df16.dropna()\n",
    "df17['target_gene'].unique()\n",
    "#all cleaned genes for "
   ]
  },
  {
   "cell_type": "code",
   "execution_count": null,
   "metadata": {},
   "outputs": [],
   "source": []
  },
  {
   "cell_type": "code",
   "execution_count": null,
   "metadata": {},
   "outputs": [],
   "source": []
  },
  {
   "cell_type": "code",
   "execution_count": null,
   "metadata": {},
   "outputs": [],
   "source": []
  },
  {
   "cell_type": "code",
   "execution_count": null,
   "metadata": {},
   "outputs": [],
   "source": []
  },
  {
   "cell_type": "code",
   "execution_count": null,
   "metadata": {},
   "outputs": [],
   "source": []
  },
  {
   "cell_type": "code",
   "execution_count": null,
   "metadata": {},
   "outputs": [],
   "source": []
  }
 ],
 "metadata": {
  "kernelspec": {
   "display_name": "Python 3",
   "language": "python",
   "name": "python3"
  },
  "language_info": {
   "codemirror_mode": {
    "name": "ipython",
    "version": 3
   },
   "file_extension": ".py",
   "mimetype": "text/x-python",
   "name": "python",
   "nbconvert_exporter": "python",
   "pygments_lexer": "ipython3",
   "version": "3.6.5"
  }
 },
 "nbformat": 4,
 "nbformat_minor": 2
}
